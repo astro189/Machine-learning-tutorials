{
 "cells": [
  {
   "cell_type": "code",
   "execution_count": 1,
   "id": "cc2423bc",
   "metadata": {},
   "outputs": [],
   "source": [
    "import numpy as np\n",
    "import pandas as pd\n",
    "import matplotlib.pyplot as plt\n",
    "import math"
   ]
  },
  {
   "cell_type": "code",
   "execution_count": 2,
   "id": "4fcb027c",
   "metadata": {},
   "outputs": [
    {
     "data": {
      "text/html": [
       "<div>\n",
       "<style scoped>\n",
       "    .dataframe tbody tr th:only-of-type {\n",
       "        vertical-align: middle;\n",
       "    }\n",
       "\n",
       "    .dataframe tbody tr th {\n",
       "        vertical-align: top;\n",
       "    }\n",
       "\n",
       "    .dataframe thead th {\n",
       "        text-align: right;\n",
       "    }\n",
       "</style>\n",
       "<table border=\"1\" class=\"dataframe\">\n",
       "  <thead>\n",
       "    <tr style=\"text-align: right;\">\n",
       "      <th></th>\n",
       "      <th>index</th>\n",
       "      <th>rooms</th>\n",
       "      <th>retail_price</th>\n",
       "      <th>address</th>\n",
       "      <th>city</th>\n",
       "      <th>sqft</th>\n",
       "      <th>toilets</th>\n",
       "      <th>image_id</th>\n",
       "    </tr>\n",
       "  </thead>\n",
       "  <tbody>\n",
       "    <tr>\n",
       "      <th>0</th>\n",
       "      <td>5832</td>\n",
       "      <td>2.0</td>\n",
       "      <td>299000</td>\n",
       "      <td>81913 Calle Torbellino</td>\n",
       "      <td>Indio, CA</td>\n",
       "      <td>1295.0</td>\n",
       "      <td>2.0</td>\n",
       "      <td>5832</td>\n",
       "    </tr>\n",
       "    <tr>\n",
       "      <th>1</th>\n",
       "      <td>5584</td>\n",
       "      <td>3.0</td>\n",
       "      <td>299000</td>\n",
       "      <td>26076 Fiesta Place</td>\n",
       "      <td>Hemet, CA</td>\n",
       "      <td>1566.0</td>\n",
       "      <td>2.0</td>\n",
       "      <td>5584</td>\n",
       "    </tr>\n",
       "    <tr>\n",
       "      <th>2</th>\n",
       "      <td>9408</td>\n",
       "      <td>5.0</td>\n",
       "      <td>499990</td>\n",
       "      <td>34450 Fawn Ridge Place</td>\n",
       "      <td>Yucaipa, CA</td>\n",
       "      <td>3068.0</td>\n",
       "      <td>3.0</td>\n",
       "      <td>9408</td>\n",
       "    </tr>\n",
       "    <tr>\n",
       "      <th>3</th>\n",
       "      <td>4644</td>\n",
       "      <td>4.0</td>\n",
       "      <td>849900</td>\n",
       "      <td>26481 Montebello Place</td>\n",
       "      <td>Mission Viejo, CA</td>\n",
       "      <td>2230.0</td>\n",
       "      <td>2.1</td>\n",
       "      <td>4644</td>\n",
       "    </tr>\n",
       "    <tr>\n",
       "      <th>4</th>\n",
       "      <td>5739</td>\n",
       "      <td>3.0</td>\n",
       "      <td>333490</td>\n",
       "      <td>2562 Red Spruce Lane</td>\n",
       "      <td>San Jacinto, CA</td>\n",
       "      <td>1898.0</td>\n",
       "      <td>2.0</td>\n",
       "      <td>5739</td>\n",
       "    </tr>\n",
       "  </tbody>\n",
       "</table>\n",
       "</div>"
      ],
      "text/plain": [
       "   index  rooms  retail_price                 address               city  \\\n",
       "0   5832    2.0        299000  81913 Calle Torbellino          Indio, CA   \n",
       "1   5584    3.0        299000      26076 Fiesta Place          Hemet, CA   \n",
       "2   9408    5.0        499990  34450 Fawn Ridge Place        Yucaipa, CA   \n",
       "3   4644    4.0        849900  26481 Montebello Place  Mission Viejo, CA   \n",
       "4   5739    3.0        333490    2562 Red Spruce Lane    San Jacinto, CA   \n",
       "\n",
       "     sqft  toilets  image_id  \n",
       "0  1295.0      2.0      5832  \n",
       "1  1566.0      2.0      5584  \n",
       "2  3068.0      3.0      9408  \n",
       "3  2230.0      2.1      4644  \n",
       "4  1898.0      2.0      5739  "
      ]
     },
     "execution_count": 2,
     "metadata": {},
     "output_type": "execute_result"
    }
   ],
   "source": [
    "df=pd.read_csv('celesta_train.csv')\n",
    "df.head()"
   ]
  },
  {
   "cell_type": "code",
   "execution_count": 3,
   "id": "6e67a08e",
   "metadata": {},
   "outputs": [
    {
     "data": {
      "text/plain": [
       "(8400, 8)"
      ]
     },
     "execution_count": 3,
     "metadata": {},
     "output_type": "execute_result"
    }
   ],
   "source": [
    "df.shape"
   ]
  },
  {
   "cell_type": "code",
   "execution_count": 4,
   "id": "5357601e",
   "metadata": {},
   "outputs": [
    {
     "name": "stderr",
     "output_type": "stream",
     "text": [
      "C:\\Users\\Shirshak\\AppData\\Local\\Temp\\ipykernel_25536\\1134722465.py:1: FutureWarning: The default value of numeric_only in DataFrame.corr is deprecated. In a future version, it will default to False. Select only valid columns or specify the value of numeric_only to silence this warning.\n",
      "  df.corr()\n"
     ]
    },
    {
     "data": {
      "text/html": [
       "<div>\n",
       "<style scoped>\n",
       "    .dataframe tbody tr th:only-of-type {\n",
       "        vertical-align: middle;\n",
       "    }\n",
       "\n",
       "    .dataframe tbody tr th {\n",
       "        vertical-align: top;\n",
       "    }\n",
       "\n",
       "    .dataframe thead th {\n",
       "        text-align: right;\n",
       "    }\n",
       "</style>\n",
       "<table border=\"1\" class=\"dataframe\">\n",
       "  <thead>\n",
       "    <tr style=\"text-align: right;\">\n",
       "      <th></th>\n",
       "      <th>index</th>\n",
       "      <th>rooms</th>\n",
       "      <th>retail_price</th>\n",
       "      <th>sqft</th>\n",
       "      <th>toilets</th>\n",
       "      <th>image_id</th>\n",
       "    </tr>\n",
       "  </thead>\n",
       "  <tbody>\n",
       "    <tr>\n",
       "      <th>index</th>\n",
       "      <td>1.000000</td>\n",
       "      <td>0.100940</td>\n",
       "      <td>-0.008960</td>\n",
       "      <td>0.167421</td>\n",
       "      <td>0.117337</td>\n",
       "      <td>1.000000</td>\n",
       "    </tr>\n",
       "    <tr>\n",
       "      <th>rooms</th>\n",
       "      <td>0.100940</td>\n",
       "      <td>1.000000</td>\n",
       "      <td>0.353616</td>\n",
       "      <td>0.671695</td>\n",
       "      <td>0.671795</td>\n",
       "      <td>0.100940</td>\n",
       "    </tr>\n",
       "    <tr>\n",
       "      <th>retail_price</th>\n",
       "      <td>-0.008960</td>\n",
       "      <td>0.353616</td>\n",
       "      <td>1.000000</td>\n",
       "      <td>0.592803</td>\n",
       "      <td>0.522562</td>\n",
       "      <td>-0.008960</td>\n",
       "    </tr>\n",
       "    <tr>\n",
       "      <th>sqft</th>\n",
       "      <td>0.167421</td>\n",
       "      <td>0.671695</td>\n",
       "      <td>0.592803</td>\n",
       "      <td>1.000000</td>\n",
       "      <td>0.801854</td>\n",
       "      <td>0.167421</td>\n",
       "    </tr>\n",
       "    <tr>\n",
       "      <th>toilets</th>\n",
       "      <td>0.117337</td>\n",
       "      <td>0.671795</td>\n",
       "      <td>0.522562</td>\n",
       "      <td>0.801854</td>\n",
       "      <td>1.000000</td>\n",
       "      <td>0.117337</td>\n",
       "    </tr>\n",
       "    <tr>\n",
       "      <th>image_id</th>\n",
       "      <td>1.000000</td>\n",
       "      <td>0.100940</td>\n",
       "      <td>-0.008960</td>\n",
       "      <td>0.167421</td>\n",
       "      <td>0.117337</td>\n",
       "      <td>1.000000</td>\n",
       "    </tr>\n",
       "  </tbody>\n",
       "</table>\n",
       "</div>"
      ],
      "text/plain": [
       "                 index     rooms  retail_price      sqft   toilets  image_id\n",
       "index         1.000000  0.100940     -0.008960  0.167421  0.117337  1.000000\n",
       "rooms         0.100940  1.000000      0.353616  0.671695  0.671795  0.100940\n",
       "retail_price -0.008960  0.353616      1.000000  0.592803  0.522562 -0.008960\n",
       "sqft          0.167421  0.671695      0.592803  1.000000  0.801854  0.167421\n",
       "toilets       0.117337  0.671795      0.522562  0.801854  1.000000  0.117337\n",
       "image_id      1.000000  0.100940     -0.008960  0.167421  0.117337  1.000000"
      ]
     },
     "execution_count": 4,
     "metadata": {},
     "output_type": "execute_result"
    }
   ],
   "source": [
    "df.corr()"
   ]
  },
  {
   "cell_type": "code",
   "execution_count": 5,
   "id": "4d28fcf2",
   "metadata": {},
   "outputs": [
    {
     "data": {
      "text/html": [
       "<div>\n",
       "<style scoped>\n",
       "    .dataframe tbody tr th:only-of-type {\n",
       "        vertical-align: middle;\n",
       "    }\n",
       "\n",
       "    .dataframe tbody tr th {\n",
       "        vertical-align: top;\n",
       "    }\n",
       "\n",
       "    .dataframe thead th {\n",
       "        text-align: right;\n",
       "    }\n",
       "</style>\n",
       "<table border=\"1\" class=\"dataframe\">\n",
       "  <thead>\n",
       "    <tr style=\"text-align: right;\">\n",
       "      <th></th>\n",
       "      <th>index</th>\n",
       "      <th>rooms</th>\n",
       "      <th>retail_price</th>\n",
       "      <th>sqft</th>\n",
       "      <th>toilets</th>\n",
       "      <th>image_id</th>\n",
       "    </tr>\n",
       "  </thead>\n",
       "  <tbody>\n",
       "    <tr>\n",
       "      <th>count</th>\n",
       "      <td>8400.000000</td>\n",
       "      <td>8204.000000</td>\n",
       "      <td>8.400000e+03</td>\n",
       "      <td>8253.000000</td>\n",
       "      <td>8400.000000</td>\n",
       "      <td>8400.000000</td>\n",
       "    </tr>\n",
       "    <tr>\n",
       "      <th>mean</th>\n",
       "      <td>6011.068690</td>\n",
       "      <td>3.484154</td>\n",
       "      <td>6.746794e+05</td>\n",
       "      <td>2162.801648</td>\n",
       "      <td>2.451714</td>\n",
       "      <td>6011.068690</td>\n",
       "    </tr>\n",
       "    <tr>\n",
       "      <th>std</th>\n",
       "      <td>3473.684303</td>\n",
       "      <td>1.028957</td>\n",
       "      <td>3.901718e+05</td>\n",
       "      <td>1050.270982</td>\n",
       "      <td>0.941510</td>\n",
       "      <td>3473.684303</td>\n",
       "    </tr>\n",
       "    <tr>\n",
       "      <th>min</th>\n",
       "      <td>0.000000</td>\n",
       "      <td>1.000000</td>\n",
       "      <td>1.950000e+05</td>\n",
       "      <td>280.000000</td>\n",
       "      <td>0.000000</td>\n",
       "      <td>0.000000</td>\n",
       "    </tr>\n",
       "    <tr>\n",
       "      <th>25%</th>\n",
       "      <td>2998.750000</td>\n",
       "      <td>3.000000</td>\n",
       "      <td>3.990000e+05</td>\n",
       "      <td>1386.000000</td>\n",
       "      <td>2.000000</td>\n",
       "      <td>2998.750000</td>\n",
       "    </tr>\n",
       "    <tr>\n",
       "      <th>50%</th>\n",
       "      <td>6066.500000</td>\n",
       "      <td>3.000000</td>\n",
       "      <td>5.854500e+05</td>\n",
       "      <td>1919.000000</td>\n",
       "      <td>2.100000</td>\n",
       "      <td>6066.500000</td>\n",
       "    </tr>\n",
       "    <tr>\n",
       "      <th>75%</th>\n",
       "      <td>9031.250000</td>\n",
       "      <td>4.000000</td>\n",
       "      <td>7.990000e+05</td>\n",
       "      <td>2761.000000</td>\n",
       "      <td>3.000000</td>\n",
       "      <td>9031.250000</td>\n",
       "    </tr>\n",
       "    <tr>\n",
       "      <th>max</th>\n",
       "      <td>11999.000000</td>\n",
       "      <td>10.000000</td>\n",
       "      <td>2.000000e+06</td>\n",
       "      <td>11183.000000</td>\n",
       "      <td>8.100000</td>\n",
       "      <td>11999.000000</td>\n",
       "    </tr>\n",
       "  </tbody>\n",
       "</table>\n",
       "</div>"
      ],
      "text/plain": [
       "              index        rooms  retail_price          sqft      toilets  \\\n",
       "count   8400.000000  8204.000000  8.400000e+03   8253.000000  8400.000000   \n",
       "mean    6011.068690     3.484154  6.746794e+05   2162.801648     2.451714   \n",
       "std     3473.684303     1.028957  3.901718e+05   1050.270982     0.941510   \n",
       "min        0.000000     1.000000  1.950000e+05    280.000000     0.000000   \n",
       "25%     2998.750000     3.000000  3.990000e+05   1386.000000     2.000000   \n",
       "50%     6066.500000     3.000000  5.854500e+05   1919.000000     2.100000   \n",
       "75%     9031.250000     4.000000  7.990000e+05   2761.000000     3.000000   \n",
       "max    11999.000000    10.000000  2.000000e+06  11183.000000     8.100000   \n",
       "\n",
       "           image_id  \n",
       "count   8400.000000  \n",
       "mean    6011.068690  \n",
       "std     3473.684303  \n",
       "min        0.000000  \n",
       "25%     2998.750000  \n",
       "50%     6066.500000  \n",
       "75%     9031.250000  \n",
       "max    11999.000000  "
      ]
     },
     "execution_count": 5,
     "metadata": {},
     "output_type": "execute_result"
    }
   ],
   "source": [
    "df.describe()"
   ]
  },
  {
   "cell_type": "code",
   "execution_count": 6,
   "id": "294575b7",
   "metadata": {},
   "outputs": [],
   "source": [
    "data=df.copy()"
   ]
  },
  {
   "cell_type": "markdown",
   "id": "fdc6bca5",
   "metadata": {},
   "source": [
    "# DATA ANALYSIS"
   ]
  },
  {
   "cell_type": "code",
   "execution_count": 7,
   "id": "f9453090",
   "metadata": {},
   "outputs": [
    {
     "data": {
      "text/plain": [
       "['index', 'rooms', 'retail_price', 'sqft', 'toilets', 'image_id']"
      ]
     },
     "execution_count": 7,
     "metadata": {},
     "output_type": "execute_result"
    }
   ],
   "source": [
    "numerical=[column for column in data.columns if data[column].dtype!='O']\n",
    "numerical"
   ]
  },
  {
   "cell_type": "code",
   "execution_count": 8,
   "id": "bc204b8e",
   "metadata": {},
   "outputs": [
    {
     "data": {
      "text/plain": [
       "['rooms', 'toilets']"
      ]
     },
     "execution_count": 8,
     "metadata": {},
     "output_type": "execute_result"
    }
   ],
   "source": [
    "discrete=[column for column in numerical if len(data[column].unique())<=30]\n",
    "discrete"
   ]
  },
  {
   "cell_type": "code",
   "execution_count": 9,
   "id": "f195da36",
   "metadata": {},
   "outputs": [
    {
     "data": {
      "text/plain": [
       "['index', 'retail_price', 'sqft', 'image_id']"
      ]
     },
     "execution_count": 9,
     "metadata": {},
     "output_type": "execute_result"
    }
   ],
   "source": [
    "continuous=[column for column in numerical if len(data[column].unique())>30]\n",
    "continuous"
   ]
  },
  {
   "cell_type": "code",
   "execution_count": 10,
   "id": "37ee7e73",
   "metadata": {},
   "outputs": [
    {
     "data": {
      "image/png": "[encoded data removed]",
      "text/plain": [
       "<Figure size 640x480 with 1 Axes>"
      ]
     },
     "metadata": {},
     "output_type": "display_data"
    },
    {
     "data": {
      "image/png": "[encoded data removed]",
      "text/plain": [
       "<Figure size 640x480 with 1 Axes>"
      ]
     },
     "metadata": {},
     "output_type": "display_data"
    }
   ],
   "source": [
    "for feature in discrete:\n",
    "    data.groupby(feature)['retail_price'].median().plot.bar()\n",
    "    plt.ylabel('retail_price')\n",
    "    plt.show()"
   ]
  },
  {
   "cell_type": "code",
   "execution_count": 12,
   "id": "11f33fe7",
   "metadata": {},
   "outputs": [
    {
     "data": {
      "image/png": "[encoded data removed]",
      "text/plain": [
       "<Figure size 640x480 with 1 Axes>"
      ]
     },
     "metadata": {},
     "output_type": "display_data"
    },
    {
     "data": {
      "image/png": "[encoded data removed]",
      "text/plain": [
       "<Figure size 640x480 with 1 Axes>"
      ]
     },
     "metadata": {},
     "output_type": "display_data"
    },
    {
     "data": {
      "image/png": "[encoded data removed]",
      "text/plain": [
       "<Figure size 640x480 with 1 Axes>"
      ]
     },
     "metadata": {},
     "output_type": "display_data"
    }
   ],
   "source": [
    "for feature in continuous:\n",
    "    if feature!='retail_price':\n",
    "        data.groupby(feature)['retail_price'].median().plot.hist(bins=25)\n",
    "        plt.xlabel('retail_price')\n",
    "        plt.ylabel(feature)\n",
    "        plt.show()"
   ]
  },
  {
   "cell_type": "code",
   "execution_count": 13,
   "id": "0c18cb70",
   "metadata": {},
   "outputs": [
    {
     "name": "stdout",
     "output_type": "stream",
     "text": [
      "index : -1.073566665980106\n",
      "retail_price : 0.5085538247210208\n",
      "sqft : 0.27768538997934017\n",
      "image_id : -1.073566665980106\n"
     ]
    }
   ],
   "source": [
    "for feature in continuous:\n",
    "    print(feature,':',np.sqrt(np.sqrt(data[feature])).skew())"
   ]
  },
  {
   "cell_type": "code",
   "execution_count": 14,
   "id": "f1eb5cb2",
   "metadata": {},
   "outputs": [
    {
     "name": "stdout",
     "output_type": "stream",
     "text": [
      "rooms : 0.4589525120794743\n",
      "toilets : 0.8912931241657192\n"
     ]
    }
   ],
   "source": [
    "for feature in discrete:\n",
    "    print(feature,':',data[feature].skew())"
   ]
  },
  {
   "cell_type": "code",
   "execution_count": 15,
   "id": "dd0f9bf7",
   "metadata": {},
   "outputs": [],
   "source": [
    "#Hence all the curves are positively skewed "
   ]
  },
  {
   "cell_type": "code",
   "execution_count": 18,
   "id": "60a17b36",
   "metadata": {},
   "outputs": [
    {
     "name": "stderr",
     "output_type": "stream",
     "text": [
      "C:\\Users\\Shirshak\\anaconda3\\envs\\tensorflow\\lib\\site-packages\\pandas\\core\\arraylike.py:402: RuntimeWarning: divide by zero encountered in log\n",
      "  result = getattr(ufunc, method)(*inputs, **kwargs)\n",
      "C:\\Users\\Shirshak\\anaconda3\\envs\\tensorflow\\lib\\site-packages\\pandas\\core\\arraylike.py:402: RuntimeWarning: invalid value encountered in log\n",
      "  result = getattr(ufunc, method)(*inputs, **kwargs)\n"
     ]
    },
    {
     "data": {
      "image/png": "[encoded data removed]",
      "text/plain": [
       "<Figure size 640x480 with 1 Axes>"
      ]
     },
     "metadata": {},
     "output_type": "display_data"
    },
    {
     "data": {
      "image/png": "[encoded data removed]",
      "text/plain": [
       "<Figure size 640x480 with 1 Axes>"
      ]
     },
     "metadata": {},
     "output_type": "display_data"
    },
    {
     "name": "stderr",
     "output_type": "stream",
     "text": [
      "C:\\Users\\Shirshak\\anaconda3\\envs\\tensorflow\\lib\\site-packages\\pandas\\core\\arraylike.py:402: RuntimeWarning: divide by zero encountered in log\n",
      "  result = getattr(ufunc, method)(*inputs, **kwargs)\n",
      "C:\\Users\\Shirshak\\anaconda3\\envs\\tensorflow\\lib\\site-packages\\pandas\\core\\arraylike.py:402: RuntimeWarning: invalid value encountered in log\n",
      "  result = getattr(ufunc, method)(*inputs, **kwargs)\n"
     ]
    },
    {
     "data": {
      "image/png": "[encoded data removed]",
      "text/plain": [
       "<Figure size 640x480 with 1 Axes>"
      ]
     },
     "metadata": {},
     "output_type": "display_data"
    }
   ],
   "source": [
    "for feature in continuous:\n",
    "    if feature!='retail_price':\n",
    "        data[feature]=np.log(data[feature])\n",
    "        data.groupby(feature)['retail_price'].median().plot.hist(bins=25)\n",
    "        plt.xlabel('retail_price')\n",
    "        plt.ylabel(feature)\n",
    "        plt.show()"
   ]
  },
  {
   "cell_type": "code",
   "execution_count": 19,
   "id": "47f24f31",
   "metadata": {},
   "outputs": [
    {
     "data": {
      "image/png": "[encoded data removed]",
      "text/plain": [
       "<Figure size 640x480 with 1 Axes>"
      ]
     },
     "metadata": {},
     "output_type": "display_data"
    },
    {
     "data": {
      "image/png": "[encoded data removed]",
      "text/plain": [
       "<Figure size 640x480 with 1 Axes>"
      ]
     },
     "metadata": {},
     "output_type": "display_data"
    },
    {
     "data": {
      "image/png": "[encoded data removed]",
      "text/plain": [
       "<Figure size 640x480 with 1 Axes>"
      ]
     },
     "metadata": {},
     "output_type": "display_data"
    },
    {
     "data": {
      "image/png": "[encoded data removed]",
      "text/plain": [
       "<Figure size 640x480 with 1 Axes>"
      ]
     },
     "metadata": {},
     "output_type": "display_data"
    }
   ],
   "source": [
    "data=df.copy()\n",
    "for feature in continuous:\n",
    "    plt.boxplot(data[feature])\n",
    "    plt.ylabel(feature)\n",
    "    plt.show()"
   ]
  },
  {
   "cell_type": "code",
   "execution_count": 20,
   "id": "3b113847",
   "metadata": {},
   "outputs": [
    {
     "data": {
      "text/plain": [
       "['address', 'city']"
      ]
     },
     "execution_count": 20,
     "metadata": {},
     "output_type": "execute_result"
    }
   ],
   "source": [
    "categorical=[column for column in data.columns if data[column].dtype=='O']\n",
    "categorical"
   ]
  },
  {
   "cell_type": "code",
   "execution_count": 21,
   "id": "a576af0f",
   "metadata": {},
   "outputs": [
    {
     "name": "stdout",
     "output_type": "stream",
     "text": [
      "address 7243\n",
      "city 351\n"
     ]
    }
   ],
   "source": [
    "for feature in categorical:\n",
    "    print(feature,len(data[feature].unique()))"
   ]
  },
  {
   "cell_type": "code",
   "execution_count": 22,
   "id": "3143b3b9",
   "metadata": {},
   "outputs": [],
   "source": [
    "#Hence we have high cardanality"
   ]
  },
  {
   "cell_type": "markdown",
   "id": "f58a87f4",
   "metadata": {},
   "source": [
    " # FEATURE ENGINEERING "
   ]
  },
  {
   "cell_type": "code",
   "execution_count": 23,
   "id": "5fc1a4fa",
   "metadata": {},
   "outputs": [
    {
     "name": "stdout",
     "output_type": "stream",
     "text": [
      "196\n",
      "147\n"
     ]
    }
   ],
   "source": [
    "data=df.copy()\n",
    "nan_feature=[column for column in data.columns if data[column].isnull().sum()>1]\n",
    "nan_feature\n",
    "for feature in nan_feature:\n",
    "    print(data[feature].isnull().sum())"
   ]
  },
  {
   "cell_type": "code",
   "execution_count": 24,
   "id": "0de8ac38",
   "metadata": {},
   "outputs": [],
   "source": [
    "for feature in nan_feature:\n",
    "    median=data[feature].median()\n",
    "    data[feature].fillna(median,inplace=True)"
   ]
  },
  {
   "cell_type": "code",
   "execution_count": 25,
   "id": "dd7af0a6",
   "metadata": {},
   "outputs": [
    {
     "name": "stdout",
     "output_type": "stream",
     "text": [
      "0 0\n"
     ]
    }
   ],
   "source": [
    "r=data['rooms'].isnull().sum()\n",
    "s=data['sqft'].isnull().sum()\n",
    "print(r,s)"
   ]
  },
  {
   "cell_type": "code",
   "execution_count": 26,
   "id": "67f6db5d",
   "metadata": {},
   "outputs": [
    {
     "data": {
      "text/html": [
       "<div>\n",
       "<style scoped>\n",
       "    .dataframe tbody tr th:only-of-type {\n",
       "        vertical-align: middle;\n",
       "    }\n",
       "\n",
       "    .dataframe tbody tr th {\n",
       "        vertical-align: top;\n",
       "    }\n",
       "\n",
       "    .dataframe thead th {\n",
       "        text-align: right;\n",
       "    }\n",
       "</style>\n",
       "<table border=\"1\" class=\"dataframe\">\n",
       "  <thead>\n",
       "    <tr style=\"text-align: right;\">\n",
       "      <th></th>\n",
       "      <th>index</th>\n",
       "      <th>rooms</th>\n",
       "      <th>retail_price</th>\n",
       "      <th>address</th>\n",
       "      <th>city</th>\n",
       "      <th>sqft</th>\n",
       "      <th>toilets</th>\n",
       "      <th>image_id</th>\n",
       "    </tr>\n",
       "  </thead>\n",
       "  <tbody>\n",
       "    <tr>\n",
       "      <th>0</th>\n",
       "      <td>5832</td>\n",
       "      <td>2.0</td>\n",
       "      <td>299000</td>\n",
       "      <td>81913 Calle Torbellino</td>\n",
       "      <td>Indio, CA</td>\n",
       "      <td>1295.0</td>\n",
       "      <td>2.0</td>\n",
       "      <td>5832</td>\n",
       "    </tr>\n",
       "    <tr>\n",
       "      <th>1</th>\n",
       "      <td>5584</td>\n",
       "      <td>3.0</td>\n",
       "      <td>299000</td>\n",
       "      <td>26076 Fiesta Place</td>\n",
       "      <td>Hemet, CA</td>\n",
       "      <td>1566.0</td>\n",
       "      <td>2.0</td>\n",
       "      <td>5584</td>\n",
       "    </tr>\n",
       "    <tr>\n",
       "      <th>2</th>\n",
       "      <td>9408</td>\n",
       "      <td>5.0</td>\n",
       "      <td>499990</td>\n",
       "      <td>34450 Fawn Ridge Place</td>\n",
       "      <td>Yucaipa, CA</td>\n",
       "      <td>3068.0</td>\n",
       "      <td>3.0</td>\n",
       "      <td>9408</td>\n",
       "    </tr>\n",
       "    <tr>\n",
       "      <th>3</th>\n",
       "      <td>4644</td>\n",
       "      <td>4.0</td>\n",
       "      <td>849900</td>\n",
       "      <td>26481 Montebello Place</td>\n",
       "      <td>Mission Viejo, CA</td>\n",
       "      <td>2230.0</td>\n",
       "      <td>2.1</td>\n",
       "      <td>4644</td>\n",
       "    </tr>\n",
       "    <tr>\n",
       "      <th>4</th>\n",
       "      <td>5739</td>\n",
       "      <td>3.0</td>\n",
       "      <td>333490</td>\n",
       "      <td>2562 Red Spruce Lane</td>\n",
       "      <td>San Jacinto, CA</td>\n",
       "      <td>1898.0</td>\n",
       "      <td>2.0</td>\n",
       "      <td>5739</td>\n",
       "    </tr>\n",
       "    <tr>\n",
       "      <th>...</th>\n",
       "      <td>...</td>\n",
       "      <td>...</td>\n",
       "      <td>...</td>\n",
       "      <td>...</td>\n",
       "      <td>...</td>\n",
       "      <td>...</td>\n",
       "      <td>...</td>\n",
       "      <td>...</td>\n",
       "    </tr>\n",
       "    <tr>\n",
       "      <th>8395</th>\n",
       "      <td>792</td>\n",
       "      <td>4.0</td>\n",
       "      <td>289990</td>\n",
       "      <td>45228 Lorimer Avenue</td>\n",
       "      <td>Lancaster, CA</td>\n",
       "      <td>1498.0</td>\n",
       "      <td>2.0</td>\n",
       "      <td>792</td>\n",
       "    </tr>\n",
       "    <tr>\n",
       "      <th>8396</th>\n",
       "      <td>10671</td>\n",
       "      <td>4.0</td>\n",
       "      <td>895000</td>\n",
       "      <td>265 Old Toll Road</td>\n",
       "      <td>Lake Arrowhead, CA</td>\n",
       "      <td>2981.0</td>\n",
       "      <td>3.0</td>\n",
       "      <td>10671</td>\n",
       "    </tr>\n",
       "    <tr>\n",
       "      <th>8397</th>\n",
       "      <td>11650</td>\n",
       "      <td>3.0</td>\n",
       "      <td>479900</td>\n",
       "      <td>5925 Balmoral Dr</td>\n",
       "      <td>San Diego, CA</td>\n",
       "      <td>1272.0</td>\n",
       "      <td>1.0</td>\n",
       "      <td>11650</td>\n",
       "    </tr>\n",
       "    <tr>\n",
       "      <th>8398</th>\n",
       "      <td>2134</td>\n",
       "      <td>4.0</td>\n",
       "      <td>599000</td>\n",
       "      <td>28137 Stonington Lane</td>\n",
       "      <td>Saugus, CA</td>\n",
       "      <td>1924.0</td>\n",
       "      <td>3.0</td>\n",
       "      <td>2134</td>\n",
       "    </tr>\n",
       "    <tr>\n",
       "      <th>8399</th>\n",
       "      <td>6812</td>\n",
       "      <td>5.0</td>\n",
       "      <td>549900</td>\n",
       "      <td>31666 Sundance Way</td>\n",
       "      <td>Lake Elsinore, CA</td>\n",
       "      <td>2867.0</td>\n",
       "      <td>3.0</td>\n",
       "      <td>6812</td>\n",
       "    </tr>\n",
       "  </tbody>\n",
       "</table>\n",
       "<p>8400 rows × 8 columns</p>\n",
       "</div>"
      ],
      "text/plain": [
       "      index  rooms  retail_price                 address                city  \\\n",
       "0      5832    2.0        299000  81913 Calle Torbellino           Indio, CA   \n",
       "1      5584    3.0        299000      26076 Fiesta Place           Hemet, CA   \n",
       "2      9408    5.0        499990  34450 Fawn Ridge Place         Yucaipa, CA   \n",
       "3      4644    4.0        849900  26481 Montebello Place   Mission Viejo, CA   \n",
       "4      5739    3.0        333490    2562 Red Spruce Lane     San Jacinto, CA   \n",
       "...     ...    ...           ...                     ...                 ...   \n",
       "8395    792    4.0        289990    45228 Lorimer Avenue       Lancaster, CA   \n",
       "8396  10671    4.0        895000       265 Old Toll Road  Lake Arrowhead, CA   \n",
       "8397  11650    3.0        479900        5925 Balmoral Dr       San Diego, CA   \n",
       "8398   2134    4.0        599000   28137 Stonington Lane          Saugus, CA   \n",
       "8399   6812    5.0        549900      31666 Sundance Way   Lake Elsinore, CA   \n",
       "\n",
       "        sqft  toilets  image_id  \n",
       "0     1295.0      2.0      5832  \n",
       "1     1566.0      2.0      5584  \n",
       "2     3068.0      3.0      9408  \n",
       "3     2230.0      2.1      4644  \n",
       "4     1898.0      2.0      5739  \n",
       "...      ...      ...       ...  \n",
       "8395  1498.0      2.0       792  \n",
       "8396  2981.0      3.0     10671  \n",
       "8397  1272.0      1.0     11650  \n",
       "8398  1924.0      3.0      2134  \n",
       "8399  2867.0      3.0      6812  \n",
       "\n",
       "[8400 rows x 8 columns]"
      ]
     },
     "execution_count": 26,
     "metadata": {},
     "output_type": "execute_result"
    }
   ],
   "source": [
    "data"
   ]
  },
  {
   "cell_type": "code",
   "execution_count": 27,
   "id": "3c14fa10",
   "metadata": {},
   "outputs": [],
   "source": [
    "#dealing with categorical values"
   ]
  },
  {
   "cell_type": "code",
   "execution_count": 6,
   "id": "b944e7ee",
   "metadata": {},
   "outputs": [
    {
     "ename": "NameError",
     "evalue": "name 'data' is not defined",
     "output_type": "error",
     "traceback": [
      "\u001b[1;31m---------------------------------------------------------------------------\u001b[0m",
      "\u001b[1;31mNameError\u001b[0m                                 Traceback (most recent call last)",
      "Cell \u001b[1;32mIn[6], line 1\u001b[0m\n\u001b[1;32m----> 1\u001b[0m count\u001b[38;5;241m=\u001b[39m\u001b[43mdata\u001b[49m[\u001b[38;5;124m'\u001b[39m\u001b[38;5;124mcity\u001b[39m\u001b[38;5;124m'\u001b[39m]\u001b[38;5;241m.\u001b[39mvalue_counts()\n",
      "\u001b[1;31mNameError\u001b[0m: name 'data' is not defined"
     ]
    }
   ],
   "source": [
    "count=data['city'].value_counts()"
   ]
  },
  {
   "cell_type": "code",
   "execution_count": 29,
   "id": "34ae00a5",
   "metadata": {},
   "outputs": [],
   "source": [
    "for city,val in zip(count.index,count):\n",
    "    if val<20:\n",
    "        data.replace(city,'other',inplace=True)"
   ]
  },
  {
   "cell_type": "code",
   "execution_count": 30,
   "id": "d488554d",
   "metadata": {},
   "outputs": [
    {
     "data": {
      "text/html": [
       "<div>\n",
       "<style scoped>\n",
       "    .dataframe tbody tr th:only-of-type {\n",
       "        vertical-align: middle;\n",
       "    }\n",
       "\n",
       "    .dataframe tbody tr th {\n",
       "        vertical-align: top;\n",
       "    }\n",
       "\n",
       "    .dataframe thead th {\n",
       "        text-align: right;\n",
       "    }\n",
       "</style>\n",
       "<table border=\"1\" class=\"dataframe\">\n",
       "  <thead>\n",
       "    <tr style=\"text-align: right;\">\n",
       "      <th></th>\n",
       "      <th>index</th>\n",
       "      <th>rooms</th>\n",
       "      <th>retail_price</th>\n",
       "      <th>address</th>\n",
       "      <th>city</th>\n",
       "      <th>sqft</th>\n",
       "      <th>toilets</th>\n",
       "      <th>image_id</th>\n",
       "    </tr>\n",
       "  </thead>\n",
       "  <tbody>\n",
       "    <tr>\n",
       "      <th>0</th>\n",
       "      <td>5832</td>\n",
       "      <td>2.0</td>\n",
       "      <td>299000</td>\n",
       "      <td>81913 Calle Torbellino</td>\n",
       "      <td>Indio, CA</td>\n",
       "      <td>1295.0</td>\n",
       "      <td>2.0</td>\n",
       "      <td>5832</td>\n",
       "    </tr>\n",
       "    <tr>\n",
       "      <th>1</th>\n",
       "      <td>5584</td>\n",
       "      <td>3.0</td>\n",
       "      <td>299000</td>\n",
       "      <td>26076 Fiesta Place</td>\n",
       "      <td>Hemet, CA</td>\n",
       "      <td>1566.0</td>\n",
       "      <td>2.0</td>\n",
       "      <td>5584</td>\n",
       "    </tr>\n",
       "    <tr>\n",
       "      <th>2</th>\n",
       "      <td>9408</td>\n",
       "      <td>5.0</td>\n",
       "      <td>499990</td>\n",
       "      <td>34450 Fawn Ridge Place</td>\n",
       "      <td>Yucaipa, CA</td>\n",
       "      <td>3068.0</td>\n",
       "      <td>3.0</td>\n",
       "      <td>9408</td>\n",
       "    </tr>\n",
       "    <tr>\n",
       "      <th>3</th>\n",
       "      <td>4644</td>\n",
       "      <td>4.0</td>\n",
       "      <td>849900</td>\n",
       "      <td>26481 Montebello Place</td>\n",
       "      <td>Mission Viejo, CA</td>\n",
       "      <td>2230.0</td>\n",
       "      <td>2.1</td>\n",
       "      <td>4644</td>\n",
       "    </tr>\n",
       "    <tr>\n",
       "      <th>4</th>\n",
       "      <td>5739</td>\n",
       "      <td>3.0</td>\n",
       "      <td>333490</td>\n",
       "      <td>2562 Red Spruce Lane</td>\n",
       "      <td>San Jacinto, CA</td>\n",
       "      <td>1898.0</td>\n",
       "      <td>2.0</td>\n",
       "      <td>5739</td>\n",
       "    </tr>\n",
       "    <tr>\n",
       "      <th>...</th>\n",
       "      <td>...</td>\n",
       "      <td>...</td>\n",
       "      <td>...</td>\n",
       "      <td>...</td>\n",
       "      <td>...</td>\n",
       "      <td>...</td>\n",
       "      <td>...</td>\n",
       "      <td>...</td>\n",
       "    </tr>\n",
       "    <tr>\n",
       "      <th>8395</th>\n",
       "      <td>792</td>\n",
       "      <td>4.0</td>\n",
       "      <td>289990</td>\n",
       "      <td>45228 Lorimer Avenue</td>\n",
       "      <td>Lancaster, CA</td>\n",
       "      <td>1498.0</td>\n",
       "      <td>2.0</td>\n",
       "      <td>792</td>\n",
       "    </tr>\n",
       "    <tr>\n",
       "      <th>8396</th>\n",
       "      <td>10671</td>\n",
       "      <td>4.0</td>\n",
       "      <td>895000</td>\n",
       "      <td>265 Old Toll Road</td>\n",
       "      <td>Lake Arrowhead, CA</td>\n",
       "      <td>2981.0</td>\n",
       "      <td>3.0</td>\n",
       "      <td>10671</td>\n",
       "    </tr>\n",
       "    <tr>\n",
       "      <th>8397</th>\n",
       "      <td>11650</td>\n",
       "      <td>3.0</td>\n",
       "      <td>479900</td>\n",
       "      <td>5925 Balmoral Dr</td>\n",
       "      <td>San Diego, CA</td>\n",
       "      <td>1272.0</td>\n",
       "      <td>1.0</td>\n",
       "      <td>11650</td>\n",
       "    </tr>\n",
       "    <tr>\n",
       "      <th>8398</th>\n",
       "      <td>2134</td>\n",
       "      <td>4.0</td>\n",
       "      <td>599000</td>\n",
       "      <td>28137 Stonington Lane</td>\n",
       "      <td>other</td>\n",
       "      <td>1924.0</td>\n",
       "      <td>3.0</td>\n",
       "      <td>2134</td>\n",
       "    </tr>\n",
       "    <tr>\n",
       "      <th>8399</th>\n",
       "      <td>6812</td>\n",
       "      <td>5.0</td>\n",
       "      <td>549900</td>\n",
       "      <td>31666 Sundance Way</td>\n",
       "      <td>Lake Elsinore, CA</td>\n",
       "      <td>2867.0</td>\n",
       "      <td>3.0</td>\n",
       "      <td>6812</td>\n",
       "    </tr>\n",
       "  </tbody>\n",
       "</table>\n",
       "<p>8400 rows × 8 columns</p>\n",
       "</div>"
      ],
      "text/plain": [
       "      index  rooms  retail_price                 address                city  \\\n",
       "0      5832    2.0        299000  81913 Calle Torbellino           Indio, CA   \n",
       "1      5584    3.0        299000      26076 Fiesta Place           Hemet, CA   \n",
       "2      9408    5.0        499990  34450 Fawn Ridge Place         Yucaipa, CA   \n",
       "3      4644    4.0        849900  26481 Montebello Place   Mission Viejo, CA   \n",
       "4      5739    3.0        333490    2562 Red Spruce Lane     San Jacinto, CA   \n",
       "...     ...    ...           ...                     ...                 ...   \n",
       "8395    792    4.0        289990    45228 Lorimer Avenue       Lancaster, CA   \n",
       "8396  10671    4.0        895000       265 Old Toll Road  Lake Arrowhead, CA   \n",
       "8397  11650    3.0        479900        5925 Balmoral Dr       San Diego, CA   \n",
       "8398   2134    4.0        599000   28137 Stonington Lane               other   \n",
       "8399   6812    5.0        549900      31666 Sundance Way   Lake Elsinore, CA   \n",
       "\n",
       "        sqft  toilets  image_id  \n",
       "0     1295.0      2.0      5832  \n",
       "1     1566.0      2.0      5584  \n",
       "2     3068.0      3.0      9408  \n",
       "3     2230.0      2.1      4644  \n",
       "4     1898.0      2.0      5739  \n",
       "...      ...      ...       ...  \n",
       "8395  1498.0      2.0       792  \n",
       "8396  2981.0      3.0     10671  \n",
       "8397  1272.0      1.0     11650  \n",
       "8398  1924.0      3.0      2134  \n",
       "8399  2867.0      3.0      6812  \n",
       "\n",
       "[8400 rows x 8 columns]"
      ]
     },
     "execution_count": 30,
     "metadata": {},
     "output_type": "execute_result"
    }
   ],
   "source": [
    "data"
   ]
  },
  {
   "cell_type": "code",
   "execution_count": 31,
   "id": "af306c73",
   "metadata": {},
   "outputs": [
    {
     "data": {
      "text/plain": [
       "array(['Indio, CA', 'Hemet, CA', 'Yucaipa, CA', 'Mission Viejo, CA',\n",
       "       'San Jacinto, CA', 'San Diego, CA', 'Chula Vista, CA',\n",
       "       'Indian Wells, CA', 'Colton, CA', 'Lake Arrowhead, CA',\n",
       "       'San Bernardino, CA', 'other', 'Carlsbad, CA', 'San Clemente, CA',\n",
       "       'Oceanside, CA', 'Ladera Ranch, CA', 'Perris, CA', 'Whittier, CA',\n",
       "       'Norwalk, CA', 'Sylmar, CA', 'Los Angeles, CA', 'Lancaster, CA',\n",
       "       'Chino Hills, CA', 'Westminster, CA', 'Palmdale, CA',\n",
       "       'Anaheim, CA', 'Garden Grove, CA', 'West Covina, CA',\n",
       "       'Desert Hot Springs, CA', 'Upland, CA', 'Corona, CA',\n",
       "       'Compton, CA', 'Bakersfield, CA', 'Adelanto, CA', 'Irvine, CA',\n",
       "       'Anaheim Hills, CA', 'Valencia, CA', 'Hesperia, CA',\n",
       "       'Huntington Beach, CA', 'Chino, CA', 'Laguna Niguel, CA',\n",
       "       'Joshua Tree, CA', 'Victorville, CA', 'Fontana, CA', 'Orange, CA',\n",
       "       'Riverside, CA', 'Rancho Cucamonga, CA', 'Seal Beach, CA',\n",
       "       'Santa Ana, CA', 'Borrego Springs, CA', 'Running Springs, CA',\n",
       "       'Long Beach, CA', 'Placentia, CA', 'Big Bear, CA', 'Ontario, CA',\n",
       "       'Yucca Valley, CA', 'Ramona, CA', 'Murrieta, CA',\n",
       "       'Frazier Park, CA', 'Laguna Woods, CA', 'Moreno Valley, CA',\n",
       "       'Lake Elsinore, CA', 'La Quinta, CA', 'Temecula, CA',\n",
       "       'Palm Desert, CA', 'Rialto, CA', 'Rancho Mirage, CA',\n",
       "       'Palm Springs, CA', 'Beaumont, CA', 'Alta Loma, CA',\n",
       "       'Yorba Linda, CA', 'Oak Hills, CA', 'Fullerton, CA',\n",
       "       'San Juan Capistrano, CA', 'Pomona, CA', 'Rosamond, CA',\n",
       "       'Buena Park, CA', 'Encinitas, CA', 'Woodland Hills, CA',\n",
       "       'Menifee, CA', 'Canyon Lake, CA', 'Apple Valley, CA',\n",
       "       'Banning, CA', 'La Puente, CA', 'Wildomar, CA', 'El Cajon, CA',\n",
       "       'Winchester, CA', 'Pine Mountain Club, CA', 'Highland, CA',\n",
       "       'Cathedral City, CA', 'Redlands, CA', 'La Habra, CA',\n",
       "       'Tehachapi, CA', 'Costa Mesa, CA', 'Crestline, CA', 'Covina, CA',\n",
       "       'Spring Valley, CA', 'Escondido, CA', 'Lake Forest, CA',\n",
       "       'San Marcos, CA', 'Brea, CA', 'Vista, CA', 'Julian, CA',\n",
       "       'Lakewood, CA', 'Norco, CA'], dtype=object)"
      ]
     },
     "execution_count": 31,
     "metadata": {},
     "output_type": "execute_result"
    }
   ],
   "source": [
    "data['city'].unique()"
   ]
  },
  {
   "cell_type": "code",
   "execution_count": 32,
   "id": "dc862cba",
   "metadata": {},
   "outputs": [],
   "source": [
    "labels_ordered=data.groupby(['city'])['retail_price'].mean().sort_values().index\n",
    "labels_ordered={k:i for i,k in enumerate(labels_ordered,0)}\n",
    "data['city']=data['city'].map(labels_ordered)"
   ]
  },
  {
   "cell_type": "code",
   "execution_count": 33,
   "id": "eae08760",
   "metadata": {},
   "outputs": [
    {
     "data": {
      "text/html": [
       "<div>\n",
       "<style scoped>\n",
       "    .dataframe tbody tr th:only-of-type {\n",
       "        vertical-align: middle;\n",
       "    }\n",
       "\n",
       "    .dataframe tbody tr th {\n",
       "        vertical-align: top;\n",
       "    }\n",
       "\n",
       "    .dataframe thead th {\n",
       "        text-align: right;\n",
       "    }\n",
       "</style>\n",
       "<table border=\"1\" class=\"dataframe\">\n",
       "  <thead>\n",
       "    <tr style=\"text-align: right;\">\n",
       "      <th></th>\n",
       "      <th>index</th>\n",
       "      <th>rooms</th>\n",
       "      <th>retail_price</th>\n",
       "      <th>address</th>\n",
       "      <th>city</th>\n",
       "      <th>sqft</th>\n",
       "      <th>toilets</th>\n",
       "      <th>image_id</th>\n",
       "    </tr>\n",
       "  </thead>\n",
       "  <tbody>\n",
       "    <tr>\n",
       "      <th>0</th>\n",
       "      <td>5832</td>\n",
       "      <td>2.0</td>\n",
       "      <td>299000</td>\n",
       "      <td>81913 Calle Torbellino</td>\n",
       "      <td>38</td>\n",
       "      <td>1295.0</td>\n",
       "      <td>2.0</td>\n",
       "      <td>5832</td>\n",
       "    </tr>\n",
       "    <tr>\n",
       "      <th>1</th>\n",
       "      <td>5584</td>\n",
       "      <td>3.0</td>\n",
       "      <td>299000</td>\n",
       "      <td>26076 Fiesta Place</td>\n",
       "      <td>14</td>\n",
       "      <td>1566.0</td>\n",
       "      <td>2.0</td>\n",
       "      <td>5584</td>\n",
       "    </tr>\n",
       "    <tr>\n",
       "      <th>2</th>\n",
       "      <td>9408</td>\n",
       "      <td>5.0</td>\n",
       "      <td>499990</td>\n",
       "      <td>34450 Fawn Ridge Place</td>\n",
       "      <td>53</td>\n",
       "      <td>3068.0</td>\n",
       "      <td>3.0</td>\n",
       "      <td>9408</td>\n",
       "    </tr>\n",
       "    <tr>\n",
       "      <th>3</th>\n",
       "      <td>4644</td>\n",
       "      <td>4.0</td>\n",
       "      <td>849900</td>\n",
       "      <td>26481 Montebello Place</td>\n",
       "      <td>73</td>\n",
       "      <td>2230.0</td>\n",
       "      <td>2.1</td>\n",
       "      <td>4644</td>\n",
       "    </tr>\n",
       "    <tr>\n",
       "      <th>4</th>\n",
       "      <td>5739</td>\n",
       "      <td>3.0</td>\n",
       "      <td>333490</td>\n",
       "      <td>2562 Red Spruce Lane</td>\n",
       "      <td>10</td>\n",
       "      <td>1898.0</td>\n",
       "      <td>2.0</td>\n",
       "      <td>5739</td>\n",
       "    </tr>\n",
       "    <tr>\n",
       "      <th>...</th>\n",
       "      <td>...</td>\n",
       "      <td>...</td>\n",
       "      <td>...</td>\n",
       "      <td>...</td>\n",
       "      <td>...</td>\n",
       "      <td>...</td>\n",
       "      <td>...</td>\n",
       "      <td>...</td>\n",
       "    </tr>\n",
       "    <tr>\n",
       "      <th>8395</th>\n",
       "      <td>792</td>\n",
       "      <td>4.0</td>\n",
       "      <td>289990</td>\n",
       "      <td>45228 Lorimer Avenue</td>\n",
       "      <td>3</td>\n",
       "      <td>1498.0</td>\n",
       "      <td>2.0</td>\n",
       "      <td>792</td>\n",
       "    </tr>\n",
       "    <tr>\n",
       "      <th>8396</th>\n",
       "      <td>10671</td>\n",
       "      <td>4.0</td>\n",
       "      <td>895000</td>\n",
       "      <td>265 Old Toll Road</td>\n",
       "      <td>84</td>\n",
       "      <td>2981.0</td>\n",
       "      <td>3.0</td>\n",
       "      <td>10671</td>\n",
       "    </tr>\n",
       "    <tr>\n",
       "      <th>8397</th>\n",
       "      <td>11650</td>\n",
       "      <td>3.0</td>\n",
       "      <td>479900</td>\n",
       "      <td>5925 Balmoral Dr</td>\n",
       "      <td>89</td>\n",
       "      <td>1272.0</td>\n",
       "      <td>1.0</td>\n",
       "      <td>11650</td>\n",
       "    </tr>\n",
       "    <tr>\n",
       "      <th>8398</th>\n",
       "      <td>2134</td>\n",
       "      <td>4.0</td>\n",
       "      <td>599000</td>\n",
       "      <td>28137 Stonington Lane</td>\n",
       "      <td>74</td>\n",
       "      <td>1924.0</td>\n",
       "      <td>3.0</td>\n",
       "      <td>2134</td>\n",
       "    </tr>\n",
       "    <tr>\n",
       "      <th>8399</th>\n",
       "      <td>6812</td>\n",
       "      <td>5.0</td>\n",
       "      <td>549900</td>\n",
       "      <td>31666 Sundance Way</td>\n",
       "      <td>32</td>\n",
       "      <td>2867.0</td>\n",
       "      <td>3.0</td>\n",
       "      <td>6812</td>\n",
       "    </tr>\n",
       "  </tbody>\n",
       "</table>\n",
       "<p>8400 rows × 8 columns</p>\n",
       "</div>"
      ],
      "text/plain": [
       "      index  rooms  retail_price                 address  city    sqft  \\\n",
       "0      5832    2.0        299000  81913 Calle Torbellino    38  1295.0   \n",
       "1      5584    3.0        299000      26076 Fiesta Place    14  1566.0   \n",
       "2      9408    5.0        499990  34450 Fawn Ridge Place    53  3068.0   \n",
       "3      4644    4.0        849900  26481 Montebello Place    73  2230.0   \n",
       "4      5739    3.0        333490    2562 Red Spruce Lane    10  1898.0   \n",
       "...     ...    ...           ...                     ...   ...     ...   \n",
       "8395    792    4.0        289990    45228 Lorimer Avenue     3  1498.0   \n",
       "8396  10671    4.0        895000       265 Old Toll Road    84  2981.0   \n",
       "8397  11650    3.0        479900        5925 Balmoral Dr    89  1272.0   \n",
       "8398   2134    4.0        599000   28137 Stonington Lane    74  1924.0   \n",
       "8399   6812    5.0        549900      31666 Sundance Way    32  2867.0   \n",
       "\n",
       "      toilets  image_id  \n",
       "0         2.0      5832  \n",
       "1         2.0      5584  \n",
       "2         3.0      9408  \n",
       "3         2.1      4644  \n",
       "4         2.0      5739  \n",
       "...       ...       ...  \n",
       "8395      2.0       792  \n",
       "8396      3.0     10671  \n",
       "8397      1.0     11650  \n",
       "8398      3.0      2134  \n",
       "8399      3.0      6812  \n",
       "\n",
       "[8400 rows x 8 columns]"
      ]
     },
     "execution_count": 33,
     "metadata": {},
     "output_type": "execute_result"
    }
   ],
   "source": [
    "data"
   ]
  },
  {
   "cell_type": "code",
   "execution_count": 34,
   "id": "b6677ed7",
   "metadata": {},
   "outputs": [],
   "source": [
    "data.drop(['address'],axis=1,inplace=True)"
   ]
  },
  {
   "cell_type": "code",
   "execution_count": 35,
   "id": "a093e375",
   "metadata": {},
   "outputs": [
    {
     "data": {
      "text/html": [
       "<div>\n",
       "<style scoped>\n",
       "    .dataframe tbody tr th:only-of-type {\n",
       "        vertical-align: middle;\n",
       "    }\n",
       "\n",
       "    .dataframe tbody tr th {\n",
       "        vertical-align: top;\n",
       "    }\n",
       "\n",
       "    .dataframe thead th {\n",
       "        text-align: right;\n",
       "    }\n",
       "</style>\n",
       "<table border=\"1\" class=\"dataframe\">\n",
       "  <thead>\n",
       "    <tr style=\"text-align: right;\">\n",
       "      <th></th>\n",
       "      <th>index</th>\n",
       "      <th>rooms</th>\n",
       "      <th>retail_price</th>\n",
       "      <th>city</th>\n",
       "      <th>sqft</th>\n",
       "      <th>toilets</th>\n",
       "      <th>image_id</th>\n",
       "    </tr>\n",
       "  </thead>\n",
       "  <tbody>\n",
       "    <tr>\n",
       "      <th>0</th>\n",
       "      <td>5832</td>\n",
       "      <td>2.0</td>\n",
       "      <td>299000</td>\n",
       "      <td>38</td>\n",
       "      <td>1295.0</td>\n",
       "      <td>2.0</td>\n",
       "      <td>5832</td>\n",
       "    </tr>\n",
       "    <tr>\n",
       "      <th>1</th>\n",
       "      <td>5584</td>\n",
       "      <td>3.0</td>\n",
       "      <td>299000</td>\n",
       "      <td>14</td>\n",
       "      <td>1566.0</td>\n",
       "      <td>2.0</td>\n",
       "      <td>5584</td>\n",
       "    </tr>\n",
       "    <tr>\n",
       "      <th>2</th>\n",
       "      <td>9408</td>\n",
       "      <td>5.0</td>\n",
       "      <td>499990</td>\n",
       "      <td>53</td>\n",
       "      <td>3068.0</td>\n",
       "      <td>3.0</td>\n",
       "      <td>9408</td>\n",
       "    </tr>\n",
       "    <tr>\n",
       "      <th>3</th>\n",
       "      <td>4644</td>\n",
       "      <td>4.0</td>\n",
       "      <td>849900</td>\n",
       "      <td>73</td>\n",
       "      <td>2230.0</td>\n",
       "      <td>2.1</td>\n",
       "      <td>4644</td>\n",
       "    </tr>\n",
       "    <tr>\n",
       "      <th>4</th>\n",
       "      <td>5739</td>\n",
       "      <td>3.0</td>\n",
       "      <td>333490</td>\n",
       "      <td>10</td>\n",
       "      <td>1898.0</td>\n",
       "      <td>2.0</td>\n",
       "      <td>5739</td>\n",
       "    </tr>\n",
       "    <tr>\n",
       "      <th>...</th>\n",
       "      <td>...</td>\n",
       "      <td>...</td>\n",
       "      <td>...</td>\n",
       "      <td>...</td>\n",
       "      <td>...</td>\n",
       "      <td>...</td>\n",
       "      <td>...</td>\n",
       "    </tr>\n",
       "    <tr>\n",
       "      <th>8395</th>\n",
       "      <td>792</td>\n",
       "      <td>4.0</td>\n",
       "      <td>289990</td>\n",
       "      <td>3</td>\n",
       "      <td>1498.0</td>\n",
       "      <td>2.0</td>\n",
       "      <td>792</td>\n",
       "    </tr>\n",
       "    <tr>\n",
       "      <th>8396</th>\n",
       "      <td>10671</td>\n",
       "      <td>4.0</td>\n",
       "      <td>895000</td>\n",
       "      <td>84</td>\n",
       "      <td>2981.0</td>\n",
       "      <td>3.0</td>\n",
       "      <td>10671</td>\n",
       "    </tr>\n",
       "    <tr>\n",
       "      <th>8397</th>\n",
       "      <td>11650</td>\n",
       "      <td>3.0</td>\n",
       "      <td>479900</td>\n",
       "      <td>89</td>\n",
       "      <td>1272.0</td>\n",
       "      <td>1.0</td>\n",
       "      <td>11650</td>\n",
       "    </tr>\n",
       "    <tr>\n",
       "      <th>8398</th>\n",
       "      <td>2134</td>\n",
       "      <td>4.0</td>\n",
       "      <td>599000</td>\n",
       "      <td>74</td>\n",
       "      <td>1924.0</td>\n",
       "      <td>3.0</td>\n",
       "      <td>2134</td>\n",
       "    </tr>\n",
       "    <tr>\n",
       "      <th>8399</th>\n",
       "      <td>6812</td>\n",
       "      <td>5.0</td>\n",
       "      <td>549900</td>\n",
       "      <td>32</td>\n",
       "      <td>2867.0</td>\n",
       "      <td>3.0</td>\n",
       "      <td>6812</td>\n",
       "    </tr>\n",
       "  </tbody>\n",
       "</table>\n",
       "<p>8400 rows × 7 columns</p>\n",
       "</div>"
      ],
      "text/plain": [
       "      index  rooms  retail_price  city    sqft  toilets  image_id\n",
       "0      5832    2.0        299000    38  1295.0      2.0      5832\n",
       "1      5584    3.0        299000    14  1566.0      2.0      5584\n",
       "2      9408    5.0        499990    53  3068.0      3.0      9408\n",
       "3      4644    4.0        849900    73  2230.0      2.1      4644\n",
       "4      5739    3.0        333490    10  1898.0      2.0      5739\n",
       "...     ...    ...           ...   ...     ...      ...       ...\n",
       "8395    792    4.0        289990     3  1498.0      2.0       792\n",
       "8396  10671    4.0        895000    84  2981.0      3.0     10671\n",
       "8397  11650    3.0        479900    89  1272.0      1.0     11650\n",
       "8398   2134    4.0        599000    74  1924.0      3.0      2134\n",
       "8399   6812    5.0        549900    32  2867.0      3.0      6812\n",
       "\n",
       "[8400 rows x 7 columns]"
      ]
     },
     "execution_count": 35,
     "metadata": {},
     "output_type": "execute_result"
    }
   ],
   "source": [
    "data"
   ]
  },
  {
   "cell_type": "markdown",
   "id": "5aeb1f53",
   "metadata": {},
   "source": [
    "# Feature Scaling"
   ]
  },
  {
   "cell_type": "code",
   "execution_count": 36,
   "id": "3df5437d",
   "metadata": {},
   "outputs": [
    {
     "data": {
      "text/html": [
       "<style>#sk-container-id-1 {color: black;background-color: white;}#sk-container-id-1 pre{padding: 0;}#sk-container-id-1 div.sk-toggleable {background-color: white;}#sk-container-id-1 label.sk-toggleable__label {cursor: pointer;display: block;width: 100%;margin-bottom: 0;padding: 0.3em;box-sizing: border-box;text-align: center;}#sk-container-id-1 label.sk-toggleable__label-arrow:before {content: \"▸\";float: left;margin-right: 0.25em;color: #696969;}#sk-container-id-1 label.sk-toggleable__label-arrow:hover:before {color: black;}#sk-container-id-1 div.sk-estimator:hover label.sk-toggleable__label-arrow:before {color: black;}#sk-container-id-1 div.sk-toggleable__content {max-height: 0;max-width: 0;overflow: hidden;text-align: left;background-color: #f0f8ff;}#sk-container-id-1 div.sk-toggleable__content pre {margin: 0.2em;color: black;border-radius: 0.25em;background-color: #f0f8ff;}#sk-container-id-1 input.sk-toggleable__control:checked~div.sk-toggleable__content {max-height: 200px;max-width: 100%;overflow: auto;}#sk-container-id-1 input.sk-toggleable__control:checked~label.sk-toggleable__label-arrow:before {content: \"▾\";}#sk-container-id-1 div.sk-estimator input.sk-toggleable__control:checked~label.sk-toggleable__label {background-color: #d4ebff;}#sk-container-id-1 div.sk-label input.sk-toggleable__control:checked~label.sk-toggleable__label {background-color: #d4ebff;}#sk-container-id-1 input.sk-hidden--visually {border: 0;clip: rect(1px 1px 1px 1px);clip: rect(1px, 1px, 1px, 1px);height: 1px;margin: -1px;overflow: hidden;padding: 0;position: absolute;width: 1px;}#sk-container-id-1 div.sk-estimator {font-family: monospace;background-color: #f0f8ff;border: 1px dotted black;border-radius: 0.25em;box-sizing: border-box;margin-bottom: 0.5em;}#sk-container-id-1 div.sk-estimator:hover {background-color: #d4ebff;}#sk-container-id-1 div.sk-parallel-item::after {content: \"\";width: 100%;border-bottom: 1px solid gray;flex-grow: 1;}#sk-container-id-1 div.sk-label:hover label.sk-toggleable__label {background-color: #d4ebff;}#sk-container-id-1 div.sk-serial::before {content: \"\";position: absolute;border-left: 1px solid gray;box-sizing: border-box;top: 0;bottom: 0;left: 50%;z-index: 0;}#sk-container-id-1 div.sk-serial {display: flex;flex-direction: column;align-items: center;background-color: white;padding-right: 0.2em;padding-left: 0.2em;position: relative;}#sk-container-id-1 div.sk-item {position: relative;z-index: 1;}#sk-container-id-1 div.sk-parallel {display: flex;align-items: stretch;justify-content: center;background-color: white;position: relative;}#sk-container-id-1 div.sk-item::before, #sk-container-id-1 div.sk-parallel-item::before {content: \"\";position: absolute;border-left: 1px solid gray;box-sizing: border-box;top: 0;bottom: 0;left: 50%;z-index: -1;}#sk-container-id-1 div.sk-parallel-item {display: flex;flex-direction: column;z-index: 1;position: relative;background-color: white;}#sk-container-id-1 div.sk-parallel-item:first-child::after {align-self: flex-end;width: 50%;}#sk-container-id-1 div.sk-parallel-item:last-child::after {align-self: flex-start;width: 50%;}#sk-container-id-1 div.sk-parallel-item:only-child::after {width: 0;}#sk-container-id-1 div.sk-dashed-wrapped {border: 1px dashed gray;margin: 0 0.4em 0.5em 0.4em;box-sizing: border-box;padding-bottom: 0.4em;background-color: white;}#sk-container-id-1 div.sk-label label {font-family: monospace;font-weight: bold;display: inline-block;line-height: 1.2em;}#sk-container-id-1 div.sk-label-container {text-align: center;}#sk-container-id-1 div.sk-container {/* jupyter's `normalize.less` sets `[hidden] { display: none; }` but bootstrap.min.css set `[hidden] { display: none !important; }` so we also need the `!important` here to be able to override the default hidden behavior on the sphinx rendered scikit-learn.org. See: https://github.com/scikit-learn/scikit-learn/issues/21755 */display: inline-block !important;position: relative;}#sk-container-id-1 div.sk-text-repr-fallback {display: none;}</style><div id=\"sk-container-id-1\" class=\"sk-top-container\"><div class=\"sk-text-repr-fallback\"><pre>MinMaxScaler()</pre><b>In a Jupyter environment, please rerun this cell to show the HTML representation or trust the notebook. <br />On GitHub, the HTML representation is unable to render, please try loading this page with nbviewer.org.</b></div><div class=\"sk-container\" hidden><div class=\"sk-item\"><div class=\"sk-estimator sk-toggleable\"><input class=\"sk-toggleable__control sk-hidden--visually\" id=\"sk-estimator-id-1\" type=\"checkbox\" checked><label for=\"sk-estimator-id-1\" class=\"sk-toggleable__label sk-toggleable__label-arrow\">MinMaxScaler</label><div class=\"sk-toggleable__content\"><pre>MinMaxScaler()</pre></div></div></div></div></div>"
      ],
      "text/plain": [
       "MinMaxScaler()"
      ]
     },
     "execution_count": 36,
     "metadata": {},
     "output_type": "execute_result"
    }
   ],
   "source": [
    "feature_scale=[feature for feature in data.columns if feature not in ['retail_price']]\n",
    "\n",
    "from sklearn.preprocessing import MinMaxScaler\n",
    "scaler=MinMaxScaler(copy=True,feature_range=(0,1))\n",
    "scaler.fit(data[feature_scale])"
   ]
  },
  {
   "cell_type": "code",
   "execution_count": 37,
   "id": "d20f1196",
   "metadata": {},
   "outputs": [
    {
     "data": {
      "text/plain": [
       "array([[0.4860405 , 0.11111111, 0.36538462, 0.09309364, 0.24691358,\n",
       "        0.4860405 ],\n",
       "       [0.46537211, 0.22222222, 0.13461538, 0.11794919, 0.24691358,\n",
       "        0.46537211],\n",
       "       [0.78406534, 0.44444444, 0.50961538, 0.25570944, 0.37037037,\n",
       "        0.78406534],\n",
       "       ...,\n",
       "       [0.97091424, 0.22222222, 0.85576923, 0.09098413, 0.12345679,\n",
       "        0.97091424],\n",
       "       [0.17784815, 0.33333333, 0.71153846, 0.15078419, 0.37037037,\n",
       "        0.17784815],\n",
       "       [0.56771398, 0.44444444, 0.30769231, 0.23727414, 0.37037037,\n",
       "        0.56771398]])"
      ]
     },
     "execution_count": 37,
     "metadata": {},
     "output_type": "execute_result"
    }
   ],
   "source": [
    "scaler.transform(data[feature_scale])"
   ]
  },
  {
   "cell_type": "code",
   "execution_count": 38,
   "id": "33de7420",
   "metadata": {},
   "outputs": [],
   "source": [
    "data = pd.concat([data[['retail_price']].reset_index(drop=True),\n",
    "                    pd.DataFrame(scaler.transform(data[feature_scale]), columns=feature_scale)],\n",
    "                    axis=1)"
   ]
  },
  {
   "cell_type": "code",
   "execution_count": 39,
   "id": "5f646b40",
   "metadata": {},
   "outputs": [],
   "source": [
    "data.drop(['index'],axis=1,inplace=True)"
   ]
  },
  {
   "cell_type": "markdown",
   "id": "f410fde5",
   "metadata": {},
   "source": [
    "# Feature Selection"
   ]
  },
  {
   "cell_type": "code",
   "execution_count": 40,
   "id": "93469efb",
   "metadata": {},
   "outputs": [],
   "source": [
    "X_train=data.copy()"
   ]
  },
  {
   "cell_type": "code",
   "execution_count": 41,
   "id": "d5cefe0d",
   "metadata": {},
   "outputs": [],
   "source": [
    "X_train=X_train.drop([\"retail_price\"],axis=1)"
   ]
  },
  {
   "cell_type": "code",
   "execution_count": 42,
   "id": "4eda55ca",
   "metadata": {},
   "outputs": [],
   "source": [
    "for feature in X_train.columns:\n",
    "    if X_train[feature].isnull().sum()>=1:\n",
    "        print(feature)\n",
    "        break"
   ]
  },
  {
   "cell_type": "code",
   "execution_count": 43,
   "id": "bdebd9ee",
   "metadata": {},
   "outputs": [],
   "source": [
    "Y_train=data[[\"retail_price\"]]"
   ]
  },
  {
   "cell_type": "code",
   "execution_count": 44,
   "id": "c823d917",
   "metadata": {},
   "outputs": [
    {
     "data": {
      "text/html": [
       "<div>\n",
       "<style scoped>\n",
       "    .dataframe tbody tr th:only-of-type {\n",
       "        vertical-align: middle;\n",
       "    }\n",
       "\n",
       "    .dataframe tbody tr th {\n",
       "        vertical-align: top;\n",
       "    }\n",
       "\n",
       "    .dataframe thead th {\n",
       "        text-align: right;\n",
       "    }\n",
       "</style>\n",
       "<table border=\"1\" class=\"dataframe\">\n",
       "  <thead>\n",
       "    <tr style=\"text-align: right;\">\n",
       "      <th></th>\n",
       "      <th>rooms</th>\n",
       "      <th>city</th>\n",
       "      <th>sqft</th>\n",
       "      <th>toilets</th>\n",
       "      <th>image_id</th>\n",
       "    </tr>\n",
       "  </thead>\n",
       "  <tbody>\n",
       "    <tr>\n",
       "      <th>0</th>\n",
       "      <td>0.111111</td>\n",
       "      <td>0.365385</td>\n",
       "      <td>0.093094</td>\n",
       "      <td>0.246914</td>\n",
       "      <td>0.486041</td>\n",
       "    </tr>\n",
       "    <tr>\n",
       "      <th>1</th>\n",
       "      <td>0.222222</td>\n",
       "      <td>0.134615</td>\n",
       "      <td>0.117949</td>\n",
       "      <td>0.246914</td>\n",
       "      <td>0.465372</td>\n",
       "    </tr>\n",
       "    <tr>\n",
       "      <th>2</th>\n",
       "      <td>0.444444</td>\n",
       "      <td>0.509615</td>\n",
       "      <td>0.255709</td>\n",
       "      <td>0.370370</td>\n",
       "      <td>0.784065</td>\n",
       "    </tr>\n",
       "    <tr>\n",
       "      <th>3</th>\n",
       "      <td>0.333333</td>\n",
       "      <td>0.701923</td>\n",
       "      <td>0.178850</td>\n",
       "      <td>0.259259</td>\n",
       "      <td>0.387032</td>\n",
       "    </tr>\n",
       "    <tr>\n",
       "      <th>4</th>\n",
       "      <td>0.222222</td>\n",
       "      <td>0.096154</td>\n",
       "      <td>0.148400</td>\n",
       "      <td>0.246914</td>\n",
       "      <td>0.478290</td>\n",
       "    </tr>\n",
       "    <tr>\n",
       "      <th>...</th>\n",
       "      <td>...</td>\n",
       "      <td>...</td>\n",
       "      <td>...</td>\n",
       "      <td>...</td>\n",
       "      <td>...</td>\n",
       "    </tr>\n",
       "    <tr>\n",
       "      <th>8395</th>\n",
       "      <td>0.333333</td>\n",
       "      <td>0.028846</td>\n",
       "      <td>0.111712</td>\n",
       "      <td>0.246914</td>\n",
       "      <td>0.066006</td>\n",
       "    </tr>\n",
       "    <tr>\n",
       "      <th>8396</th>\n",
       "      <td>0.333333</td>\n",
       "      <td>0.807692</td>\n",
       "      <td>0.247730</td>\n",
       "      <td>0.370370</td>\n",
       "      <td>0.889324</td>\n",
       "    </tr>\n",
       "    <tr>\n",
       "      <th>8397</th>\n",
       "      <td>0.222222</td>\n",
       "      <td>0.855769</td>\n",
       "      <td>0.090984</td>\n",
       "      <td>0.123457</td>\n",
       "      <td>0.970914</td>\n",
       "    </tr>\n",
       "    <tr>\n",
       "      <th>8398</th>\n",
       "      <td>0.333333</td>\n",
       "      <td>0.711538</td>\n",
       "      <td>0.150784</td>\n",
       "      <td>0.370370</td>\n",
       "      <td>0.177848</td>\n",
       "    </tr>\n",
       "    <tr>\n",
       "      <th>8399</th>\n",
       "      <td>0.444444</td>\n",
       "      <td>0.307692</td>\n",
       "      <td>0.237274</td>\n",
       "      <td>0.370370</td>\n",
       "      <td>0.567714</td>\n",
       "    </tr>\n",
       "  </tbody>\n",
       "</table>\n",
       "<p>8400 rows × 5 columns</p>\n",
       "</div>"
      ],
      "text/plain": [
       "         rooms      city      sqft   toilets  image_id\n",
       "0     0.111111  0.365385  0.093094  0.246914  0.486041\n",
       "1     0.222222  0.134615  0.117949  0.246914  0.465372\n",
       "2     0.444444  0.509615  0.255709  0.370370  0.784065\n",
       "3     0.333333  0.701923  0.178850  0.259259  0.387032\n",
       "4     0.222222  0.096154  0.148400  0.246914  0.478290\n",
       "...        ...       ...       ...       ...       ...\n",
       "8395  0.333333  0.028846  0.111712  0.246914  0.066006\n",
       "8396  0.333333  0.807692  0.247730  0.370370  0.889324\n",
       "8397  0.222222  0.855769  0.090984  0.123457  0.970914\n",
       "8398  0.333333  0.711538  0.150784  0.370370  0.177848\n",
       "8399  0.444444  0.307692  0.237274  0.370370  0.567714\n",
       "\n",
       "[8400 rows x 5 columns]"
      ]
     },
     "execution_count": 44,
     "metadata": {},
     "output_type": "execute_result"
    }
   ],
   "source": [
    "X_train"
   ]
  },
  {
   "cell_type": "code",
   "execution_count": 45,
   "id": "225834f1",
   "metadata": {},
   "outputs": [
    {
     "data": {
      "text/html": [
       "<div>\n",
       "<style scoped>\n",
       "    .dataframe tbody tr th:only-of-type {\n",
       "        vertical-align: middle;\n",
       "    }\n",
       "\n",
       "    .dataframe tbody tr th {\n",
       "        vertical-align: top;\n",
       "    }\n",
       "\n",
       "    .dataframe thead th {\n",
       "        text-align: right;\n",
       "    }\n",
       "</style>\n",
       "<table border=\"1\" class=\"dataframe\">\n",
       "  <thead>\n",
       "    <tr style=\"text-align: right;\">\n",
       "      <th></th>\n",
       "      <th>retail_price</th>\n",
       "      <th>rooms</th>\n",
       "      <th>city</th>\n",
       "      <th>sqft</th>\n",
       "      <th>toilets</th>\n",
       "      <th>image_id</th>\n",
       "    </tr>\n",
       "  </thead>\n",
       "  <tbody>\n",
       "    <tr>\n",
       "      <th>0</th>\n",
       "      <td>299000</td>\n",
       "      <td>0.111111</td>\n",
       "      <td>0.365385</td>\n",
       "      <td>0.093094</td>\n",
       "      <td>0.246914</td>\n",
       "      <td>0.486041</td>\n",
       "    </tr>\n",
       "    <tr>\n",
       "      <th>1</th>\n",
       "      <td>299000</td>\n",
       "      <td>0.222222</td>\n",
       "      <td>0.134615</td>\n",
       "      <td>0.117949</td>\n",
       "      <td>0.246914</td>\n",
       "      <td>0.465372</td>\n",
       "    </tr>\n",
       "    <tr>\n",
       "      <th>2</th>\n",
       "      <td>499990</td>\n",
       "      <td>0.444444</td>\n",
       "      <td>0.509615</td>\n",
       "      <td>0.255709</td>\n",
       "      <td>0.370370</td>\n",
       "      <td>0.784065</td>\n",
       "    </tr>\n",
       "    <tr>\n",
       "      <th>3</th>\n",
       "      <td>849900</td>\n",
       "      <td>0.333333</td>\n",
       "      <td>0.701923</td>\n",
       "      <td>0.178850</td>\n",
       "      <td>0.259259</td>\n",
       "      <td>0.387032</td>\n",
       "    </tr>\n",
       "    <tr>\n",
       "      <th>4</th>\n",
       "      <td>333490</td>\n",
       "      <td>0.222222</td>\n",
       "      <td>0.096154</td>\n",
       "      <td>0.148400</td>\n",
       "      <td>0.246914</td>\n",
       "      <td>0.478290</td>\n",
       "    </tr>\n",
       "    <tr>\n",
       "      <th>...</th>\n",
       "      <td>...</td>\n",
       "      <td>...</td>\n",
       "      <td>...</td>\n",
       "      <td>...</td>\n",
       "      <td>...</td>\n",
       "      <td>...</td>\n",
       "    </tr>\n",
       "    <tr>\n",
       "      <th>8395</th>\n",
       "      <td>289990</td>\n",
       "      <td>0.333333</td>\n",
       "      <td>0.028846</td>\n",
       "      <td>0.111712</td>\n",
       "      <td>0.246914</td>\n",
       "      <td>0.066006</td>\n",
       "    </tr>\n",
       "    <tr>\n",
       "      <th>8396</th>\n",
       "      <td>895000</td>\n",
       "      <td>0.333333</td>\n",
       "      <td>0.807692</td>\n",
       "      <td>0.247730</td>\n",
       "      <td>0.370370</td>\n",
       "      <td>0.889324</td>\n",
       "    </tr>\n",
       "    <tr>\n",
       "      <th>8397</th>\n",
       "      <td>479900</td>\n",
       "      <td>0.222222</td>\n",
       "      <td>0.855769</td>\n",
       "      <td>0.090984</td>\n",
       "      <td>0.123457</td>\n",
       "      <td>0.970914</td>\n",
       "    </tr>\n",
       "    <tr>\n",
       "      <th>8398</th>\n",
       "      <td>599000</td>\n",
       "      <td>0.333333</td>\n",
       "      <td>0.711538</td>\n",
       "      <td>0.150784</td>\n",
       "      <td>0.370370</td>\n",
       "      <td>0.177848</td>\n",
       "    </tr>\n",
       "    <tr>\n",
       "      <th>8399</th>\n",
       "      <td>549900</td>\n",
       "      <td>0.444444</td>\n",
       "      <td>0.307692</td>\n",
       "      <td>0.237274</td>\n",
       "      <td>0.370370</td>\n",
       "      <td>0.567714</td>\n",
       "    </tr>\n",
       "  </tbody>\n",
       "</table>\n",
       "<p>8400 rows × 6 columns</p>\n",
       "</div>"
      ],
      "text/plain": [
       "      retail_price     rooms      city      sqft   toilets  image_id\n",
       "0           299000  0.111111  0.365385  0.093094  0.246914  0.486041\n",
       "1           299000  0.222222  0.134615  0.117949  0.246914  0.465372\n",
       "2           499990  0.444444  0.509615  0.255709  0.370370  0.784065\n",
       "3           849900  0.333333  0.701923  0.178850  0.259259  0.387032\n",
       "4           333490  0.222222  0.096154  0.148400  0.246914  0.478290\n",
       "...            ...       ...       ...       ...       ...       ...\n",
       "8395        289990  0.333333  0.028846  0.111712  0.246914  0.066006\n",
       "8396        895000  0.333333  0.807692  0.247730  0.370370  0.889324\n",
       "8397        479900  0.222222  0.855769  0.090984  0.123457  0.970914\n",
       "8398        599000  0.333333  0.711538  0.150784  0.370370  0.177848\n",
       "8399        549900  0.444444  0.307692  0.237274  0.370370  0.567714\n",
       "\n",
       "[8400 rows x 6 columns]"
      ]
     },
     "execution_count": 45,
     "metadata": {},
     "output_type": "execute_result"
    }
   ],
   "source": [
    "data"
   ]
  },
  {
   "cell_type": "code",
   "execution_count": 46,
   "id": "d2828858",
   "metadata": {},
   "outputs": [
    {
     "data": {
      "text/plain": [
       "retail_price\n",
       "False           8400\n",
       "dtype: int64"
      ]
     },
     "execution_count": 46,
     "metadata": {},
     "output_type": "execute_result"
    }
   ],
   "source": [
    "Y_train.isnull().value_counts()"
   ]
  },
  {
   "cell_type": "code",
   "execution_count": 47,
   "id": "6ee14838",
   "metadata": {},
   "outputs": [],
   "source": [
    "from sklearn.linear_model import Lasso\n",
    "from sklearn.feature_selection import SelectFromModel\n",
    "\n",
    "pd.pandas.set_option(\"display.max_columns\",None)"
   ]
  },
  {
   "cell_type": "code",
   "execution_count": 48,
   "id": "f3398d71",
   "metadata": {},
   "outputs": [
    {
     "data": {
      "text/html": [
       "<style>#sk-container-id-2 {color: black;background-color: white;}#sk-container-id-2 pre{padding: 0;}#sk-container-id-2 div.sk-toggleable {background-color: white;}#sk-container-id-2 label.sk-toggleable__label {cursor: pointer;display: block;width: 100%;margin-bottom: 0;padding: 0.3em;box-sizing: border-box;text-align: center;}#sk-container-id-2 label.sk-toggleable__label-arrow:before {content: \"▸\";float: left;margin-right: 0.25em;color: #696969;}#sk-container-id-2 label.sk-toggleable__label-arrow:hover:before {color: black;}#sk-container-id-2 div.sk-estimator:hover label.sk-toggleable__label-arrow:before {color: black;}#sk-container-id-2 div.sk-toggleable__content {max-height: 0;max-width: 0;overflow: hidden;text-align: left;background-color: #f0f8ff;}#sk-container-id-2 div.sk-toggleable__content pre {margin: 0.2em;color: black;border-radius: 0.25em;background-color: #f0f8ff;}#sk-container-id-2 input.sk-toggleable__control:checked~div.sk-toggleable__content {max-height: 200px;max-width: 100%;overflow: auto;}#sk-container-id-2 input.sk-toggleable__control:checked~label.sk-toggleable__label-arrow:before {content: \"▾\";}#sk-container-id-2 div.sk-estimator input.sk-toggleable__control:checked~label.sk-toggleable__label {background-color: #d4ebff;}#sk-container-id-2 div.sk-label input.sk-toggleable__control:checked~label.sk-toggleable__label {background-color: #d4ebff;}#sk-container-id-2 input.sk-hidden--visually {border: 0;clip: rect(1px 1px 1px 1px);clip: rect(1px, 1px, 1px, 1px);height: 1px;margin: -1px;overflow: hidden;padding: 0;position: absolute;width: 1px;}#sk-container-id-2 div.sk-estimator {font-family: monospace;background-color: #f0f8ff;border: 1px dotted black;border-radius: 0.25em;box-sizing: border-box;margin-bottom: 0.5em;}#sk-container-id-2 div.sk-estimator:hover {background-color: #d4ebff;}#sk-container-id-2 div.sk-parallel-item::after {content: \"\";width: 100%;border-bottom: 1px solid gray;flex-grow: 1;}#sk-container-id-2 div.sk-label:hover label.sk-toggleable__label {background-color: #d4ebff;}#sk-container-id-2 div.sk-serial::before {content: \"\";position: absolute;border-left: 1px solid gray;box-sizing: border-box;top: 0;bottom: 0;left: 50%;z-index: 0;}#sk-container-id-2 div.sk-serial {display: flex;flex-direction: column;align-items: center;background-color: white;padding-right: 0.2em;padding-left: 0.2em;position: relative;}#sk-container-id-2 div.sk-item {position: relative;z-index: 1;}#sk-container-id-2 div.sk-parallel {display: flex;align-items: stretch;justify-content: center;background-color: white;position: relative;}#sk-container-id-2 div.sk-item::before, #sk-container-id-2 div.sk-parallel-item::before {content: \"\";position: absolute;border-left: 1px solid gray;box-sizing: border-box;top: 0;bottom: 0;left: 50%;z-index: -1;}#sk-container-id-2 div.sk-parallel-item {display: flex;flex-direction: column;z-index: 1;position: relative;background-color: white;}#sk-container-id-2 div.sk-parallel-item:first-child::after {align-self: flex-end;width: 50%;}#sk-container-id-2 div.sk-parallel-item:last-child::after {align-self: flex-start;width: 50%;}#sk-container-id-2 div.sk-parallel-item:only-child::after {width: 0;}#sk-container-id-2 div.sk-dashed-wrapped {border: 1px dashed gray;margin: 0 0.4em 0.5em 0.4em;box-sizing: border-box;padding-bottom: 0.4em;background-color: white;}#sk-container-id-2 div.sk-label label {font-family: monospace;font-weight: bold;display: inline-block;line-height: 1.2em;}#sk-container-id-2 div.sk-label-container {text-align: center;}#sk-container-id-2 div.sk-container {/* jupyter's `normalize.less` sets `[hidden] { display: none; }` but bootstrap.min.css set `[hidden] { display: none !important; }` so we also need the `!important` here to be able to override the default hidden behavior on the sphinx rendered scikit-learn.org. See: https://github.com/scikit-learn/scikit-learn/issues/21755 */display: inline-block !important;position: relative;}#sk-container-id-2 div.sk-text-repr-fallback {display: none;}</style><div id=\"sk-container-id-2\" class=\"sk-top-container\"><div class=\"sk-text-repr-fallback\"><pre>SelectFromModel(estimator=Lasso(alpha=0.005, random_state=0))</pre><b>In a Jupyter environment, please rerun this cell to show the HTML representation or trust the notebook. <br />On GitHub, the HTML representation is unable to render, please try loading this page with nbviewer.org.</b></div><div class=\"sk-container\" hidden><div class=\"sk-item sk-dashed-wrapped\"><div class=\"sk-label-container\"><div class=\"sk-label sk-toggleable\"><input class=\"sk-toggleable__control sk-hidden--visually\" id=\"sk-estimator-id-2\" type=\"checkbox\" ><label for=\"sk-estimator-id-2\" class=\"sk-toggleable__label sk-toggleable__label-arrow\">SelectFromModel</label><div class=\"sk-toggleable__content\"><pre>SelectFromModel(estimator=Lasso(alpha=0.005, random_state=0))</pre></div></div></div><div class=\"sk-parallel\"><div class=\"sk-parallel-item\"><div class=\"sk-item\"><div class=\"sk-label-container\"><div class=\"sk-label sk-toggleable\"><input class=\"sk-toggleable__control sk-hidden--visually\" id=\"sk-estimator-id-3\" type=\"checkbox\" ><label for=\"sk-estimator-id-3\" class=\"sk-toggleable__label sk-toggleable__label-arrow\">estimator: Lasso</label><div class=\"sk-toggleable__content\"><pre>Lasso(alpha=0.005, random_state=0)</pre></div></div></div><div class=\"sk-serial\"><div class=\"sk-item\"><div class=\"sk-estimator sk-toggleable\"><input class=\"sk-toggleable__control sk-hidden--visually\" id=\"sk-estimator-id-4\" type=\"checkbox\" ><label for=\"sk-estimator-id-4\" class=\"sk-toggleable__label sk-toggleable__label-arrow\">Lasso</label><div class=\"sk-toggleable__content\"><pre>Lasso(alpha=0.005, random_state=0)</pre></div></div></div></div></div></div></div></div></div></div>"
      ],
      "text/plain": [
       "SelectFromModel(estimator=Lasso(alpha=0.005, random_state=0))"
      ]
     },
     "execution_count": 48,
     "metadata": {},
     "output_type": "execute_result"
    }
   ],
   "source": [
    "feature_sel_model=SelectFromModel(Lasso(alpha=0.005,random_state=0))\n",
    "feature_sel_model.fit(X_train,Y_train)"
   ]
  },
  {
   "cell_type": "code",
   "execution_count": 49,
   "id": "9d98d04c",
   "metadata": {},
   "outputs": [
    {
     "name": "stdout",
     "output_type": "stream",
     "text": [
      "total features: 5\n",
      "selected features: 5\n",
      "features with coefficients shrank to zero: 0\n"
     ]
    }
   ],
   "source": [
    "selected_feature = X_train.columns[(feature_sel_model.get_support())]\n",
    "\n",
    "print('total features: {}'.format((X_train.shape[1])))\n",
    "print('selected features: {}'.format(len(selected_feature)))\n",
    "print('features with coefficients shrank to zero: {}'.format(np.sum(feature_sel_model.estimator_.coef_ == 0)))"
   ]
  },
  {
   "cell_type": "code",
   "execution_count": 50,
   "id": "f5bd64a5",
   "metadata": {},
   "outputs": [
    {
     "data": {
      "text/plain": [
       "Index(['rooms', 'city', 'sqft', 'toilets', 'image_id'], dtype='object')"
      ]
     },
     "execution_count": 50,
     "metadata": {},
     "output_type": "execute_result"
    }
   ],
   "source": [
    "selected_feature"
   ]
  },
  {
   "cell_type": "code",
   "execution_count": 51,
   "id": "0ce73827",
   "metadata": {},
   "outputs": [],
   "source": [
    "X_train=X_train[selected_feature]"
   ]
  },
  {
   "cell_type": "code",
   "execution_count": 52,
   "id": "98b56a9e",
   "metadata": {},
   "outputs": [
    {
     "data": {
      "text/html": [
       "<div>\n",
       "<style scoped>\n",
       "    .dataframe tbody tr th:only-of-type {\n",
       "        vertical-align: middle;\n",
       "    }\n",
       "\n",
       "    .dataframe tbody tr th {\n",
       "        vertical-align: top;\n",
       "    }\n",
       "\n",
       "    .dataframe thead th {\n",
       "        text-align: right;\n",
       "    }\n",
       "</style>\n",
       "<table border=\"1\" class=\"dataframe\">\n",
       "  <thead>\n",
       "    <tr style=\"text-align: right;\">\n",
       "      <th></th>\n",
       "      <th>rooms</th>\n",
       "      <th>city</th>\n",
       "      <th>sqft</th>\n",
       "      <th>toilets</th>\n",
       "      <th>image_id</th>\n",
       "    </tr>\n",
       "  </thead>\n",
       "  <tbody>\n",
       "    <tr>\n",
       "      <th>0</th>\n",
       "      <td>0.111111</td>\n",
       "      <td>0.365385</td>\n",
       "      <td>0.093094</td>\n",
       "      <td>0.246914</td>\n",
       "      <td>0.486041</td>\n",
       "    </tr>\n",
       "    <tr>\n",
       "      <th>1</th>\n",
       "      <td>0.222222</td>\n",
       "      <td>0.134615</td>\n",
       "      <td>0.117949</td>\n",
       "      <td>0.246914</td>\n",
       "      <td>0.465372</td>\n",
       "    </tr>\n",
       "    <tr>\n",
       "      <th>2</th>\n",
       "      <td>0.444444</td>\n",
       "      <td>0.509615</td>\n",
       "      <td>0.255709</td>\n",
       "      <td>0.370370</td>\n",
       "      <td>0.784065</td>\n",
       "    </tr>\n",
       "    <tr>\n",
       "      <th>3</th>\n",
       "      <td>0.333333</td>\n",
       "      <td>0.701923</td>\n",
       "      <td>0.178850</td>\n",
       "      <td>0.259259</td>\n",
       "      <td>0.387032</td>\n",
       "    </tr>\n",
       "    <tr>\n",
       "      <th>4</th>\n",
       "      <td>0.222222</td>\n",
       "      <td>0.096154</td>\n",
       "      <td>0.148400</td>\n",
       "      <td>0.246914</td>\n",
       "      <td>0.478290</td>\n",
       "    </tr>\n",
       "    <tr>\n",
       "      <th>...</th>\n",
       "      <td>...</td>\n",
       "      <td>...</td>\n",
       "      <td>...</td>\n",
       "      <td>...</td>\n",
       "      <td>...</td>\n",
       "    </tr>\n",
       "    <tr>\n",
       "      <th>8395</th>\n",
       "      <td>0.333333</td>\n",
       "      <td>0.028846</td>\n",
       "      <td>0.111712</td>\n",
       "      <td>0.246914</td>\n",
       "      <td>0.066006</td>\n",
       "    </tr>\n",
       "    <tr>\n",
       "      <th>8396</th>\n",
       "      <td>0.333333</td>\n",
       "      <td>0.807692</td>\n",
       "      <td>0.247730</td>\n",
       "      <td>0.370370</td>\n",
       "      <td>0.889324</td>\n",
       "    </tr>\n",
       "    <tr>\n",
       "      <th>8397</th>\n",
       "      <td>0.222222</td>\n",
       "      <td>0.855769</td>\n",
       "      <td>0.090984</td>\n",
       "      <td>0.123457</td>\n",
       "      <td>0.970914</td>\n",
       "    </tr>\n",
       "    <tr>\n",
       "      <th>8398</th>\n",
       "      <td>0.333333</td>\n",
       "      <td>0.711538</td>\n",
       "      <td>0.150784</td>\n",
       "      <td>0.370370</td>\n",
       "      <td>0.177848</td>\n",
       "    </tr>\n",
       "    <tr>\n",
       "      <th>8399</th>\n",
       "      <td>0.444444</td>\n",
       "      <td>0.307692</td>\n",
       "      <td>0.237274</td>\n",
       "      <td>0.370370</td>\n",
       "      <td>0.567714</td>\n",
       "    </tr>\n",
       "  </tbody>\n",
       "</table>\n",
       "<p>8400 rows × 5 columns</p>\n",
       "</div>"
      ],
      "text/plain": [
       "         rooms      city      sqft   toilets  image_id\n",
       "0     0.111111  0.365385  0.093094  0.246914  0.486041\n",
       "1     0.222222  0.134615  0.117949  0.246914  0.465372\n",
       "2     0.444444  0.509615  0.255709  0.370370  0.784065\n",
       "3     0.333333  0.701923  0.178850  0.259259  0.387032\n",
       "4     0.222222  0.096154  0.148400  0.246914  0.478290\n",
       "...        ...       ...       ...       ...       ...\n",
       "8395  0.333333  0.028846  0.111712  0.246914  0.066006\n",
       "8396  0.333333  0.807692  0.247730  0.370370  0.889324\n",
       "8397  0.222222  0.855769  0.090984  0.123457  0.970914\n",
       "8398  0.333333  0.711538  0.150784  0.370370  0.177848\n",
       "8399  0.444444  0.307692  0.237274  0.370370  0.567714\n",
       "\n",
       "[8400 rows x 5 columns]"
      ]
     },
     "execution_count": 52,
     "metadata": {},
     "output_type": "execute_result"
    }
   ],
   "source": [
    "X_train"
   ]
  },
  {
   "cell_type": "markdown",
   "id": "069cbcfa",
   "metadata": {},
   "source": [
    "# TRAINING MODEL"
   ]
  },
  {
   "cell_type": "markdown",
   "id": "53490350",
   "metadata": {},
   "source": [
    "### SVM"
   ]
  },
  {
   "cell_type": "code",
   "execution_count": 53,
   "id": "ba508308",
   "metadata": {},
   "outputs": [],
   "source": [
    "from sklearn.svm import SVR\n",
    "from sklearn.model_selection import train_test_split\n",
    "from sklearn import metrics"
   ]
  },
  {
   "cell_type": "code",
   "execution_count": 54,
   "id": "e364fc88",
   "metadata": {},
   "outputs": [],
   "source": [
    "train,test=train_test_split(data,test_size=0.2,random_state=42)"
   ]
  },
  {
   "cell_type": "code",
   "execution_count": 55,
   "id": "46002034",
   "metadata": {},
   "outputs": [
    {
     "data": {
      "text/html": [
       "<div>\n",
       "<style scoped>\n",
       "    .dataframe tbody tr th:only-of-type {\n",
       "        vertical-align: middle;\n",
       "    }\n",
       "\n",
       "    .dataframe tbody tr th {\n",
       "        vertical-align: top;\n",
       "    }\n",
       "\n",
       "    .dataframe thead th {\n",
       "        text-align: right;\n",
       "    }\n",
       "</style>\n",
       "<table border=\"1\" class=\"dataframe\">\n",
       "  <thead>\n",
       "    <tr style=\"text-align: right;\">\n",
       "      <th></th>\n",
       "      <th>retail_price</th>\n",
       "      <th>rooms</th>\n",
       "      <th>city</th>\n",
       "      <th>sqft</th>\n",
       "      <th>toilets</th>\n",
       "      <th>image_id</th>\n",
       "    </tr>\n",
       "  </thead>\n",
       "  <tbody>\n",
       "    <tr>\n",
       "      <th>8121</th>\n",
       "      <td>259900</td>\n",
       "      <td>0.111111</td>\n",
       "      <td>0.355769</td>\n",
       "      <td>0.047693</td>\n",
       "      <td>0.123457</td>\n",
       "      <td>0.717060</td>\n",
       "    </tr>\n",
       "    <tr>\n",
       "      <th>2484</th>\n",
       "      <td>725000</td>\n",
       "      <td>0.333333</td>\n",
       "      <td>0.875000</td>\n",
       "      <td>0.153719</td>\n",
       "      <td>0.259259</td>\n",
       "      <td>0.346446</td>\n",
       "    </tr>\n",
       "    <tr>\n",
       "      <th>893</th>\n",
       "      <td>1077500</td>\n",
       "      <td>0.555556</td>\n",
       "      <td>0.711538</td>\n",
       "      <td>0.262772</td>\n",
       "      <td>0.493827</td>\n",
       "      <td>0.029919</td>\n",
       "    </tr>\n",
       "    <tr>\n",
       "      <th>4436</th>\n",
       "      <td>350000</td>\n",
       "      <td>0.111111</td>\n",
       "      <td>0.711538</td>\n",
       "      <td>0.068513</td>\n",
       "      <td>0.123457</td>\n",
       "      <td>0.108592</td>\n",
       "    </tr>\n",
       "    <tr>\n",
       "      <th>7299</th>\n",
       "      <td>875000</td>\n",
       "      <td>0.333333</td>\n",
       "      <td>0.788462</td>\n",
       "      <td>0.262588</td>\n",
       "      <td>0.382716</td>\n",
       "      <td>0.647054</td>\n",
       "    </tr>\n",
       "    <tr>\n",
       "      <th>...</th>\n",
       "      <td>...</td>\n",
       "      <td>...</td>\n",
       "      <td>...</td>\n",
       "      <td>...</td>\n",
       "      <td>...</td>\n",
       "      <td>...</td>\n",
       "    </tr>\n",
       "    <tr>\n",
       "      <th>5734</th>\n",
       "      <td>550000</td>\n",
       "      <td>0.333333</td>\n",
       "      <td>0.634615</td>\n",
       "      <td>0.119692</td>\n",
       "      <td>0.246914</td>\n",
       "      <td>0.152013</td>\n",
       "    </tr>\n",
       "    <tr>\n",
       "      <th>5191</th>\n",
       "      <td>365000</td>\n",
       "      <td>0.222222</td>\n",
       "      <td>0.163462</td>\n",
       "      <td>0.093369</td>\n",
       "      <td>0.246914</td>\n",
       "      <td>0.749979</td>\n",
       "    </tr>\n",
       "    <tr>\n",
       "      <th>5390</th>\n",
       "      <td>755000</td>\n",
       "      <td>0.333333</td>\n",
       "      <td>0.711538</td>\n",
       "      <td>0.133633</td>\n",
       "      <td>0.370370</td>\n",
       "      <td>0.200517</td>\n",
       "    </tr>\n",
       "    <tr>\n",
       "      <th>860</th>\n",
       "      <td>385000</td>\n",
       "      <td>0.222222</td>\n",
       "      <td>0.528846</td>\n",
       "      <td>0.080345</td>\n",
       "      <td>0.123457</td>\n",
       "      <td>0.504709</td>\n",
       "    </tr>\n",
       "    <tr>\n",
       "      <th>7270</th>\n",
       "      <td>610000</td>\n",
       "      <td>0.111111</td>\n",
       "      <td>0.711538</td>\n",
       "      <td>0.056040</td>\n",
       "      <td>0.123457</td>\n",
       "      <td>0.172764</td>\n",
       "    </tr>\n",
       "  </tbody>\n",
       "</table>\n",
       "<p>6720 rows × 6 columns</p>\n",
       "</div>"
      ],
      "text/plain": [
       "      retail_price     rooms      city      sqft   toilets  image_id\n",
       "8121        259900  0.111111  0.355769  0.047693  0.123457  0.717060\n",
       "2484        725000  0.333333  0.875000  0.153719  0.259259  0.346446\n",
       "893        1077500  0.555556  0.711538  0.262772  0.493827  0.029919\n",
       "4436        350000  0.111111  0.711538  0.068513  0.123457  0.108592\n",
       "7299        875000  0.333333  0.788462  0.262588  0.382716  0.647054\n",
       "...            ...       ...       ...       ...       ...       ...\n",
       "5734        550000  0.333333  0.634615  0.119692  0.246914  0.152013\n",
       "5191        365000  0.222222  0.163462  0.093369  0.246914  0.749979\n",
       "5390        755000  0.333333  0.711538  0.133633  0.370370  0.200517\n",
       "860         385000  0.222222  0.528846  0.080345  0.123457  0.504709\n",
       "7270        610000  0.111111  0.711538  0.056040  0.123457  0.172764\n",
       "\n",
       "[6720 rows x 6 columns]"
      ]
     },
     "execution_count": 55,
     "metadata": {},
     "output_type": "execute_result"
    }
   ],
   "source": [
    "train"
   ]
  },
  {
   "cell_type": "code",
   "execution_count": 56,
   "id": "31f8420e",
   "metadata": {},
   "outputs": [],
   "source": [
    "X_train=train.copy()\n",
    "Y_train=train[['retail_price']]\n",
    "X_train.drop(['retail_price'],axis=1,inplace=True)\n",
    "X_train=np.array(X_train)\n",
    "Y_train=np.array(Y_train)"
   ]
  },
  {
   "cell_type": "code",
   "execution_count": 57,
   "id": "1214b0e4",
   "metadata": {},
   "outputs": [
    {
     "data": {
      "text/plain": [
       "(array([[0.22222222, 0.08653846, 0.07814363, 0.24691358, 0.07833986],\n",
       "        [0.33333333, 0.26923077, 0.22452536, 0.37037037, 0.53379448],\n",
       "        [0.22222222, 0.05769231, 0.1010731 , 0.24691358, 0.46253854],\n",
       "        ...,\n",
       "        [0.44444444, 0.17307692, 0.16289095, 0.25925926, 0.73839487],\n",
       "        [0.11111111, 0.71153846, 0.04631753, 0.12345679, 0.21743479],\n",
       "        [0.22222222, 0.71153846, 0.07062276, 0.24691358, 0.20643387]]),\n",
       " array([[310000],\n",
       "        [475000],\n",
       "        [250000],\n",
       "        ...,\n",
       "        [315000],\n",
       "        [750000],\n",
       "        [749000]], dtype=int64))"
      ]
     },
     "execution_count": 57,
     "metadata": {},
     "output_type": "execute_result"
    }
   ],
   "source": [
    "X_test=test.copy()\n",
    "Y_test=test[['retail_price']]\n",
    "X_test.drop(['retail_price'],axis=1,inplace=True)\n",
    "X_test=np.array(X_test)\n",
    "Y_test=np.array(Y_test)\n",
    "X_test, Y_test"
   ]
  },
  {
   "cell_type": "code",
   "execution_count": 58,
   "id": "92a6d6ec",
   "metadata": {},
   "outputs": [],
   "source": [
    "Y_train=Y_train.reshape(Y_train.shape[0],)"
   ]
  },
  {
   "cell_type": "code",
   "execution_count": 59,
   "id": "60291dbb",
   "metadata": {},
   "outputs": [],
   "source": [
    "#Y_train_rt4=np.sqrt(np.sqrt(Y_train))\n",
    "#Y_test_rt4=np.log(Y_test)"
   ]
  },
  {
   "cell_type": "code",
   "execution_count": 60,
   "id": "f0cfafe1",
   "metadata": {},
   "outputs": [
    {
     "data": {
      "text/html": [
       "<style>#sk-container-id-3 {color: black;background-color: white;}#sk-container-id-3 pre{padding: 0;}#sk-container-id-3 div.sk-toggleable {background-color: white;}#sk-container-id-3 label.sk-toggleable__label {cursor: pointer;display: block;width: 100%;margin-bottom: 0;padding: 0.3em;box-sizing: border-box;text-align: center;}#sk-container-id-3 label.sk-toggleable__label-arrow:before {content: \"▸\";float: left;margin-right: 0.25em;color: #696969;}#sk-container-id-3 label.sk-toggleable__label-arrow:hover:before {color: black;}#sk-container-id-3 div.sk-estimator:hover label.sk-toggleable__label-arrow:before {color: black;}#sk-container-id-3 div.sk-toggleable__content {max-height: 0;max-width: 0;overflow: hidden;text-align: left;background-color: #f0f8ff;}#sk-container-id-3 div.sk-toggleable__content pre {margin: 0.2em;color: black;border-radius: 0.25em;background-color: #f0f8ff;}#sk-container-id-3 input.sk-toggleable__control:checked~div.sk-toggleable__content {max-height: 200px;max-width: 100%;overflow: auto;}#sk-container-id-3 input.sk-toggleable__control:checked~label.sk-toggleable__label-arrow:before {content: \"▾\";}#sk-container-id-3 div.sk-estimator input.sk-toggleable__control:checked~label.sk-toggleable__label {background-color: #d4ebff;}#sk-container-id-3 div.sk-label input.sk-toggleable__control:checked~label.sk-toggleable__label {background-color: #d4ebff;}#sk-container-id-3 input.sk-hidden--visually {border: 0;clip: rect(1px 1px 1px 1px);clip: rect(1px, 1px, 1px, 1px);height: 1px;margin: -1px;overflow: hidden;padding: 0;position: absolute;width: 1px;}#sk-container-id-3 div.sk-estimator {font-family: monospace;background-color: #f0f8ff;border: 1px dotted black;border-radius: 0.25em;box-sizing: border-box;margin-bottom: 0.5em;}#sk-container-id-3 div.sk-estimator:hover {background-color: #d4ebff;}#sk-container-id-3 div.sk-parallel-item::after {content: \"\";width: 100%;border-bottom: 1px solid gray;flex-grow: 1;}#sk-container-id-3 div.sk-label:hover label.sk-toggleable__label {background-color: #d4ebff;}#sk-container-id-3 div.sk-serial::before {content: \"\";position: absolute;border-left: 1px solid gray;box-sizing: border-box;top: 0;bottom: 0;left: 50%;z-index: 0;}#sk-container-id-3 div.sk-serial {display: flex;flex-direction: column;align-items: center;background-color: white;padding-right: 0.2em;padding-left: 0.2em;position: relative;}#sk-container-id-3 div.sk-item {position: relative;z-index: 1;}#sk-container-id-3 div.sk-parallel {display: flex;align-items: stretch;justify-content: center;background-color: white;position: relative;}#sk-container-id-3 div.sk-item::before, #sk-container-id-3 div.sk-parallel-item::before {content: \"\";position: absolute;border-left: 1px solid gray;box-sizing: border-box;top: 0;bottom: 0;left: 50%;z-index: -1;}#sk-container-id-3 div.sk-parallel-item {display: flex;flex-direction: column;z-index: 1;position: relative;background-color: white;}#sk-container-id-3 div.sk-parallel-item:first-child::after {align-self: flex-end;width: 50%;}#sk-container-id-3 div.sk-parallel-item:last-child::after {align-self: flex-start;width: 50%;}#sk-container-id-3 div.sk-parallel-item:only-child::after {width: 0;}#sk-container-id-3 div.sk-dashed-wrapped {border: 1px dashed gray;margin: 0 0.4em 0.5em 0.4em;box-sizing: border-box;padding-bottom: 0.4em;background-color: white;}#sk-container-id-3 div.sk-label label {font-family: monospace;font-weight: bold;display: inline-block;line-height: 1.2em;}#sk-container-id-3 div.sk-label-container {text-align: center;}#sk-container-id-3 div.sk-container {/* jupyter's `normalize.less` sets `[hidden] { display: none; }` but bootstrap.min.css set `[hidden] { display: none !important; }` so we also need the `!important` here to be able to override the default hidden behavior on the sphinx rendered scikit-learn.org. See: https://github.com/scikit-learn/scikit-learn/issues/21755 */display: inline-block !important;position: relative;}#sk-container-id-3 div.sk-text-repr-fallback {display: none;}</style><div id=\"sk-container-id-3\" class=\"sk-top-container\"><div class=\"sk-text-repr-fallback\"><pre>SVR(C=1, kernel=&#x27;linear&#x27;)</pre><b>In a Jupyter environment, please rerun this cell to show the HTML representation or trust the notebook. <br />On GitHub, the HTML representation is unable to render, please try loading this page with nbviewer.org.</b></div><div class=\"sk-container\" hidden><div class=\"sk-item\"><div class=\"sk-estimator sk-toggleable\"><input class=\"sk-toggleable__control sk-hidden--visually\" id=\"sk-estimator-id-5\" type=\"checkbox\" checked><label for=\"sk-estimator-id-5\" class=\"sk-toggleable__label sk-toggleable__label-arrow\">SVR</label><div class=\"sk-toggleable__content\"><pre>SVR(C=1, kernel=&#x27;linear&#x27;)</pre></div></div></div></div></div>"
      ],
      "text/plain": [
       "SVR(C=1, kernel='linear')"
      ]
     },
     "execution_count": 60,
     "metadata": {},
     "output_type": "execute_result"
    }
   ],
   "source": [
    "model=SVR(C=1,kernel='linear')\n",
    "model.fit(X_train,Y_train)"
   ]
  },
  {
   "cell_type": "code",
   "execution_count": 61,
   "id": "5416593a",
   "metadata": {},
   "outputs": [
    {
     "name": "stdout",
     "output_type": "stream",
     "text": [
      "387951.8547226509\n"
     ]
    }
   ],
   "source": [
    "y_pred=model.predict(X_test)\n",
    "mse=metrics.mean_squared_error(Y_test,y_pred)\n",
    "rmse=math.sqrt(mse)\n",
    "print(rmse)"
   ]
  },
  {
   "cell_type": "markdown",
   "id": "3e1c196e",
   "metadata": {},
   "source": [
    "### Random forest"
   ]
  },
  {
   "cell_type": "code",
   "execution_count": 63,
   "id": "6dea970b",
   "metadata": {},
   "outputs": [],
   "source": [
    "from sklearn.ensemble import RandomForestRegressor"
   ]
  },
  {
   "cell_type": "code",
   "execution_count": 64,
   "id": "b6194580",
   "metadata": {},
   "outputs": [
    {
     "data": {
      "text/html": [
       "<style>#sk-container-id-4 {color: black;background-color: white;}#sk-container-id-4 pre{padding: 0;}#sk-container-id-4 div.sk-toggleable {background-color: white;}#sk-container-id-4 label.sk-toggleable__label {cursor: pointer;display: block;width: 100%;margin-bottom: 0;padding: 0.3em;box-sizing: border-box;text-align: center;}#sk-container-id-4 label.sk-toggleable__label-arrow:before {content: \"▸\";float: left;margin-right: 0.25em;color: #696969;}#sk-container-id-4 label.sk-toggleable__label-arrow:hover:before {color: black;}#sk-container-id-4 div.sk-estimator:hover label.sk-toggleable__label-arrow:before {color: black;}#sk-container-id-4 div.sk-toggleable__content {max-height: 0;max-width: 0;overflow: hidden;text-align: left;background-color: #f0f8ff;}#sk-container-id-4 div.sk-toggleable__content pre {margin: 0.2em;color: black;border-radius: 0.25em;background-color: #f0f8ff;}#sk-container-id-4 input.sk-toggleable__control:checked~div.sk-toggleable__content {max-height: 200px;max-width: 100%;overflow: auto;}#sk-container-id-4 input.sk-toggleable__control:checked~label.sk-toggleable__label-arrow:before {content: \"▾\";}#sk-container-id-4 div.sk-estimator input.sk-toggleable__control:checked~label.sk-toggleable__label {background-color: #d4ebff;}#sk-container-id-4 div.sk-label input.sk-toggleable__control:checked~label.sk-toggleable__label {background-color: #d4ebff;}#sk-container-id-4 input.sk-hidden--visually {border: 0;clip: rect(1px 1px 1px 1px);clip: rect(1px, 1px, 1px, 1px);height: 1px;margin: -1px;overflow: hidden;padding: 0;position: absolute;width: 1px;}#sk-container-id-4 div.sk-estimator {font-family: monospace;background-color: #f0f8ff;border: 1px dotted black;border-radius: 0.25em;box-sizing: border-box;margin-bottom: 0.5em;}#sk-container-id-4 div.sk-estimator:hover {background-color: #d4ebff;}#sk-container-id-4 div.sk-parallel-item::after {content: \"\";width: 100%;border-bottom: 1px solid gray;flex-grow: 1;}#sk-container-id-4 div.sk-label:hover label.sk-toggleable__label {background-color: #d4ebff;}#sk-container-id-4 div.sk-serial::before {content: \"\";position: absolute;border-left: 1px solid gray;box-sizing: border-box;top: 0;bottom: 0;left: 50%;z-index: 0;}#sk-container-id-4 div.sk-serial {display: flex;flex-direction: column;align-items: center;background-color: white;padding-right: 0.2em;padding-left: 0.2em;position: relative;}#sk-container-id-4 div.sk-item {position: relative;z-index: 1;}#sk-container-id-4 div.sk-parallel {display: flex;align-items: stretch;justify-content: center;background-color: white;position: relative;}#sk-container-id-4 div.sk-item::before, #sk-container-id-4 div.sk-parallel-item::before {content: \"\";position: absolute;border-left: 1px solid gray;box-sizing: border-box;top: 0;bottom: 0;left: 50%;z-index: -1;}#sk-container-id-4 div.sk-parallel-item {display: flex;flex-direction: column;z-index: 1;position: relative;background-color: white;}#sk-container-id-4 div.sk-parallel-item:first-child::after {align-self: flex-end;width: 50%;}#sk-container-id-4 div.sk-parallel-item:last-child::after {align-self: flex-start;width: 50%;}#sk-container-id-4 div.sk-parallel-item:only-child::after {width: 0;}#sk-container-id-4 div.sk-dashed-wrapped {border: 1px dashed gray;margin: 0 0.4em 0.5em 0.4em;box-sizing: border-box;padding-bottom: 0.4em;background-color: white;}#sk-container-id-4 div.sk-label label {font-family: monospace;font-weight: bold;display: inline-block;line-height: 1.2em;}#sk-container-id-4 div.sk-label-container {text-align: center;}#sk-container-id-4 div.sk-container {/* jupyter's `normalize.less` sets `[hidden] { display: none; }` but bootstrap.min.css set `[hidden] { display: none !important; }` so we also need the `!important` here to be able to override the default hidden behavior on the sphinx rendered scikit-learn.org. See: https://github.com/scikit-learn/scikit-learn/issues/21755 */display: inline-block !important;position: relative;}#sk-container-id-4 div.sk-text-repr-fallback {display: none;}</style><div id=\"sk-container-id-4\" class=\"sk-top-container\"><div class=\"sk-text-repr-fallback\"><pre>RandomForestRegressor(max_features=&#x27;sqrt&#x27;, max_samples=0.7, n_estimators=500,\n",
       "                      random_state=42)</pre><b>In a Jupyter environment, please rerun this cell to show the HTML representation or trust the notebook. <br />On GitHub, the HTML representation is unable to render, please try loading this page with nbviewer.org.</b></div><div class=\"sk-container\" hidden><div class=\"sk-item\"><div class=\"sk-estimator sk-toggleable\"><input class=\"sk-toggleable__control sk-hidden--visually\" id=\"sk-estimator-id-6\" type=\"checkbox\" checked><label for=\"sk-estimator-id-6\" class=\"sk-toggleable__label sk-toggleable__label-arrow\">RandomForestRegressor</label><div class=\"sk-toggleable__content\"><pre>RandomForestRegressor(max_features=&#x27;sqrt&#x27;, max_samples=0.7, n_estimators=500,\n",
       "                      random_state=42)</pre></div></div></div></div></div>"
      ],
      "text/plain": [
       "RandomForestRegressor(max_features='sqrt', max_samples=0.7, n_estimators=500,\n",
       "                      random_state=42)"
      ]
     },
     "execution_count": 64,
     "metadata": {},
     "output_type": "execute_result"
    }
   ],
   "source": [
    "rf=RandomForestRegressor(n_estimators = 500, max_features = 'sqrt', \n",
    "                                  bootstrap = True, random_state = 42, max_samples = 0.7,\n",
    "                                  warm_start = False)\n",
    "rf.fit(X_train,Y_train)"
   ]
  },
  {
   "cell_type": "code",
   "execution_count": 65,
   "id": "45528785",
   "metadata": {},
   "outputs": [
    {
     "name": "stdout",
     "output_type": "stream",
     "text": [
      "114833.44244198236\n"
     ]
    }
   ],
   "source": [
    "y_pred=rf.predict(X_test)\n",
    "mse=metrics.mean_squared_error(Y_test,y_pred)\n",
    "rmse=math.sqrt(mse)\n",
    "print(rmse)"
   ]
  },
  {
   "cell_type": "code",
   "execution_count": 112,
   "id": "b4edab58",
   "metadata": {},
   "outputs": [
    {
     "name": "stdout",
     "output_type": "stream",
     "text": [
      "66440.81957892353\n"
     ]
    }
   ],
   "source": [
    "y_pred=rf.predict(X_train)\n",
    "mse=metrics.mean_squared_error(Y_train,y_pred)\n",
    "rmse=math.sqrt(mse)\n",
    "print(rmse)"
   ]
  },
  {
   "cell_type": "code",
   "execution_count": 113,
   "id": "e8d5f147",
   "metadata": {},
   "outputs": [],
   "source": [
    "#Hence random forest shows good amount of overfitting"
   ]
  },
  {
   "cell_type": "code",
   "execution_count": 66,
   "id": "2ab7e3f5",
   "metadata": {},
   "outputs": [],
   "source": [
    "n_estimators=[int(x) for x in np.linspace(start=200, stop=1500 , num=10)]\n",
    "criterion=['squared_error','absolute_error','friedman_mse','poisson']\n",
    "max_features=['auto','sqrt','log2']\n",
    "max_depth=[int(x) for x in np.linspace(10,100,10)]\n",
    "min_samples_split=[1,3,4,5,7,9]\n",
    "min_samples_leave=[1,2,4,6,8]"
   ]
  },
  {
   "cell_type": "code",
   "execution_count": 68,
   "id": "d6c59dda",
   "metadata": {},
   "outputs": [],
   "source": [
    "params={\n",
    "    'n_estimators':n_estimators,\n",
    "    'max_features':max_features,\n",
    "    'max_depth':max_depth,\n",
    "    'min_samples_split':min_samples_split,\n",
    "    'min_samples_leaf':min_samples_leave,\n",
    "    'criterion':criterion\n",
    "}"
   ]
  },
  {
   "cell_type": "code",
   "execution_count": 69,
   "id": "fe212979",
   "metadata": {},
   "outputs": [],
   "source": [
    "from sklearn.model_selection import RandomizedSearchCV\n",
    "from sklearn.model_selection import GridSearchCV"
   ]
  },
  {
   "cell_type": "code",
   "execution_count": 70,
   "id": "88b9a2cc",
   "metadata": {},
   "outputs": [],
   "source": [
    "random=RandomizedSearchCV(estimator=rf,param_distributions=params,n_iter=30,cv=3,verbose=2,random_state=100,n_jobs=4)\n",
    "random.fit(X_train,Y_train)"
   ]
  },
  {
   "cell_type": "code",
   "execution_count": 69,
   "id": "49c80ba6",
   "metadata": {},
   "outputs": [
    {
     "data": {
      "text/plain": [
       "{'n_estimators': 200,\n",
       " 'min_samples_split': 1,\n",
       " 'min_samples_leaf': 2,\n",
       " 'max_features': 'auto',\n",
       " 'max_depth': 40,\n",
       " 'criterion': 'friedman_mse'}"
      ]
     },
     "execution_count": 69,
     "metadata": {},
     "output_type": "execute_result"
    }
   ],
   "source": [
    "random.best_params_"
   ]
  },
  {
   "cell_type": "code",
   "execution_count": 186,
   "id": "a1115b7b",
   "metadata": {},
   "outputs": [
    {
     "data": {
      "text/plain": [
       "RandomForestRegressor(criterion='friedman_mse', max_depth=40,\n",
       "                      min_samples_leaf=2, min_samples_split=1.0,\n",
       "                      n_estimators=200)"
      ]
     },
     "execution_count": 186,
     "metadata": {},
     "output_type": "execute_result"
    }
   ],
   "source": [
    "rf=RandomForestRegressor(n_estimators= 200,\n",
    " min_samples_split= 1.0,\n",
    " min_samples_leaf= 2,\n",
    " max_features= 'auto',\n",
    " max_depth= 40,\n",
    " criterion= 'friedman_mse')\n",
    "rf.fit(X_train,Y_train)"
   ]
  },
  {
   "cell_type": "markdown",
   "id": "ef26fc5b",
   "metadata": {},
   "source": [
    "### GRADIENT BOOST"
   ]
  },
  {
   "cell_type": "code",
   "execution_count": 71,
   "id": "a1b413fe",
   "metadata": {},
   "outputs": [],
   "source": [
    "from sklearn.ensemble import GradientBoostingRegressor\n",
    "from sklearn.model_selection import cross_val_predict"
   ]
  },
  {
   "cell_type": "code",
   "execution_count": 73,
   "id": "aead2491",
   "metadata": {},
   "outputs": [
    {
     "data": {
      "text/html": [
       "<style>#sk-container-id-6 {color: black;background-color: white;}#sk-container-id-6 pre{padding: 0;}#sk-container-id-6 div.sk-toggleable {background-color: white;}#sk-container-id-6 label.sk-toggleable__label {cursor: pointer;display: block;width: 100%;margin-bottom: 0;padding: 0.3em;box-sizing: border-box;text-align: center;}#sk-container-id-6 label.sk-toggleable__label-arrow:before {content: \"▸\";float: left;margin-right: 0.25em;color: #696969;}#sk-container-id-6 label.sk-toggleable__label-arrow:hover:before {color: black;}#sk-container-id-6 div.sk-estimator:hover label.sk-toggleable__label-arrow:before {color: black;}#sk-container-id-6 div.sk-toggleable__content {max-height: 0;max-width: 0;overflow: hidden;text-align: left;background-color: #f0f8ff;}#sk-container-id-6 div.sk-toggleable__content pre {margin: 0.2em;color: black;border-radius: 0.25em;background-color: #f0f8ff;}#sk-container-id-6 input.sk-toggleable__control:checked~div.sk-toggleable__content {max-height: 200px;max-width: 100%;overflow: auto;}#sk-container-id-6 input.sk-toggleable__control:checked~label.sk-toggleable__label-arrow:before {content: \"▾\";}#sk-container-id-6 div.sk-estimator input.sk-toggleable__control:checked~label.sk-toggleable__label {background-color: #d4ebff;}#sk-container-id-6 div.sk-label input.sk-toggleable__control:checked~label.sk-toggleable__label {background-color: #d4ebff;}#sk-container-id-6 input.sk-hidden--visually {border: 0;clip: rect(1px 1px 1px 1px);clip: rect(1px, 1px, 1px, 1px);height: 1px;margin: -1px;overflow: hidden;padding: 0;position: absolute;width: 1px;}#sk-container-id-6 div.sk-estimator {font-family: monospace;background-color: #f0f8ff;border: 1px dotted black;border-radius: 0.25em;box-sizing: border-box;margin-bottom: 0.5em;}#sk-container-id-6 div.sk-estimator:hover {background-color: #d4ebff;}#sk-container-id-6 div.sk-parallel-item::after {content: \"\";width: 100%;border-bottom: 1px solid gray;flex-grow: 1;}#sk-container-id-6 div.sk-label:hover label.sk-toggleable__label {background-color: #d4ebff;}#sk-container-id-6 div.sk-serial::before {content: \"\";position: absolute;border-left: 1px solid gray;box-sizing: border-box;top: 0;bottom: 0;left: 50%;z-index: 0;}#sk-container-id-6 div.sk-serial {display: flex;flex-direction: column;align-items: center;background-color: white;padding-right: 0.2em;padding-left: 0.2em;position: relative;}#sk-container-id-6 div.sk-item {position: relative;z-index: 1;}#sk-container-id-6 div.sk-parallel {display: flex;align-items: stretch;justify-content: center;background-color: white;position: relative;}#sk-container-id-6 div.sk-item::before, #sk-container-id-6 div.sk-parallel-item::before {content: \"\";position: absolute;border-left: 1px solid gray;box-sizing: border-box;top: 0;bottom: 0;left: 50%;z-index: -1;}#sk-container-id-6 div.sk-parallel-item {display: flex;flex-direction: column;z-index: 1;position: relative;background-color: white;}#sk-container-id-6 div.sk-parallel-item:first-child::after {align-self: flex-end;width: 50%;}#sk-container-id-6 div.sk-parallel-item:last-child::after {align-self: flex-start;width: 50%;}#sk-container-id-6 div.sk-parallel-item:only-child::after {width: 0;}#sk-container-id-6 div.sk-dashed-wrapped {border: 1px dashed gray;margin: 0 0.4em 0.5em 0.4em;box-sizing: border-box;padding-bottom: 0.4em;background-color: white;}#sk-container-id-6 div.sk-label label {font-family: monospace;font-weight: bold;display: inline-block;line-height: 1.2em;}#sk-container-id-6 div.sk-label-container {text-align: center;}#sk-container-id-6 div.sk-container {/* jupyter's `normalize.less` sets `[hidden] { display: none; }` but bootstrap.min.css set `[hidden] { display: none !important; }` so we also need the `!important` here to be able to override the default hidden behavior on the sphinx rendered scikit-learn.org. See: https://github.com/scikit-learn/scikit-learn/issues/21755 */display: inline-block !important;position: relative;}#sk-container-id-6 div.sk-text-repr-fallback {display: none;}</style><div id=\"sk-container-id-6\" class=\"sk-top-container\"><div class=\"sk-text-repr-fallback\"><pre>GradientBoostingRegressor(max_depth=10, max_features=1.0, max_leaf_nodes=10,\n",
       "                          min_samples_leaf=4, n_estimators=588, subsample=0.6)</pre><b>In a Jupyter environment, please rerun this cell to show the HTML representation or trust the notebook. <br />On GitHub, the HTML representation is unable to render, please try loading this page with nbviewer.org.</b></div><div class=\"sk-container\" hidden><div class=\"sk-item\"><div class=\"sk-estimator sk-toggleable\"><input class=\"sk-toggleable__control sk-hidden--visually\" id=\"sk-estimator-id-8\" type=\"checkbox\" checked><label for=\"sk-estimator-id-8\" class=\"sk-toggleable__label sk-toggleable__label-arrow\">GradientBoostingRegressor</label><div class=\"sk-toggleable__content\"><pre>GradientBoostingRegressor(max_depth=10, max_features=1.0, max_leaf_nodes=10,\n",
       "                          min_samples_leaf=4, n_estimators=588, subsample=0.6)</pre></div></div></div></div></div>"
      ],
      "text/plain": [
       "GradientBoostingRegressor(max_depth=10, max_features=1.0, max_leaf_nodes=10,\n",
       "                          min_samples_leaf=4, n_estimators=588, subsample=0.6)"
      ]
     },
     "execution_count": 73,
     "metadata": {},
     "output_type": "execute_result"
    }
   ],
   "source": [
    "estimator=GradientBoostingRegressor(subsample= 0.6,\n",
    " n_estimators= 588,\n",
    " min_samples_leaf= 4,\n",
    " max_leaf_nodes= 10,\n",
    " max_features= 1.0,\n",
    " max_depth= 10,\n",
    " learning_rate= 0.1)\n",
    "estimator.fit(X_train,Y_train)"
   ]
  },
  {
   "cell_type": "code",
   "execution_count": 74,
   "id": "37e1e6b1",
   "metadata": {},
   "outputs": [
    {
     "name": "stdout",
     "output_type": "stream",
     "text": [
      "75236.1062554497\n"
     ]
    }
   ],
   "source": [
    "pred=estimator.predict(X_test)\n",
    "mse=metrics.mean_squared_error(Y_test,pred)\n",
    "rmse=math.sqrt(mse)\n",
    "print(rmse)"
   ]
  },
  {
   "cell_type": "code",
   "execution_count": 75,
   "id": "04c3ae7e",
   "metadata": {},
   "outputs": [
    {
     "name": "stdout",
     "output_type": "stream",
     "text": [
      "45310.68043883646\n"
     ]
    }
   ],
   "source": [
    "pred=estimator.predict(X_train)\n",
    "mse=metrics.mean_squared_error(Y_train, pred)\n",
    "rmse=math.sqrt(mse)\n",
    "print(rmse)"
   ]
  },
  {
   "cell_type": "code",
   "execution_count": 76,
   "id": "caf45622",
   "metadata": {},
   "outputs": [],
   "source": [
    "params_gradient={\n",
    "    'n_estimators':[int(x) for x in np.linspace(start=100, stop=1200 , num=10)],\n",
    "    'learning_rate':[0.05,0.1,0.2,0.3],\n",
    "    'max_depth':[int(x) for x in np.linspace(2,10,2)],\n",
    "    'min_samples_leaf':[1,2,3,4],\n",
    "    'max_features':['auto','sqrt','log2'],\n",
    "    'max_leaf_nodes':[int(x) for x in np.linspace(2,10,2)],\n",
    "    'subsample':[0.5,0.6,0.7,1],\n",
    "}"
   ]
  },
  {
   "cell_type": "markdown",
   "id": "c770fb06",
   "metadata": {},
   "source": [
    "random_gb=RandomizedSearchCV(estimator,param_distributions=params_gradient,n_iter=30,scoring='neg_mean_squared_error',n_jobs=-1,cv=3,verbose=3)\n",
    "random_gb.fit(X_train,Y_train)"
   ]
  },
  {
   "cell_type": "code",
   "execution_count": 78,
   "id": "fbf21e0b",
   "metadata": {},
   "outputs": [],
   "source": [
    "random_gb.best_params_"
   ]
  },
  {
   "cell_type": "markdown",
   "id": "79aa8f5f",
   "metadata": {},
   "source": [
    "### XGBOOST"
   ]
  },
  {
   "cell_type": "code",
   "execution_count": 79,
   "id": "5a4e78dc",
   "metadata": {},
   "outputs": [],
   "source": [
    "import xgboost as xg"
   ]
  },
  {
   "cell_type": "code",
   "execution_count": 80,
   "id": "fc33d312",
   "metadata": {},
   "outputs": [
    {
     "data": {
      "text/html": [
       "<style>#sk-container-id-7 {color: black;background-color: white;}#sk-container-id-7 pre{padding: 0;}#sk-container-id-7 div.sk-toggleable {background-color: white;}#sk-container-id-7 label.sk-toggleable__label {cursor: pointer;display: block;width: 100%;margin-bottom: 0;padding: 0.3em;box-sizing: border-box;text-align: center;}#sk-container-id-7 label.sk-toggleable__label-arrow:before {content: \"▸\";float: left;margin-right: 0.25em;color: #696969;}#sk-container-id-7 label.sk-toggleable__label-arrow:hover:before {color: black;}#sk-container-id-7 div.sk-estimator:hover label.sk-toggleable__label-arrow:before {color: black;}#sk-container-id-7 div.sk-toggleable__content {max-height: 0;max-width: 0;overflow: hidden;text-align: left;background-color: #f0f8ff;}#sk-container-id-7 div.sk-toggleable__content pre {margin: 0.2em;color: black;border-radius: 0.25em;background-color: #f0f8ff;}#sk-container-id-7 input.sk-toggleable__control:checked~div.sk-toggleable__content {max-height: 200px;max-width: 100%;overflow: auto;}#sk-container-id-7 input.sk-toggleable__control:checked~label.sk-toggleable__label-arrow:before {content: \"▾\";}#sk-container-id-7 div.sk-estimator input.sk-toggleable__control:checked~label.sk-toggleable__label {background-color: #d4ebff;}#sk-container-id-7 div.sk-label input.sk-toggleable__control:checked~label.sk-toggleable__label {background-color: #d4ebff;}#sk-container-id-7 input.sk-hidden--visually {border: 0;clip: rect(1px 1px 1px 1px);clip: rect(1px, 1px, 1px, 1px);height: 1px;margin: -1px;overflow: hidden;padding: 0;position: absolute;width: 1px;}#sk-container-id-7 div.sk-estimator {font-family: monospace;background-color: #f0f8ff;border: 1px dotted black;border-radius: 0.25em;box-sizing: border-box;margin-bottom: 0.5em;}#sk-container-id-7 div.sk-estimator:hover {background-color: #d4ebff;}#sk-container-id-7 div.sk-parallel-item::after {content: \"\";width: 100%;border-bottom: 1px solid gray;flex-grow: 1;}#sk-container-id-7 div.sk-label:hover label.sk-toggleable__label {background-color: #d4ebff;}#sk-container-id-7 div.sk-serial::before {content: \"\";position: absolute;border-left: 1px solid gray;box-sizing: border-box;top: 0;bottom: 0;left: 50%;z-index: 0;}#sk-container-id-7 div.sk-serial {display: flex;flex-direction: column;align-items: center;background-color: white;padding-right: 0.2em;padding-left: 0.2em;position: relative;}#sk-container-id-7 div.sk-item {position: relative;z-index: 1;}#sk-container-id-7 div.sk-parallel {display: flex;align-items: stretch;justify-content: center;background-color: white;position: relative;}#sk-container-id-7 div.sk-item::before, #sk-container-id-7 div.sk-parallel-item::before {content: \"\";position: absolute;border-left: 1px solid gray;box-sizing: border-box;top: 0;bottom: 0;left: 50%;z-index: -1;}#sk-container-id-7 div.sk-parallel-item {display: flex;flex-direction: column;z-index: 1;position: relative;background-color: white;}#sk-container-id-7 div.sk-parallel-item:first-child::after {align-self: flex-end;width: 50%;}#sk-container-id-7 div.sk-parallel-item:last-child::after {align-self: flex-start;width: 50%;}#sk-container-id-7 div.sk-parallel-item:only-child::after {width: 0;}#sk-container-id-7 div.sk-dashed-wrapped {border: 1px dashed gray;margin: 0 0.4em 0.5em 0.4em;box-sizing: border-box;padding-bottom: 0.4em;background-color: white;}#sk-container-id-7 div.sk-label label {font-family: monospace;font-weight: bold;display: inline-block;line-height: 1.2em;}#sk-container-id-7 div.sk-label-container {text-align: center;}#sk-container-id-7 div.sk-container {/* jupyter's `normalize.less` sets `[hidden] { display: none; }` but bootstrap.min.css set `[hidden] { display: none !important; }` so we also need the `!important` here to be able to override the default hidden behavior on the sphinx rendered scikit-learn.org. See: https://github.com/scikit-learn/scikit-learn/issues/21755 */display: inline-block !important;position: relative;}#sk-container-id-7 div.sk-text-repr-fallback {display: none;}</style><div id=\"sk-container-id-7\" class=\"sk-top-container\"><div class=\"sk-text-repr-fallback\"><pre>XGBRegressor(base_score=0.5, booster=&#x27;gbtree&#x27;, callbacks=None,\n",
       "             colsample_bylevel=1, colsample_bynode=1, colsample_bytree=0.7,\n",
       "             early_stopping_rounds=None, enable_categorical=False, eta=0.3,\n",
       "             eval_metric=None, feature_types=None, gamma=0.0, gpu_id=-1,\n",
       "             grow_policy=&#x27;depthwise&#x27;, importance_type=None,\n",
       "             interaction_constraints=&#x27;&#x27;, learning_rate=0.300000012, max_bin=256,\n",
       "             max_cat_threshold=64, max_cat_to_onehot=4, max_delta_step=0,\n",
       "             max_depth=2, max_leaves=0, min_child_weight=1, missing=nan,\n",
       "             monotone_constraints=&#x27;()&#x27;, n_estimators=833, n_jobs=0,\n",
       "             num_parallel_tree=1, predictor=&#x27;auto&#x27;, ...)</pre><b>In a Jupyter environment, please rerun this cell to show the HTML representation or trust the notebook. <br />On GitHub, the HTML representation is unable to render, please try loading this page with nbviewer.org.</b></div><div class=\"sk-container\" hidden><div class=\"sk-item\"><div class=\"sk-estimator sk-toggleable\"><input class=\"sk-toggleable__control sk-hidden--visually\" id=\"sk-estimator-id-9\" type=\"checkbox\" checked><label for=\"sk-estimator-id-9\" class=\"sk-toggleable__label sk-toggleable__label-arrow\">XGBRegressor</label><div class=\"sk-toggleable__content\"><pre>XGBRegressor(base_score=0.5, booster=&#x27;gbtree&#x27;, callbacks=None,\n",
       "             colsample_bylevel=1, colsample_bynode=1, colsample_bytree=0.7,\n",
       "             early_stopping_rounds=None, enable_categorical=False, eta=0.3,\n",
       "             eval_metric=None, feature_types=None, gamma=0.0, gpu_id=-1,\n",
       "             grow_policy=&#x27;depthwise&#x27;, importance_type=None,\n",
       "             interaction_constraints=&#x27;&#x27;, learning_rate=0.300000012, max_bin=256,\n",
       "             max_cat_threshold=64, max_cat_to_onehot=4, max_delta_step=0,\n",
       "             max_depth=2, max_leaves=0, min_child_weight=1, missing=nan,\n",
       "             monotone_constraints=&#x27;()&#x27;, n_estimators=833, n_jobs=0,\n",
       "             num_parallel_tree=1, predictor=&#x27;auto&#x27;, ...)</pre></div></div></div></div></div>"
      ],
      "text/plain": [
       "XGBRegressor(base_score=0.5, booster='gbtree', callbacks=None,\n",
       "             colsample_bylevel=1, colsample_bynode=1, colsample_bytree=0.7,\n",
       "             early_stopping_rounds=None, enable_categorical=False, eta=0.3,\n",
       "             eval_metric=None, feature_types=None, gamma=0.0, gpu_id=-1,\n",
       "             grow_policy='depthwise', importance_type=None,\n",
       "             interaction_constraints='', learning_rate=0.300000012, max_bin=256,\n",
       "             max_cat_threshold=64, max_cat_to_onehot=4, max_delta_step=0,\n",
       "             max_depth=2, max_leaves=0, min_child_weight=1, missing=nan,\n",
       "             monotone_constraints='()', n_estimators=833, n_jobs=0,\n",
       "             num_parallel_tree=1, predictor='auto', ...)"
      ]
     },
     "execution_count": 80,
     "metadata": {},
     "output_type": "execute_result"
    }
   ],
   "source": [
    "XGB=xg.XGBRegressor(subsample= 1,\n",
    " reg_lambda= 5,\n",
    " n_estimators= 833,\n",
    " min_child_weight= 1,\n",
    " max_depth= 2,\n",
    " gamma= 0.0,\n",
    " eta= 0.3,\n",
    " colsample_bytree= 0.7,\n",
    " booster= 'gbtree')\n",
    "XGB.fit(X_train,Y_train)"
   ]
  },
  {
   "cell_type": "code",
   "execution_count": 81,
   "id": "5e571730",
   "metadata": {},
   "outputs": [
    {
     "data": {
      "text/html": [
       "<style>#sk-container-id-8 {color: black;background-color: white;}#sk-container-id-8 pre{padding: 0;}#sk-container-id-8 div.sk-toggleable {background-color: white;}#sk-container-id-8 label.sk-toggleable__label {cursor: pointer;display: block;width: 100%;margin-bottom: 0;padding: 0.3em;box-sizing: border-box;text-align: center;}#sk-container-id-8 label.sk-toggleable__label-arrow:before {content: \"▸\";float: left;margin-right: 0.25em;color: #696969;}#sk-container-id-8 label.sk-toggleable__label-arrow:hover:before {color: black;}#sk-container-id-8 div.sk-estimator:hover label.sk-toggleable__label-arrow:before {color: black;}#sk-container-id-8 div.sk-toggleable__content {max-height: 0;max-width: 0;overflow: hidden;text-align: left;background-color: #f0f8ff;}#sk-container-id-8 div.sk-toggleable__content pre {margin: 0.2em;color: black;border-radius: 0.25em;background-color: #f0f8ff;}#sk-container-id-8 input.sk-toggleable__control:checked~div.sk-toggleable__content {max-height: 200px;max-width: 100%;overflow: auto;}#sk-container-id-8 input.sk-toggleable__control:checked~label.sk-toggleable__label-arrow:before {content: \"▾\";}#sk-container-id-8 div.sk-estimator input.sk-toggleable__control:checked~label.sk-toggleable__label {background-color: #d4ebff;}#sk-container-id-8 div.sk-label input.sk-toggleable__control:checked~label.sk-toggleable__label {background-color: #d4ebff;}#sk-container-id-8 input.sk-hidden--visually {border: 0;clip: rect(1px 1px 1px 1px);clip: rect(1px, 1px, 1px, 1px);height: 1px;margin: -1px;overflow: hidden;padding: 0;position: absolute;width: 1px;}#sk-container-id-8 div.sk-estimator {font-family: monospace;background-color: #f0f8ff;border: 1px dotted black;border-radius: 0.25em;box-sizing: border-box;margin-bottom: 0.5em;}#sk-container-id-8 div.sk-estimator:hover {background-color: #d4ebff;}#sk-container-id-8 div.sk-parallel-item::after {content: \"\";width: 100%;border-bottom: 1px solid gray;flex-grow: 1;}#sk-container-id-8 div.sk-label:hover label.sk-toggleable__label {background-color: #d4ebff;}#sk-container-id-8 div.sk-serial::before {content: \"\";position: absolute;border-left: 1px solid gray;box-sizing: border-box;top: 0;bottom: 0;left: 50%;z-index: 0;}#sk-container-id-8 div.sk-serial {display: flex;flex-direction: column;align-items: center;background-color: white;padding-right: 0.2em;padding-left: 0.2em;position: relative;}#sk-container-id-8 div.sk-item {position: relative;z-index: 1;}#sk-container-id-8 div.sk-parallel {display: flex;align-items: stretch;justify-content: center;background-color: white;position: relative;}#sk-container-id-8 div.sk-item::before, #sk-container-id-8 div.sk-parallel-item::before {content: \"\";position: absolute;border-left: 1px solid gray;box-sizing: border-box;top: 0;bottom: 0;left: 50%;z-index: -1;}#sk-container-id-8 div.sk-parallel-item {display: flex;flex-direction: column;z-index: 1;position: relative;background-color: white;}#sk-container-id-8 div.sk-parallel-item:first-child::after {align-self: flex-end;width: 50%;}#sk-container-id-8 div.sk-parallel-item:last-child::after {align-self: flex-start;width: 50%;}#sk-container-id-8 div.sk-parallel-item:only-child::after {width: 0;}#sk-container-id-8 div.sk-dashed-wrapped {border: 1px dashed gray;margin: 0 0.4em 0.5em 0.4em;box-sizing: border-box;padding-bottom: 0.4em;background-color: white;}#sk-container-id-8 div.sk-label label {font-family: monospace;font-weight: bold;display: inline-block;line-height: 1.2em;}#sk-container-id-8 div.sk-label-container {text-align: center;}#sk-container-id-8 div.sk-container {/* jupyter's `normalize.less` sets `[hidden] { display: none; }` but bootstrap.min.css set `[hidden] { display: none !important; }` so we also need the `!important` here to be able to override the default hidden behavior on the sphinx rendered scikit-learn.org. See: https://github.com/scikit-learn/scikit-learn/issues/21755 */display: inline-block !important;position: relative;}#sk-container-id-8 div.sk-text-repr-fallback {display: none;}</style><div id=\"sk-container-id-8\" class=\"sk-top-container\"><div class=\"sk-text-repr-fallback\"><pre>XGBRegressor(base_score=0.5, booster=&#x27;gbtree&#x27;, callbacks=None,\n",
       "             colsample_bylevel=1, colsample_bynode=1, colsample_bytree=0.8,\n",
       "             early_stopping_rounds=None, enable_categorical=False, eta=0.25,\n",
       "             eval_metric=None, feature_types=None, gamma=0, gpu_id=-1,\n",
       "             grow_policy=&#x27;depthwise&#x27;, importance_type=None,\n",
       "             interaction_constraints=&#x27;&#x27;, learning_rate=0.25, max_bin=256,\n",
       "             max_cat_threshold=64, max_cat_to_onehot=4, max_delta_step=0,\n",
       "             max_depth=2, max_leaves=0, min_child_weight=6, missing=nan,\n",
       "             monotone_constraints=&#x27;()&#x27;, n_estimators=800, n_jobs=0,\n",
       "             num_parallel_tree=1, predictor=&#x27;auto&#x27;, ...)</pre><b>In a Jupyter environment, please rerun this cell to show the HTML representation or trust the notebook. <br />On GitHub, the HTML representation is unable to render, please try loading this page with nbviewer.org.</b></div><div class=\"sk-container\" hidden><div class=\"sk-item\"><div class=\"sk-estimator sk-toggleable\"><input class=\"sk-toggleable__control sk-hidden--visually\" id=\"sk-estimator-id-10\" type=\"checkbox\" checked><label for=\"sk-estimator-id-10\" class=\"sk-toggleable__label sk-toggleable__label-arrow\">XGBRegressor</label><div class=\"sk-toggleable__content\"><pre>XGBRegressor(base_score=0.5, booster=&#x27;gbtree&#x27;, callbacks=None,\n",
       "             colsample_bylevel=1, colsample_bynode=1, colsample_bytree=0.8,\n",
       "             early_stopping_rounds=None, enable_categorical=False, eta=0.25,\n",
       "             eval_metric=None, feature_types=None, gamma=0, gpu_id=-1,\n",
       "             grow_policy=&#x27;depthwise&#x27;, importance_type=None,\n",
       "             interaction_constraints=&#x27;&#x27;, learning_rate=0.25, max_bin=256,\n",
       "             max_cat_threshold=64, max_cat_to_onehot=4, max_delta_step=0,\n",
       "             max_depth=2, max_leaves=0, min_child_weight=6, missing=nan,\n",
       "             monotone_constraints=&#x27;()&#x27;, n_estimators=800, n_jobs=0,\n",
       "             num_parallel_tree=1, predictor=&#x27;auto&#x27;, ...)</pre></div></div></div></div></div>"
      ],
      "text/plain": [
       "XGBRegressor(base_score=0.5, booster='gbtree', callbacks=None,\n",
       "             colsample_bylevel=1, colsample_bynode=1, colsample_bytree=0.8,\n",
       "             early_stopping_rounds=None, enable_categorical=False, eta=0.25,\n",
       "             eval_metric=None, feature_types=None, gamma=0, gpu_id=-1,\n",
       "             grow_policy='depthwise', importance_type=None,\n",
       "             interaction_constraints='', learning_rate=0.25, max_bin=256,\n",
       "             max_cat_threshold=64, max_cat_to_onehot=4, max_delta_step=0,\n",
       "             max_depth=2, max_leaves=0, min_child_weight=6, missing=nan,\n",
       "             monotone_constraints='()', n_estimators=800, n_jobs=0,\n",
       "             num_parallel_tree=1, predictor='auto', ...)"
      ]
     },
     "execution_count": 81,
     "metadata": {},
     "output_type": "execute_result"
    }
   ],
   "source": [
    "XGB_TEST=xg.XGBRegressor(colsample_bytree= 0.8,\n",
    " eta= 0.25,\n",
    " max_depth= 2,\n",
    " min_child_weight= 6,\n",
    " n_estimators= 800,\n",
    " reg_lambda= 5,\n",
    " subsample= 1)\n",
    "XGB_TEST.fit(X_train,Y_train)"
   ]
  },
  {
   "cell_type": "code",
   "execution_count": 82,
   "id": "cfe40418",
   "metadata": {},
   "outputs": [],
   "source": [
    "params_xgb={\n",
    "    'n_estimators':[int(x) for x in np.linspace(start=100, stop=1200 , num=10)],\n",
    "    'booster':['gbtree','gblinear','dart'],\n",
    "    'eta':[0.05,0.1,0.2,0.3],\n",
    "    'gamma':[0.0,0.1,0.2,0.3],\n",
    "    'max_depth':[int(x) for x in np.linspace(2,20,2)],\n",
    "    'min_child_weight':[1,3,5,7],\n",
    "    'subsample':[0.5,0.6,0.7,1],\n",
    "    'colsample_bytree':[0.3,0.5,0.7,0.8,1],\n",
    "    'reg_lambda':[0.5,1,3,5,8],\n",
    "}"
   ]
  },
  {
   "cell_type": "code",
   "execution_count": 208,
   "id": "b3e1e0a4",
   "metadata": {},
   "outputs": [
    {
     "name": "stdout",
     "output_type": "stream",
     "text": [
      "Fitting 3 folds for each of 30 candidates, totalling 90 fits\n"
     ]
    },
    {
     "data": {
      "text/html": [
       "<style>#sk-container-id-20 {color: black;background-color: white;}#sk-container-id-20 pre{padding: 0;}#sk-container-id-20 div.sk-toggleable {background-color: white;}#sk-container-id-20 label.sk-toggleable__label {cursor: pointer;display: block;width: 100%;margin-bottom: 0;padding: 0.3em;box-sizing: border-box;text-align: center;}#sk-container-id-20 label.sk-toggleable__label-arrow:before {content: \"▸\";float: left;margin-right: 0.25em;color: #696969;}#sk-container-id-20 label.sk-toggleable__label-arrow:hover:before {color: black;}#sk-container-id-20 div.sk-estimator:hover label.sk-toggleable__label-arrow:before {color: black;}#sk-container-id-20 div.sk-toggleable__content {max-height: 0;max-width: 0;overflow: hidden;text-align: left;background-color: #f0f8ff;}#sk-container-id-20 div.sk-toggleable__content pre {margin: 0.2em;color: black;border-radius: 0.25em;background-color: #f0f8ff;}#sk-container-id-20 input.sk-toggleable__control:checked~div.sk-toggleable__content {max-height: 200px;max-width: 100%;overflow: auto;}#sk-container-id-20 input.sk-toggleable__control:checked~label.sk-toggleable__label-arrow:before {content: \"▾\";}#sk-container-id-20 div.sk-estimator input.sk-toggleable__control:checked~label.sk-toggleable__label {background-color: #d4ebff;}#sk-container-id-20 div.sk-label input.sk-toggleable__control:checked~label.sk-toggleable__label {background-color: #d4ebff;}#sk-container-id-20 input.sk-hidden--visually {border: 0;clip: rect(1px 1px 1px 1px);clip: rect(1px, 1px, 1px, 1px);height: 1px;margin: -1px;overflow: hidden;padding: 0;position: absolute;width: 1px;}#sk-container-id-20 div.sk-estimator {font-family: monospace;background-color: #f0f8ff;border: 1px dotted black;border-radius: 0.25em;box-sizing: border-box;margin-bottom: 0.5em;}#sk-container-id-20 div.sk-estimator:hover {background-color: #d4ebff;}#sk-container-id-20 div.sk-parallel-item::after {content: \"\";width: 100%;border-bottom: 1px solid gray;flex-grow: 1;}#sk-container-id-20 div.sk-label:hover label.sk-toggleable__label {background-color: #d4ebff;}#sk-container-id-20 div.sk-serial::before {content: \"\";position: absolute;border-left: 1px solid gray;box-sizing: border-box;top: 0;bottom: 0;left: 50%;z-index: 0;}#sk-container-id-20 div.sk-serial {display: flex;flex-direction: column;align-items: center;background-color: white;padding-right: 0.2em;padding-left: 0.2em;position: relative;}#sk-container-id-20 div.sk-item {position: relative;z-index: 1;}#sk-container-id-20 div.sk-parallel {display: flex;align-items: stretch;justify-content: center;background-color: white;position: relative;}#sk-container-id-20 div.sk-item::before, #sk-container-id-20 div.sk-parallel-item::before {content: \"\";position: absolute;border-left: 1px solid gray;box-sizing: border-box;top: 0;bottom: 0;left: 50%;z-index: -1;}#sk-container-id-20 div.sk-parallel-item {display: flex;flex-direction: column;z-index: 1;position: relative;background-color: white;}#sk-container-id-20 div.sk-parallel-item:first-child::after {align-self: flex-end;width: 50%;}#sk-container-id-20 div.sk-parallel-item:last-child::after {align-self: flex-start;width: 50%;}#sk-container-id-20 div.sk-parallel-item:only-child::after {width: 0;}#sk-container-id-20 div.sk-dashed-wrapped {border: 1px dashed gray;margin: 0 0.4em 0.5em 0.4em;box-sizing: border-box;padding-bottom: 0.4em;background-color: white;}#sk-container-id-20 div.sk-label label {font-family: monospace;font-weight: bold;display: inline-block;line-height: 1.2em;}#sk-container-id-20 div.sk-label-container {text-align: center;}#sk-container-id-20 div.sk-container {/* jupyter's `normalize.less` sets `[hidden] { display: none; }` but bootstrap.min.css set `[hidden] { display: none !important; }` so we also need the `!important` here to be able to override the default hidden behavior on the sphinx rendered scikit-learn.org. See: https://github.com/scikit-learn/scikit-learn/issues/21755 */display: inline-block !important;position: relative;}#sk-container-id-20 div.sk-text-repr-fallback {display: none;}</style><div id=\"sk-container-id-20\" class=\"sk-top-container\"><div class=\"sk-text-repr-fallback\"><pre>RandomizedSearchCV(cv=3,\n",
       "                   estimator=XGBRegressor(base_score=0.5, booster=&#x27;gbtree&#x27;,\n",
       "                                          callbacks=None, colsample_bylevel=1,\n",
       "                                          colsample_bynode=1,\n",
       "                                          colsample_bytree=0.7,\n",
       "                                          early_stopping_rounds=None,\n",
       "                                          enable_categorical=False, eta=0.3,\n",
       "                                          eval_metric=None, feature_types=None,\n",
       "                                          gamma=0.0, gpu_id=-1,\n",
       "                                          grow_policy=&#x27;depthwise&#x27;,\n",
       "                                          importance_type=None,\n",
       "                                          interaction_constraints=&#x27;&#x27;,\n",
       "                                          learning...\n",
       "                   param_distributions={&#x27;booster&#x27;: [&#x27;gbtree&#x27;, &#x27;gblinear&#x27;,\n",
       "                                                    &#x27;dart&#x27;],\n",
       "                                        &#x27;colsample_bytree&#x27;: [0.3, 0.5, 0.7, 0.8,\n",
       "                                                             1],\n",
       "                                        &#x27;eta&#x27;: [0.05, 0.1, 0.2, 0.3],\n",
       "                                        &#x27;gamma&#x27;: [0.0, 0.1, 0.2, 0.3],\n",
       "                                        &#x27;max_depth&#x27;: [2, 20],\n",
       "                                        &#x27;min_child_weight&#x27;: [1, 3, 5, 7],\n",
       "                                        &#x27;n_estimators&#x27;: [100, 222, 344, 466,\n",
       "                                                         588, 711, 833, 955,\n",
       "                                                         1077, 1200],\n",
       "                                        &#x27;reg_lambda&#x27;: [0.5, 1, 3, 5, 8],\n",
       "                                        &#x27;subsample&#x27;: [0.5, 0.6, 0.7, 1]},\n",
       "                   scoring=&#x27;neg_mean_squared_error&#x27;, verbose=3)</pre><b>In a Jupyter environment, please rerun this cell to show the HTML representation or trust the notebook. <br />On GitHub, the HTML representation is unable to render, please try loading this page with nbviewer.org.</b></div><div class=\"sk-container\" hidden><div class=\"sk-item sk-dashed-wrapped\"><div class=\"sk-label-container\"><div class=\"sk-label sk-toggleable\"><input class=\"sk-toggleable__control sk-hidden--visually\" id=\"sk-estimator-id-30\" type=\"checkbox\" ><label for=\"sk-estimator-id-30\" class=\"sk-toggleable__label sk-toggleable__label-arrow\">RandomizedSearchCV</label><div class=\"sk-toggleable__content\"><pre>RandomizedSearchCV(cv=3,\n",
       "                   estimator=XGBRegressor(base_score=0.5, booster=&#x27;gbtree&#x27;,\n",
       "                                          callbacks=None, colsample_bylevel=1,\n",
       "                                          colsample_bynode=1,\n",
       "                                          colsample_bytree=0.7,\n",
       "                                          early_stopping_rounds=None,\n",
       "                                          enable_categorical=False, eta=0.3,\n",
       "                                          eval_metric=None, feature_types=None,\n",
       "                                          gamma=0.0, gpu_id=-1,\n",
       "                                          grow_policy=&#x27;depthwise&#x27;,\n",
       "                                          importance_type=None,\n",
       "                                          interaction_constraints=&#x27;&#x27;,\n",
       "                                          learning...\n",
       "                   param_distributions={&#x27;booster&#x27;: [&#x27;gbtree&#x27;, &#x27;gblinear&#x27;,\n",
       "                                                    &#x27;dart&#x27;],\n",
       "                                        &#x27;colsample_bytree&#x27;: [0.3, 0.5, 0.7, 0.8,\n",
       "                                                             1],\n",
       "                                        &#x27;eta&#x27;: [0.05, 0.1, 0.2, 0.3],\n",
       "                                        &#x27;gamma&#x27;: [0.0, 0.1, 0.2, 0.3],\n",
       "                                        &#x27;max_depth&#x27;: [2, 20],\n",
       "                                        &#x27;min_child_weight&#x27;: [1, 3, 5, 7],\n",
       "                                        &#x27;n_estimators&#x27;: [100, 222, 344, 466,\n",
       "                                                         588, 711, 833, 955,\n",
       "                                                         1077, 1200],\n",
       "                                        &#x27;reg_lambda&#x27;: [0.5, 1, 3, 5, 8],\n",
       "                                        &#x27;subsample&#x27;: [0.5, 0.6, 0.7, 1]},\n",
       "                   scoring=&#x27;neg_mean_squared_error&#x27;, verbose=3)</pre></div></div></div><div class=\"sk-parallel\"><div class=\"sk-parallel-item\"><div class=\"sk-item\"><div class=\"sk-label-container\"><div class=\"sk-label sk-toggleable\"><input class=\"sk-toggleable__control sk-hidden--visually\" id=\"sk-estimator-id-31\" type=\"checkbox\" ><label for=\"sk-estimator-id-31\" class=\"sk-toggleable__label sk-toggleable__label-arrow\">estimator: XGBRegressor</label><div class=\"sk-toggleable__content\"><pre>XGBRegressor(base_score=0.5, booster=&#x27;gbtree&#x27;, callbacks=None,\n",
       "             colsample_bylevel=1, colsample_bynode=1, colsample_bytree=0.7,\n",
       "             early_stopping_rounds=None, enable_categorical=False, eta=0.3,\n",
       "             eval_metric=None, feature_types=None, gamma=0.0, gpu_id=-1,\n",
       "             grow_policy=&#x27;depthwise&#x27;, importance_type=None,\n",
       "             interaction_constraints=&#x27;&#x27;, learning_rate=0.300000012, max_bin=256,\n",
       "             max_cat_threshold=64, max_cat_to_onehot=4, max_delta_step=0,\n",
       "             max_depth=2, max_leaves=0, min_child_weight=1, missing=nan,\n",
       "             monotone_constraints=&#x27;()&#x27;, n_estimators=833, n_jobs=0,\n",
       "             num_parallel_tree=1, predictor=&#x27;auto&#x27;, ...)</pre></div></div></div><div class=\"sk-serial\"><div class=\"sk-item\"><div class=\"sk-estimator sk-toggleable\"><input class=\"sk-toggleable__control sk-hidden--visually\" id=\"sk-estimator-id-32\" type=\"checkbox\" ><label for=\"sk-estimator-id-32\" class=\"sk-toggleable__label sk-toggleable__label-arrow\">XGBRegressor</label><div class=\"sk-toggleable__content\"><pre>XGBRegressor(base_score=0.5, booster=&#x27;gbtree&#x27;, callbacks=None,\n",
       "             colsample_bylevel=1, colsample_bynode=1, colsample_bytree=0.7,\n",
       "             early_stopping_rounds=None, enable_categorical=False, eta=0.3,\n",
       "             eval_metric=None, feature_types=None, gamma=0.0, gpu_id=-1,\n",
       "             grow_policy=&#x27;depthwise&#x27;, importance_type=None,\n",
       "             interaction_constraints=&#x27;&#x27;, learning_rate=0.300000012, max_bin=256,\n",
       "             max_cat_threshold=64, max_cat_to_onehot=4, max_delta_step=0,\n",
       "             max_depth=2, max_leaves=0, min_child_weight=1, missing=nan,\n",
       "             monotone_constraints=&#x27;()&#x27;, n_estimators=833, n_jobs=0,\n",
       "             num_parallel_tree=1, predictor=&#x27;auto&#x27;, ...)</pre></div></div></div></div></div></div></div></div></div></div>"
      ],
      "text/plain": [
       "RandomizedSearchCV(cv=3,\n",
       "                   estimator=XGBRegressor(base_score=0.5, booster='gbtree',\n",
       "                                          callbacks=None, colsample_bylevel=1,\n",
       "                                          colsample_bynode=1,\n",
       "                                          colsample_bytree=0.7,\n",
       "                                          early_stopping_rounds=None,\n",
       "                                          enable_categorical=False, eta=0.3,\n",
       "                                          eval_metric=None, feature_types=None,\n",
       "                                          gamma=0.0, gpu_id=-1,\n",
       "                                          grow_policy='depthwise',\n",
       "                                          importance_type=None,\n",
       "                                          interaction_constraints='',\n",
       "                                          learning...\n",
       "                   param_distributions={'booster': ['gbtree', 'gblinear',\n",
       "                                                    'dart'],\n",
       "                                        'colsample_bytree': [0.3, 0.5, 0.7, 0.8,\n",
       "                                                             1],\n",
       "                                        'eta': [0.05, 0.1, 0.2, 0.3],\n",
       "                                        'gamma': [0.0, 0.1, 0.2, 0.3],\n",
       "                                        'max_depth': [2, 20],\n",
       "                                        'min_child_weight': [1, 3, 5, 7],\n",
       "                                        'n_estimators': [100, 222, 344, 466,\n",
       "                                                         588, 711, 833, 955,\n",
       "                                                         1077, 1200],\n",
       "                                        'reg_lambda': [0.5, 1, 3, 5, 8],\n",
       "                                        'subsample': [0.5, 0.6, 0.7, 1]},\n",
       "                   scoring='neg_mean_squared_error', verbose=3)"
      ]
     },
     "execution_count": 208,
     "metadata": {},
     "output_type": "execute_result"
    }
   ],
   "source": [
    "random_xgb=RandomizedSearchCV(XGB,param_distributions=params_xgb,n_iter=50,scoring='neg_mean_squared_error',n_jobs=-1,cv=3,verbose=3)\n",
    "random_xgb.fit(X_train,Y_train_rt4)"
   ]
  },
  {
   "cell_type": "code",
   "execution_count": 209,
   "id": "879de6ab",
   "metadata": {},
   "outputs": [
    {
     "data": {
      "text/plain": [
       "{'subsample': 0.7,\n",
       " 'reg_lambda': 0.5,\n",
       " 'n_estimators': 1077,\n",
       " 'min_child_weight': 7,\n",
       " 'max_depth': 2,\n",
       " 'gamma': 0.3,\n",
       " 'eta': 0.2,\n",
       " 'colsample_bytree': 1,\n",
       " 'booster': 'gbtree'}"
      ]
     },
     "execution_count": 209,
     "metadata": {},
     "output_type": "execute_result"
    }
   ],
   "source": [
    "random_xgb.best_params_"
   ]
  },
  {
   "cell_type": "code",
   "execution_count": 83,
   "id": "a2fa5a6a",
   "metadata": {},
   "outputs": [
    {
     "name": "stdout",
     "output_type": "stream",
     "text": [
      "69398.95919288359\n"
     ]
    }
   ],
   "source": [
    "y_pred_xg=XGB.predict(X_test)\n",
    "mse=metrics.mean_squared_error(Y_test,y_pred_xg)\n",
    "rmse=math.sqrt(mse)\n",
    "print(rmse)"
   ]
  },
  {
   "cell_type": "code",
   "execution_count": 84,
   "id": "9488c9cc",
   "metadata": {},
   "outputs": [
    {
     "name": "stdout",
     "output_type": "stream",
     "text": [
      "[284610.9  478243.47 251530.48 ... 341078.56 731725.9  707882.5 ] [[310000]\n",
      " [475000]\n",
      " [250000]\n",
      " ...\n",
      " [315000]\n",
      " [750000]\n",
      " [749000]]\n"
     ]
    }
   ],
   "source": [
    "print(y_pred_xg,Y_test)"
   ]
  },
  {
   "cell_type": "code",
   "execution_count": 85,
   "id": "623bab7e",
   "metadata": {},
   "outputs": [
    {
     "name": "stdout",
     "output_type": "stream",
     "text": [
      "56021.7850003074\n"
     ]
    }
   ],
   "source": [
    "y_pred_xg=XGB.predict(X_train)\n",
    "mse=metrics.mean_squared_error(Y_train,y_pred_xg)\n",
    "rmse=math.sqrt(mse)\n",
    "print(rmse)"
   ]
  },
  {
   "cell_type": "code",
   "execution_count": 86,
   "id": "043d3599",
   "metadata": {},
   "outputs": [],
   "source": [
    "#GRID SEARCH CV for XG BOOST"
   ]
  },
  {
   "cell_type": "code",
   "execution_count": 87,
   "id": "51a64176",
   "metadata": {},
   "outputs": [],
   "source": [
    "param_grid={\n",
    "    'subsample':[0.8,0.9,1],\n",
    "    'reg_lambda':[4,5,6,7],\n",
    "    'n_estimators':[int(x) for x in np.linspace(start=800, stop=1200 , num=10)],\n",
    "    'max_depth':[int(x) for x in np.linspace(2,10,2)],\n",
    "    'colsample_bytree':[0.6,0.7,0.8],\n",
    "    'eta':[0.25,0.3,0.35],\n",
    "    'min_child_weight':[6,7,8],\n",
    "}"
   ]
  },
  {
   "cell_type": "code",
   "execution_count": 95,
   "id": "3744bc14",
   "metadata": {},
   "outputs": [
    {
     "name": "stdout",
     "output_type": "stream",
     "text": [
      "Fitting 2 folds for each of 6480 candidates, totalling 12960 fits\n"
     ]
    },
    {
     "data": {
      "text/html": [
       "<style>#sk-container-id-8 {color: black;background-color: white;}#sk-container-id-8 pre{padding: 0;}#sk-container-id-8 div.sk-toggleable {background-color: white;}#sk-container-id-8 label.sk-toggleable__label {cursor: pointer;display: block;width: 100%;margin-bottom: 0;padding: 0.3em;box-sizing: border-box;text-align: center;}#sk-container-id-8 label.sk-toggleable__label-arrow:before {content: \"▸\";float: left;margin-right: 0.25em;color: #696969;}#sk-container-id-8 label.sk-toggleable__label-arrow:hover:before {color: black;}#sk-container-id-8 div.sk-estimator:hover label.sk-toggleable__label-arrow:before {color: black;}#sk-container-id-8 div.sk-toggleable__content {max-height: 0;max-width: 0;overflow: hidden;text-align: left;background-color: #f0f8ff;}#sk-container-id-8 div.sk-toggleable__content pre {margin: 0.2em;color: black;border-radius: 0.25em;background-color: #f0f8ff;}#sk-container-id-8 input.sk-toggleable__control:checked~div.sk-toggleable__content {max-height: 200px;max-width: 100%;overflow: auto;}#sk-container-id-8 input.sk-toggleable__control:checked~label.sk-toggleable__label-arrow:before {content: \"▾\";}#sk-container-id-8 div.sk-estimator input.sk-toggleable__control:checked~label.sk-toggleable__label {background-color: #d4ebff;}#sk-container-id-8 div.sk-label input.sk-toggleable__control:checked~label.sk-toggleable__label {background-color: #d4ebff;}#sk-container-id-8 input.sk-hidden--visually {border: 0;clip: rect(1px 1px 1px 1px);clip: rect(1px, 1px, 1px, 1px);height: 1px;margin: -1px;overflow: hidden;padding: 0;position: absolute;width: 1px;}#sk-container-id-8 div.sk-estimator {font-family: monospace;background-color: #f0f8ff;border: 1px dotted black;border-radius: 0.25em;box-sizing: border-box;margin-bottom: 0.5em;}#sk-container-id-8 div.sk-estimator:hover {background-color: #d4ebff;}#sk-container-id-8 div.sk-parallel-item::after {content: \"\";width: 100%;border-bottom: 1px solid gray;flex-grow: 1;}#sk-container-id-8 div.sk-label:hover label.sk-toggleable__label {background-color: #d4ebff;}#sk-container-id-8 div.sk-serial::before {content: \"\";position: absolute;border-left: 1px solid gray;box-sizing: border-box;top: 0;bottom: 0;left: 50%;z-index: 0;}#sk-container-id-8 div.sk-serial {display: flex;flex-direction: column;align-items: center;background-color: white;padding-right: 0.2em;padding-left: 0.2em;position: relative;}#sk-container-id-8 div.sk-item {position: relative;z-index: 1;}#sk-container-id-8 div.sk-parallel {display: flex;align-items: stretch;justify-content: center;background-color: white;position: relative;}#sk-container-id-8 div.sk-item::before, #sk-container-id-8 div.sk-parallel-item::before {content: \"\";position: absolute;border-left: 1px solid gray;box-sizing: border-box;top: 0;bottom: 0;left: 50%;z-index: -1;}#sk-container-id-8 div.sk-parallel-item {display: flex;flex-direction: column;z-index: 1;position: relative;background-color: white;}#sk-container-id-8 div.sk-parallel-item:first-child::after {align-self: flex-end;width: 50%;}#sk-container-id-8 div.sk-parallel-item:last-child::after {align-self: flex-start;width: 50%;}#sk-container-id-8 div.sk-parallel-item:only-child::after {width: 0;}#sk-container-id-8 div.sk-dashed-wrapped {border: 1px dashed gray;margin: 0 0.4em 0.5em 0.4em;box-sizing: border-box;padding-bottom: 0.4em;background-color: white;}#sk-container-id-8 div.sk-label label {font-family: monospace;font-weight: bold;display: inline-block;line-height: 1.2em;}#sk-container-id-8 div.sk-label-container {text-align: center;}#sk-container-id-8 div.sk-container {/* jupyter's `normalize.less` sets `[hidden] { display: none; }` but bootstrap.min.css set `[hidden] { display: none !important; }` so we also need the `!important` here to be able to override the default hidden behavior on the sphinx rendered scikit-learn.org. See: https://github.com/scikit-learn/scikit-learn/issues/21755 */display: inline-block !important;position: relative;}#sk-container-id-8 div.sk-text-repr-fallback {display: none;}</style><div id=\"sk-container-id-8\" class=\"sk-top-container\"><div class=\"sk-text-repr-fallback\"><pre>GridSearchCV(cv=2,\n",
       "             estimator=XGBRegressor(base_score=0.5, booster=&#x27;gbtree&#x27;,\n",
       "                                    callbacks=None, colsample_bylevel=1,\n",
       "                                    colsample_bynode=1, colsample_bytree=0.7,\n",
       "                                    early_stopping_rounds=None,\n",
       "                                    enable_categorical=False, eta=0.3,\n",
       "                                    eval_metric=None, feature_types=None,\n",
       "                                    gamma=0.0, gpu_id=-1,\n",
       "                                    grow_policy=&#x27;depthwise&#x27;,\n",
       "                                    importance_type=None,\n",
       "                                    interaction_constraints=&#x27;&#x27;,\n",
       "                                    learning_rate=...\n",
       "                                    monotone_constraints=&#x27;()&#x27;, n_estimators=833,\n",
       "                                    n_jobs=0, num_parallel_tree=1,\n",
       "                                    predictor=&#x27;auto&#x27;, ...),\n",
       "             n_jobs=-1,\n",
       "             param_grid={&#x27;colsample_bytree&#x27;: [0.6, 0.7, 0.8],\n",
       "                         &#x27;eta&#x27;: [0.25, 0.3, 0.35], &#x27;max_depth&#x27;: [2, 10],\n",
       "                         &#x27;min_child_weight&#x27;: [6, 7, 8],\n",
       "                         &#x27;n_estimators&#x27;: [800, 844, 888, 933, 977, 1022, 1066,\n",
       "                                          1111, 1155, 1200],\n",
       "                         &#x27;reg_lambda&#x27;: [4, 5, 6, 7],\n",
       "                         &#x27;subsample&#x27;: [0.8, 0.9, 1]},\n",
       "             scoring=&#x27;neg_mean_squared_error&#x27;, verbose=3)</pre><b>In a Jupyter environment, please rerun this cell to show the HTML representation or trust the notebook. <br />On GitHub, the HTML representation is unable to render, please try loading this page with nbviewer.org.</b></div><div class=\"sk-container\" hidden><div class=\"sk-item sk-dashed-wrapped\"><div class=\"sk-label-container\"><div class=\"sk-label sk-toggleable\"><input class=\"sk-toggleable__control sk-hidden--visually\" id=\"sk-estimator-id-10\" type=\"checkbox\" ><label for=\"sk-estimator-id-10\" class=\"sk-toggleable__label sk-toggleable__label-arrow\">GridSearchCV</label><div class=\"sk-toggleable__content\"><pre>GridSearchCV(cv=2,\n",
       "             estimator=XGBRegressor(base_score=0.5, booster=&#x27;gbtree&#x27;,\n",
       "                                    callbacks=None, colsample_bylevel=1,\n",
       "                                    colsample_bynode=1, colsample_bytree=0.7,\n",
       "                                    early_stopping_rounds=None,\n",
       "                                    enable_categorical=False, eta=0.3,\n",
       "                                    eval_metric=None, feature_types=None,\n",
       "                                    gamma=0.0, gpu_id=-1,\n",
       "                                    grow_policy=&#x27;depthwise&#x27;,\n",
       "                                    importance_type=None,\n",
       "                                    interaction_constraints=&#x27;&#x27;,\n",
       "                                    learning_rate=...\n",
       "                                    monotone_constraints=&#x27;()&#x27;, n_estimators=833,\n",
       "                                    n_jobs=0, num_parallel_tree=1,\n",
       "                                    predictor=&#x27;auto&#x27;, ...),\n",
       "             n_jobs=-1,\n",
       "             param_grid={&#x27;colsample_bytree&#x27;: [0.6, 0.7, 0.8],\n",
       "                         &#x27;eta&#x27;: [0.25, 0.3, 0.35], &#x27;max_depth&#x27;: [2, 10],\n",
       "                         &#x27;min_child_weight&#x27;: [6, 7, 8],\n",
       "                         &#x27;n_estimators&#x27;: [800, 844, 888, 933, 977, 1022, 1066,\n",
       "                                          1111, 1155, 1200],\n",
       "                         &#x27;reg_lambda&#x27;: [4, 5, 6, 7],\n",
       "                         &#x27;subsample&#x27;: [0.8, 0.9, 1]},\n",
       "             scoring=&#x27;neg_mean_squared_error&#x27;, verbose=3)</pre></div></div></div><div class=\"sk-parallel\"><div class=\"sk-parallel-item\"><div class=\"sk-item\"><div class=\"sk-label-container\"><div class=\"sk-label sk-toggleable\"><input class=\"sk-toggleable__control sk-hidden--visually\" id=\"sk-estimator-id-11\" type=\"checkbox\" ><label for=\"sk-estimator-id-11\" class=\"sk-toggleable__label sk-toggleable__label-arrow\">estimator: XGBRegressor</label><div class=\"sk-toggleable__content\"><pre>XGBRegressor(base_score=0.5, booster=&#x27;gbtree&#x27;, callbacks=None,\n",
       "             colsample_bylevel=1, colsample_bynode=1, colsample_bytree=0.7,\n",
       "             early_stopping_rounds=None, enable_categorical=False, eta=0.3,\n",
       "             eval_metric=None, feature_types=None, gamma=0.0, gpu_id=-1,\n",
       "             grow_policy=&#x27;depthwise&#x27;, importance_type=None,\n",
       "             interaction_constraints=&#x27;&#x27;, learning_rate=0.300000012, max_bin=256,\n",
       "             max_cat_threshold=64, max_cat_to_onehot=4, max_delta_step=0,\n",
       "             max_depth=2, max_leaves=0, min_child_weight=1, missing=nan,\n",
       "             monotone_constraints=&#x27;()&#x27;, n_estimators=833, n_jobs=0,\n",
       "             num_parallel_tree=1, predictor=&#x27;auto&#x27;, ...)</pre></div></div></div><div class=\"sk-serial\"><div class=\"sk-item\"><div class=\"sk-estimator sk-toggleable\"><input class=\"sk-toggleable__control sk-hidden--visually\" id=\"sk-estimator-id-12\" type=\"checkbox\" ><label for=\"sk-estimator-id-12\" class=\"sk-toggleable__label sk-toggleable__label-arrow\">XGBRegressor</label><div class=\"sk-toggleable__content\"><pre>XGBRegressor(base_score=0.5, booster=&#x27;gbtree&#x27;, callbacks=None,\n",
       "             colsample_bylevel=1, colsample_bynode=1, colsample_bytree=0.7,\n",
       "             early_stopping_rounds=None, enable_categorical=False, eta=0.3,\n",
       "             eval_metric=None, feature_types=None, gamma=0.0, gpu_id=-1,\n",
       "             grow_policy=&#x27;depthwise&#x27;, importance_type=None,\n",
       "             interaction_constraints=&#x27;&#x27;, learning_rate=0.300000012, max_bin=256,\n",
       "             max_cat_threshold=64, max_cat_to_onehot=4, max_delta_step=0,\n",
       "             max_depth=2, max_leaves=0, min_child_weight=1, missing=nan,\n",
       "             monotone_constraints=&#x27;()&#x27;, n_estimators=833, n_jobs=0,\n",
       "             num_parallel_tree=1, predictor=&#x27;auto&#x27;, ...)</pre></div></div></div></div></div></div></div></div></div></div>"
      ],
      "text/plain": [
       "GridSearchCV(cv=2,\n",
       "             estimator=XGBRegressor(base_score=0.5, booster='gbtree',\n",
       "                                    callbacks=None, colsample_bylevel=1,\n",
       "                                    colsample_bynode=1, colsample_bytree=0.7,\n",
       "                                    early_stopping_rounds=None,\n",
       "                                    enable_categorical=False, eta=0.3,\n",
       "                                    eval_metric=None, feature_types=None,\n",
       "                                    gamma=0.0, gpu_id=-1,\n",
       "                                    grow_policy='depthwise',\n",
       "                                    importance_type=None,\n",
       "                                    interaction_constraints='',\n",
       "                                    learning_rate=...\n",
       "                                    monotone_constraints='()', n_estimators=833,\n",
       "                                    n_jobs=0, num_parallel_tree=1,\n",
       "                                    predictor='auto', ...),\n",
       "             n_jobs=-1,\n",
       "             param_grid={'colsample_bytree': [0.6, 0.7, 0.8],\n",
       "                         'eta': [0.25, 0.3, 0.35], 'max_depth': [2, 10],\n",
       "                         'min_child_weight': [6, 7, 8],\n",
       "                         'n_estimators': [800, 844, 888, 933, 977, 1022, 1066,\n",
       "                                          1111, 1155, 1200],\n",
       "                         'reg_lambda': [4, 5, 6, 7],\n",
       "                         'subsample': [0.8, 0.9, 1]},\n",
       "             scoring='neg_mean_squared_error', verbose=3)"
      ]
     },
     "execution_count": 95,
     "metadata": {},
     "output_type": "execute_result"
    }
   ],
   "source": [
    "grid=GridSearchCV(XGB,param_grid,scoring='neg_mean_squared_error',n_jobs=-1,cv=2,verbose=3)\n",
    "grid.fit(X_train,Y_train)"
   ]
  },
  {
   "cell_type": "code",
   "execution_count": 96,
   "id": "926225d3",
   "metadata": {},
   "outputs": [
    {
     "data": {
      "text/plain": [
       "{'colsample_bytree': 0.8,\n",
       " 'eta': 0.25,\n",
       " 'max_depth': 2,\n",
       " 'min_child_weight': 6,\n",
       " 'n_estimators': 800,\n",
       " 'reg_lambda': 5,\n",
       " 'subsample': 1}"
      ]
     },
     "execution_count": 96,
     "metadata": {},
     "output_type": "execute_result"
    }
   ],
   "source": [
    "grid.best_params_"
   ]
  },
  {
   "cell_type": "markdown",
   "id": "0d96b5dc",
   "metadata": {},
   "source": [
    "# TEST DATA"
   ]
  },
  {
   "cell_type": "code",
   "execution_count": 106,
   "id": "b7b7f082",
   "metadata": {},
   "outputs": [
    {
     "data": {
      "text/html": [
       "<div>\n",
       "<style scoped>\n",
       "    .dataframe tbody tr th:only-of-type {\n",
       "        vertical-align: middle;\n",
       "    }\n",
       "\n",
       "    .dataframe tbody tr th {\n",
       "        vertical-align: top;\n",
       "    }\n",
       "\n",
       "    .dataframe thead th {\n",
       "        text-align: right;\n",
       "    }\n",
       "</style>\n",
       "<table border=\"1\" class=\"dataframe\">\n",
       "  <thead>\n",
       "    <tr style=\"text-align: right;\">\n",
       "      <th></th>\n",
       "      <th>index</th>\n",
       "      <th>rooms</th>\n",
       "      <th>address</th>\n",
       "      <th>city</th>\n",
       "      <th>sqft</th>\n",
       "      <th>toilets</th>\n",
       "      <th>image_id</th>\n",
       "    </tr>\n",
       "  </thead>\n",
       "  <tbody>\n",
       "    <tr>\n",
       "      <th>0</th>\n",
       "      <td>3076</td>\n",
       "      <td>3</td>\n",
       "      <td>33171 Sea Lion Drive</td>\n",
       "      <td>Dana Point, CA</td>\n",
       "      <td>1510</td>\n",
       "      <td>2.0</td>\n",
       "      <td>3076</td>\n",
       "    </tr>\n",
       "    <tr>\n",
       "      <th>1</th>\n",
       "      <td>3218</td>\n",
       "      <td>4</td>\n",
       "      <td>33 Segovia</td>\n",
       "      <td>San Clemente, CA</td>\n",
       "      <td>2342</td>\n",
       "      <td>3.0</td>\n",
       "      <td>3218</td>\n",
       "    </tr>\n",
       "    <tr>\n",
       "      <th>2</th>\n",
       "      <td>9213</td>\n",
       "      <td>2</td>\n",
       "      <td>1074 TAMARACK Road</td>\n",
       "      <td>Pinon Hills, CA</td>\n",
       "      <td>2845</td>\n",
       "      <td>3.0</td>\n",
       "      <td>9213</td>\n",
       "    </tr>\n",
       "    <tr>\n",
       "      <th>3</th>\n",
       "      <td>10018</td>\n",
       "      <td>4</td>\n",
       "      <td>10989 Coalinga Avenue</td>\n",
       "      <td>Montclair, CA</td>\n",
       "      <td>2379</td>\n",
       "      <td>3.0</td>\n",
       "      <td>10018</td>\n",
       "    </tr>\n",
       "    <tr>\n",
       "      <th>4</th>\n",
       "      <td>11355</td>\n",
       "      <td>4</td>\n",
       "      <td>1128 Custer</td>\n",
       "      <td>Campo, CA</td>\n",
       "      <td>1836</td>\n",
       "      <td>3.0</td>\n",
       "      <td>11355</td>\n",
       "    </tr>\n",
       "  </tbody>\n",
       "</table>\n",
       "</div>"
      ],
      "text/plain": [
       "   index  rooms                address              city  sqft  toilets  \\\n",
       "0   3076      3   33171 Sea Lion Drive    Dana Point, CA  1510      2.0   \n",
       "1   3218      4             33 Segovia  San Clemente, CA  2342      3.0   \n",
       "2   9213      2     1074 TAMARACK Road   Pinon Hills, CA  2845      3.0   \n",
       "3  10018      4  10989 Coalinga Avenue     Montclair, CA  2379      3.0   \n",
       "4  11355      4            1128 Custer         Campo, CA  1836      3.0   \n",
       "\n",
       "   image_id  \n",
       "0      3076  \n",
       "1      3218  \n",
       "2      9213  \n",
       "3     10018  \n",
       "4     11355  "
      ]
     },
     "execution_count": 106,
     "metadata": {},
     "output_type": "execute_result"
    }
   ],
   "source": [
    "data_test=pd.read_csv('celesta_test.csv')\n",
    "data_test.head()"
   ]
  },
  {
   "cell_type": "code",
   "execution_count": 89,
   "id": "b8dafc97",
   "metadata": {},
   "outputs": [
    {
     "data": {
      "text/plain": [
       "(3601, 7)"
      ]
     },
     "execution_count": 89,
     "metadata": {},
     "output_type": "execute_result"
    }
   ],
   "source": [
    "data_test.shape"
   ]
  },
  {
   "cell_type": "code",
   "execution_count": 90,
   "id": "bc9dd1d9",
   "metadata": {},
   "outputs": [
    {
     "name": "stderr",
     "output_type": "stream",
     "text": [
      "C:\\Users\\Shirshak\\AppData\\Local\\Temp\\ipykernel_35716\\4208469104.py:1: FutureWarning: The default value of numeric_only in DataFrame.corr is deprecated. In a future version, it will default to False. Select only valid columns or specify the value of numeric_only to silence this warning.\n",
      "  data_test.corr()\n"
     ]
    },
    {
     "data": {
      "text/html": [
       "<div>\n",
       "<style scoped>\n",
       "    .dataframe tbody tr th:only-of-type {\n",
       "        vertical-align: middle;\n",
       "    }\n",
       "\n",
       "    .dataframe tbody tr th {\n",
       "        vertical-align: top;\n",
       "    }\n",
       "\n",
       "    .dataframe thead th {\n",
       "        text-align: right;\n",
       "    }\n",
       "</style>\n",
       "<table border=\"1\" class=\"dataframe\">\n",
       "  <thead>\n",
       "    <tr style=\"text-align: right;\">\n",
       "      <th></th>\n",
       "      <th>index</th>\n",
       "      <th>rooms</th>\n",
       "      <th>sqft</th>\n",
       "      <th>toilets</th>\n",
       "      <th>image_id</th>\n",
       "    </tr>\n",
       "  </thead>\n",
       "  <tbody>\n",
       "    <tr>\n",
       "      <th>index</th>\n",
       "      <td>1.000000</td>\n",
       "      <td>0.094274</td>\n",
       "      <td>0.169649</td>\n",
       "      <td>0.096025</td>\n",
       "      <td>1.000000</td>\n",
       "    </tr>\n",
       "    <tr>\n",
       "      <th>rooms</th>\n",
       "      <td>0.094274</td>\n",
       "      <td>1.000000</td>\n",
       "      <td>0.669548</td>\n",
       "      <td>0.581140</td>\n",
       "      <td>0.094274</td>\n",
       "    </tr>\n",
       "    <tr>\n",
       "      <th>sqft</th>\n",
       "      <td>0.169649</td>\n",
       "      <td>0.669548</td>\n",
       "      <td>1.000000</td>\n",
       "      <td>0.671342</td>\n",
       "      <td>0.169649</td>\n",
       "    </tr>\n",
       "    <tr>\n",
       "      <th>toilets</th>\n",
       "      <td>0.096025</td>\n",
       "      <td>0.581140</td>\n",
       "      <td>0.671342</td>\n",
       "      <td>1.000000</td>\n",
       "      <td>0.096025</td>\n",
       "    </tr>\n",
       "    <tr>\n",
       "      <th>image_id</th>\n",
       "      <td>1.000000</td>\n",
       "      <td>0.094274</td>\n",
       "      <td>0.169649</td>\n",
       "      <td>0.096025</td>\n",
       "      <td>1.000000</td>\n",
       "    </tr>\n",
       "  </tbody>\n",
       "</table>\n",
       "</div>"
      ],
      "text/plain": [
       "             index     rooms      sqft   toilets  image_id\n",
       "index     1.000000  0.094274  0.169649  0.096025  1.000000\n",
       "rooms     0.094274  1.000000  0.669548  0.581140  0.094274\n",
       "sqft      0.169649  0.669548  1.000000  0.671342  0.169649\n",
       "toilets   0.096025  0.581140  0.671342  1.000000  0.096025\n",
       "image_id  1.000000  0.094274  0.169649  0.096025  1.000000"
      ]
     },
     "execution_count": 90,
     "metadata": {},
     "output_type": "execute_result"
    }
   ],
   "source": [
    "data_test.corr()"
   ]
  },
  {
   "cell_type": "markdown",
   "id": "0975856d",
   "metadata": {},
   "source": [
    "# Feature Engineering of Test Data"
   ]
  },
  {
   "cell_type": "code",
   "execution_count": 91,
   "id": "bf579dc1",
   "metadata": {},
   "outputs": [
    {
     "data": {
      "text/plain": [
       "[]"
      ]
     },
     "execution_count": 91,
     "metadata": {},
     "output_type": "execute_result"
    }
   ],
   "source": [
    "nan_test=[feature for feature in data_test.columns if data_test[feature].isnull().sum()>1]\n",
    "nan_test"
   ]
  },
  {
   "cell_type": "code",
   "execution_count": 92,
   "id": "e2538b48",
   "metadata": {},
   "outputs": [
    {
     "data": {
      "text/plain": [
       "array([117, 115,  98,  86,  85,  76,  70,  67,  65,  65,  61,  59,  55,\n",
       "        54,  53,  51,  45,  41,  41,  41,  41,  40,  39,  38,  37,  37,\n",
       "        35,  34,  34,  33,  32,  32,  31,  30,  29,  26,  26,  24,  24,\n",
       "        23,  23,  22,  22,  21,  21,  21,  20,  20,  20,  20,  20,  19,\n",
       "        18,  18,  17,  17,  17,  17,  17,  17,  16,  16,  16,  16,  16,\n",
       "        16,  16,  15,  14,  14,  13,  12,  12,  12,  12,  12,  12,  12,\n",
       "        12,  11,  11,  11,  11,  11,  11,  11,  11,  10,  10,  10,  10,\n",
       "        10,  10,   9,   9,   9,   9,   9,   9,   9,   9,   9,   8,   8,\n",
       "         8,   8,   8,   8,   8,   8,   8,   8,   8,   8,   8,   7,   7,\n",
       "         7,   7,   7,   7,   7,   7,   7,   7,   7,   7,   7,   7,   7,\n",
       "         7,   7,   7,   7,   6,   6,   6,   6,   6,   6,   6,   6,   6,\n",
       "         6,   6,   6,   6,   6,   6,   5,   5,   5,   5,   5,   5,   5,\n",
       "         5,   5,   5,   5,   5,   5,   5,   5,   5,   5,   5,   4,   4,\n",
       "         4,   4,   4,   4,   4,   4,   4,   4,   4,   4,   4,   4,   4,\n",
       "         4,   4,   4,   4,   3,   3,   3,   3,   3,   3,   3,   3,   3,\n",
       "         3,   3,   3,   3,   3,   3,   3,   3,   3,   3,   3,   3,   3,\n",
       "         3,   3,   3,   3,   3,   3,   3,   3,   3,   3,   3,   3,   3,\n",
       "         3,   3,   2,   2,   2,   2,   2,   2,   2,   2,   2,   2,   2,\n",
       "         2,   2,   2,   2,   2,   2,   2,   2,   2,   2,   2,   2,   2,\n",
       "         2,   2,   2,   2,   2,   2,   2,   2,   2,   2,   2,   2,   2,\n",
       "         2,   2,   1,   1,   1,   1,   1,   1,   1,   1,   1,   1,   1,\n",
       "         1,   1,   1,   1,   1,   1,   1,   1,   1,   1,   1,   1,   1,\n",
       "         1,   1,   1,   1,   1,   1,   1,   1,   1,   1,   1,   1,   1,\n",
       "         1,   1,   1,   1,   1,   1,   1,   1,   1,   1,   1,   1],\n",
       "      dtype=int64)"
      ]
     },
     "execution_count": 92,
     "metadata": {},
     "output_type": "execute_result"
    }
   ],
   "source": [
    "count=data_test['city'].value_counts()\n",
    "count.values"
   ]
  },
  {
   "cell_type": "code",
   "execution_count": 93,
   "id": "81bbdc62",
   "metadata": {},
   "outputs": [],
   "source": [
    "for city,val in zip(count.index,count):\n",
    "    if val<50:\n",
    "        data_test.replace(city,'other',inplace=True)"
   ]
  },
  {
   "cell_type": "code",
   "execution_count": 94,
   "id": "a54982f3",
   "metadata": {},
   "outputs": [
    {
     "data": {
      "text/html": [
       "<div>\n",
       "<style scoped>\n",
       "    .dataframe tbody tr th:only-of-type {\n",
       "        vertical-align: middle;\n",
       "    }\n",
       "\n",
       "    .dataframe tbody tr th {\n",
       "        vertical-align: top;\n",
       "    }\n",
       "\n",
       "    .dataframe thead th {\n",
       "        text-align: right;\n",
       "    }\n",
       "</style>\n",
       "<table border=\"1\" class=\"dataframe\">\n",
       "  <thead>\n",
       "    <tr style=\"text-align: right;\">\n",
       "      <th></th>\n",
       "      <th>index</th>\n",
       "      <th>rooms</th>\n",
       "      <th>address</th>\n",
       "      <th>city</th>\n",
       "      <th>sqft</th>\n",
       "      <th>toilets</th>\n",
       "      <th>image_id</th>\n",
       "    </tr>\n",
       "  </thead>\n",
       "  <tbody>\n",
       "    <tr>\n",
       "      <th>0</th>\n",
       "      <td>3076</td>\n",
       "      <td>3</td>\n",
       "      <td>33171 Sea Lion Drive</td>\n",
       "      <td>other</td>\n",
       "      <td>1510</td>\n",
       "      <td>2.0</td>\n",
       "      <td>3076</td>\n",
       "    </tr>\n",
       "    <tr>\n",
       "      <th>1</th>\n",
       "      <td>3218</td>\n",
       "      <td>4</td>\n",
       "      <td>33 Segovia</td>\n",
       "      <td>other</td>\n",
       "      <td>2342</td>\n",
       "      <td>3.0</td>\n",
       "      <td>3218</td>\n",
       "    </tr>\n",
       "    <tr>\n",
       "      <th>2</th>\n",
       "      <td>9213</td>\n",
       "      <td>2</td>\n",
       "      <td>1074 TAMARACK Road</td>\n",
       "      <td>other</td>\n",
       "      <td>2845</td>\n",
       "      <td>3.0</td>\n",
       "      <td>9213</td>\n",
       "    </tr>\n",
       "    <tr>\n",
       "      <th>3</th>\n",
       "      <td>10018</td>\n",
       "      <td>4</td>\n",
       "      <td>10989 Coalinga Avenue</td>\n",
       "      <td>other</td>\n",
       "      <td>2379</td>\n",
       "      <td>3.0</td>\n",
       "      <td>10018</td>\n",
       "    </tr>\n",
       "    <tr>\n",
       "      <th>4</th>\n",
       "      <td>11355</td>\n",
       "      <td>4</td>\n",
       "      <td>1128 Custer</td>\n",
       "      <td>other</td>\n",
       "      <td>1836</td>\n",
       "      <td>3.0</td>\n",
       "      <td>11355</td>\n",
       "    </tr>\n",
       "    <tr>\n",
       "      <th>...</th>\n",
       "      <td>...</td>\n",
       "      <td>...</td>\n",
       "      <td>...</td>\n",
       "      <td>...</td>\n",
       "      <td>...</td>\n",
       "      <td>...</td>\n",
       "      <td>...</td>\n",
       "    </tr>\n",
       "    <tr>\n",
       "      <th>3596</th>\n",
       "      <td>9421</td>\n",
       "      <td>4</td>\n",
       "      <td>14603 Baylor Avenue</td>\n",
       "      <td>other</td>\n",
       "      <td>2092</td>\n",
       "      <td>2.1</td>\n",
       "      <td>9421</td>\n",
       "    </tr>\n",
       "    <tr>\n",
       "      <th>3597</th>\n",
       "      <td>219</td>\n",
       "      <td>3</td>\n",
       "      <td>2301 Woodland Drive</td>\n",
       "      <td>other</td>\n",
       "      <td>2000</td>\n",
       "      <td>2.1</td>\n",
       "      <td>219</td>\n",
       "    </tr>\n",
       "    <tr>\n",
       "      <th>3598</th>\n",
       "      <td>10333</td>\n",
       "      <td>5</td>\n",
       "      <td>5771 Jasper Street</td>\n",
       "      <td>other</td>\n",
       "      <td>3002</td>\n",
       "      <td>3.1</td>\n",
       "      <td>10333</td>\n",
       "    </tr>\n",
       "    <tr>\n",
       "      <th>3599</th>\n",
       "      <td>2814</td>\n",
       "      <td>3</td>\n",
       "      <td>4490 Lincoln Avenue</td>\n",
       "      <td>Los Angeles, CA</td>\n",
       "      <td>1811</td>\n",
       "      <td>3.1</td>\n",
       "      <td>2814</td>\n",
       "    </tr>\n",
       "    <tr>\n",
       "      <th>3600</th>\n",
       "      <td>11190</td>\n",
       "      <td>3</td>\n",
       "      <td>1965 Fenoval Dr</td>\n",
       "      <td>other</td>\n",
       "      <td>1376</td>\n",
       "      <td>2.0</td>\n",
       "      <td>11190</td>\n",
       "    </tr>\n",
       "  </tbody>\n",
       "</table>\n",
       "<p>3601 rows × 7 columns</p>\n",
       "</div>"
      ],
      "text/plain": [
       "      index  rooms                address             city  sqft  toilets  \\\n",
       "0      3076      3   33171 Sea Lion Drive            other  1510      2.0   \n",
       "1      3218      4             33 Segovia            other  2342      3.0   \n",
       "2      9213      2     1074 TAMARACK Road            other  2845      3.0   \n",
       "3     10018      4  10989 Coalinga Avenue            other  2379      3.0   \n",
       "4     11355      4            1128 Custer            other  1836      3.0   \n",
       "...     ...    ...                    ...              ...   ...      ...   \n",
       "3596   9421      4    14603 Baylor Avenue            other  2092      2.1   \n",
       "3597    219      3    2301 Woodland Drive            other  2000      2.1   \n",
       "3598  10333      5     5771 Jasper Street            other  3002      3.1   \n",
       "3599   2814      3    4490 Lincoln Avenue  Los Angeles, CA  1811      3.1   \n",
       "3600  11190      3        1965 Fenoval Dr            other  1376      2.0   \n",
       "\n",
       "      image_id  \n",
       "0         3076  \n",
       "1         3218  \n",
       "2         9213  \n",
       "3        10018  \n",
       "4        11355  \n",
       "...        ...  \n",
       "3596      9421  \n",
       "3597       219  \n",
       "3598     10333  \n",
       "3599      2814  \n",
       "3600     11190  \n",
       "\n",
       "[3601 rows x 7 columns]"
      ]
     },
     "execution_count": 94,
     "metadata": {},
     "output_type": "execute_result"
    }
   ],
   "source": [
    "data_test"
   ]
  },
  {
   "cell_type": "code",
   "execution_count": 95,
   "id": "3110331f",
   "metadata": {},
   "outputs": [],
   "source": [
    "labels_ordered={k:i for i,k in enumerate(labels_ordered,0)}\n",
    "data_test['city']=data_test['city'].map(labels_ordered)"
   ]
  },
  {
   "cell_type": "code",
   "execution_count": 96,
   "id": "bdc1e3b1",
   "metadata": {},
   "outputs": [
    {
     "data": {
      "text/html": [
       "<div>\n",
       "<style scoped>\n",
       "    .dataframe tbody tr th:only-of-type {\n",
       "        vertical-align: middle;\n",
       "    }\n",
       "\n",
       "    .dataframe tbody tr th {\n",
       "        vertical-align: top;\n",
       "    }\n",
       "\n",
       "    .dataframe thead th {\n",
       "        text-align: right;\n",
       "    }\n",
       "</style>\n",
       "<table border=\"1\" class=\"dataframe\">\n",
       "  <thead>\n",
       "    <tr style=\"text-align: right;\">\n",
       "      <th></th>\n",
       "      <th>index</th>\n",
       "      <th>rooms</th>\n",
       "      <th>address</th>\n",
       "      <th>city</th>\n",
       "      <th>sqft</th>\n",
       "      <th>toilets</th>\n",
       "      <th>image_id</th>\n",
       "    </tr>\n",
       "  </thead>\n",
       "  <tbody>\n",
       "    <tr>\n",
       "      <th>0</th>\n",
       "      <td>3076</td>\n",
       "      <td>3</td>\n",
       "      <td>33171 Sea Lion Drive</td>\n",
       "      <td>74</td>\n",
       "      <td>1510</td>\n",
       "      <td>2.0</td>\n",
       "      <td>3076</td>\n",
       "    </tr>\n",
       "    <tr>\n",
       "      <th>1</th>\n",
       "      <td>3218</td>\n",
       "      <td>4</td>\n",
       "      <td>33 Segovia</td>\n",
       "      <td>74</td>\n",
       "      <td>2342</td>\n",
       "      <td>3.0</td>\n",
       "      <td>3218</td>\n",
       "    </tr>\n",
       "    <tr>\n",
       "      <th>2</th>\n",
       "      <td>9213</td>\n",
       "      <td>2</td>\n",
       "      <td>1074 TAMARACK Road</td>\n",
       "      <td>74</td>\n",
       "      <td>2845</td>\n",
       "      <td>3.0</td>\n",
       "      <td>9213</td>\n",
       "    </tr>\n",
       "    <tr>\n",
       "      <th>3</th>\n",
       "      <td>10018</td>\n",
       "      <td>4</td>\n",
       "      <td>10989 Coalinga Avenue</td>\n",
       "      <td>74</td>\n",
       "      <td>2379</td>\n",
       "      <td>3.0</td>\n",
       "      <td>10018</td>\n",
       "    </tr>\n",
       "    <tr>\n",
       "      <th>4</th>\n",
       "      <td>11355</td>\n",
       "      <td>4</td>\n",
       "      <td>1128 Custer</td>\n",
       "      <td>74</td>\n",
       "      <td>1836</td>\n",
       "      <td>3.0</td>\n",
       "      <td>11355</td>\n",
       "    </tr>\n",
       "    <tr>\n",
       "      <th>...</th>\n",
       "      <td>...</td>\n",
       "      <td>...</td>\n",
       "      <td>...</td>\n",
       "      <td>...</td>\n",
       "      <td>...</td>\n",
       "      <td>...</td>\n",
       "      <td>...</td>\n",
       "    </tr>\n",
       "    <tr>\n",
       "      <th>3596</th>\n",
       "      <td>9421</td>\n",
       "      <td>4</td>\n",
       "      <td>14603 Baylor Avenue</td>\n",
       "      <td>74</td>\n",
       "      <td>2092</td>\n",
       "      <td>2.1</td>\n",
       "      <td>9421</td>\n",
       "    </tr>\n",
       "    <tr>\n",
       "      <th>3597</th>\n",
       "      <td>219</td>\n",
       "      <td>3</td>\n",
       "      <td>2301 Woodland Drive</td>\n",
       "      <td>74</td>\n",
       "      <td>2000</td>\n",
       "      <td>2.1</td>\n",
       "      <td>219</td>\n",
       "    </tr>\n",
       "    <tr>\n",
       "      <th>3598</th>\n",
       "      <td>10333</td>\n",
       "      <td>5</td>\n",
       "      <td>5771 Jasper Street</td>\n",
       "      <td>74</td>\n",
       "      <td>3002</td>\n",
       "      <td>3.1</td>\n",
       "      <td>10333</td>\n",
       "    </tr>\n",
       "    <tr>\n",
       "      <th>3599</th>\n",
       "      <td>2814</td>\n",
       "      <td>3</td>\n",
       "      <td>4490 Lincoln Avenue</td>\n",
       "      <td>79</td>\n",
       "      <td>1811</td>\n",
       "      <td>3.1</td>\n",
       "      <td>2814</td>\n",
       "    </tr>\n",
       "    <tr>\n",
       "      <th>3600</th>\n",
       "      <td>11190</td>\n",
       "      <td>3</td>\n",
       "      <td>1965 Fenoval Dr</td>\n",
       "      <td>74</td>\n",
       "      <td>1376</td>\n",
       "      <td>2.0</td>\n",
       "      <td>11190</td>\n",
       "    </tr>\n",
       "  </tbody>\n",
       "</table>\n",
       "<p>3601 rows × 7 columns</p>\n",
       "</div>"
      ],
      "text/plain": [
       "      index  rooms                address  city  sqft  toilets  image_id\n",
       "0      3076      3   33171 Sea Lion Drive    74  1510      2.0      3076\n",
       "1      3218      4             33 Segovia    74  2342      3.0      3218\n",
       "2      9213      2     1074 TAMARACK Road    74  2845      3.0      9213\n",
       "3     10018      4  10989 Coalinga Avenue    74  2379      3.0     10018\n",
       "4     11355      4            1128 Custer    74  1836      3.0     11355\n",
       "...     ...    ...                    ...   ...   ...      ...       ...\n",
       "3596   9421      4    14603 Baylor Avenue    74  2092      2.1      9421\n",
       "3597    219      3    2301 Woodland Drive    74  2000      2.1       219\n",
       "3598  10333      5     5771 Jasper Street    74  3002      3.1     10333\n",
       "3599   2814      3    4490 Lincoln Avenue    79  1811      3.1      2814\n",
       "3600  11190      3        1965 Fenoval Dr    74  1376      2.0     11190\n",
       "\n",
       "[3601 rows x 7 columns]"
      ]
     },
     "execution_count": 96,
     "metadata": {},
     "output_type": "execute_result"
    }
   ],
   "source": [
    "data_test"
   ]
  },
  {
   "cell_type": "code",
   "execution_count": 97,
   "id": "bd8493a0",
   "metadata": {},
   "outputs": [],
   "source": [
    "data_test.drop(['address'],axis=1,inplace=True)"
   ]
  },
  {
   "cell_type": "code",
   "execution_count": 98,
   "id": "e63d9aef",
   "metadata": {},
   "outputs": [
    {
     "data": {
      "text/html": [
       "<style>#sk-container-id-9 {color: black;background-color: white;}#sk-container-id-9 pre{padding: 0;}#sk-container-id-9 div.sk-toggleable {background-color: white;}#sk-container-id-9 label.sk-toggleable__label {cursor: pointer;display: block;width: 100%;margin-bottom: 0;padding: 0.3em;box-sizing: border-box;text-align: center;}#sk-container-id-9 label.sk-toggleable__label-arrow:before {content: \"▸\";float: left;margin-right: 0.25em;color: #696969;}#sk-container-id-9 label.sk-toggleable__label-arrow:hover:before {color: black;}#sk-container-id-9 div.sk-estimator:hover label.sk-toggleable__label-arrow:before {color: black;}#sk-container-id-9 div.sk-toggleable__content {max-height: 0;max-width: 0;overflow: hidden;text-align: left;background-color: #f0f8ff;}#sk-container-id-9 div.sk-toggleable__content pre {margin: 0.2em;color: black;border-radius: 0.25em;background-color: #f0f8ff;}#sk-container-id-9 input.sk-toggleable__control:checked~div.sk-toggleable__content {max-height: 200px;max-width: 100%;overflow: auto;}#sk-container-id-9 input.sk-toggleable__control:checked~label.sk-toggleable__label-arrow:before {content: \"▾\";}#sk-container-id-9 div.sk-estimator input.sk-toggleable__control:checked~label.sk-toggleable__label {background-color: #d4ebff;}#sk-container-id-9 div.sk-label input.sk-toggleable__control:checked~label.sk-toggleable__label {background-color: #d4ebff;}#sk-container-id-9 input.sk-hidden--visually {border: 0;clip: rect(1px 1px 1px 1px);clip: rect(1px, 1px, 1px, 1px);height: 1px;margin: -1px;overflow: hidden;padding: 0;position: absolute;width: 1px;}#sk-container-id-9 div.sk-estimator {font-family: monospace;background-color: #f0f8ff;border: 1px dotted black;border-radius: 0.25em;box-sizing: border-box;margin-bottom: 0.5em;}#sk-container-id-9 div.sk-estimator:hover {background-color: #d4ebff;}#sk-container-id-9 div.sk-parallel-item::after {content: \"\";width: 100%;border-bottom: 1px solid gray;flex-grow: 1;}#sk-container-id-9 div.sk-label:hover label.sk-toggleable__label {background-color: #d4ebff;}#sk-container-id-9 div.sk-serial::before {content: \"\";position: absolute;border-left: 1px solid gray;box-sizing: border-box;top: 0;bottom: 0;left: 50%;z-index: 0;}#sk-container-id-9 div.sk-serial {display: flex;flex-direction: column;align-items: center;background-color: white;padding-right: 0.2em;padding-left: 0.2em;position: relative;}#sk-container-id-9 div.sk-item {position: relative;z-index: 1;}#sk-container-id-9 div.sk-parallel {display: flex;align-items: stretch;justify-content: center;background-color: white;position: relative;}#sk-container-id-9 div.sk-item::before, #sk-container-id-9 div.sk-parallel-item::before {content: \"\";position: absolute;border-left: 1px solid gray;box-sizing: border-box;top: 0;bottom: 0;left: 50%;z-index: -1;}#sk-container-id-9 div.sk-parallel-item {display: flex;flex-direction: column;z-index: 1;position: relative;background-color: white;}#sk-container-id-9 div.sk-parallel-item:first-child::after {align-self: flex-end;width: 50%;}#sk-container-id-9 div.sk-parallel-item:last-child::after {align-self: flex-start;width: 50%;}#sk-container-id-9 div.sk-parallel-item:only-child::after {width: 0;}#sk-container-id-9 div.sk-dashed-wrapped {border: 1px dashed gray;margin: 0 0.4em 0.5em 0.4em;box-sizing: border-box;padding-bottom: 0.4em;background-color: white;}#sk-container-id-9 div.sk-label label {font-family: monospace;font-weight: bold;display: inline-block;line-height: 1.2em;}#sk-container-id-9 div.sk-label-container {text-align: center;}#sk-container-id-9 div.sk-container {/* jupyter's `normalize.less` sets `[hidden] { display: none; }` but bootstrap.min.css set `[hidden] { display: none !important; }` so we also need the `!important` here to be able to override the default hidden behavior on the sphinx rendered scikit-learn.org. See: https://github.com/scikit-learn/scikit-learn/issues/21755 */display: inline-block !important;position: relative;}#sk-container-id-9 div.sk-text-repr-fallback {display: none;}</style><div id=\"sk-container-id-9\" class=\"sk-top-container\"><div class=\"sk-text-repr-fallback\"><pre>MinMaxScaler()</pre><b>In a Jupyter environment, please rerun this cell to show the HTML representation or trust the notebook. <br />On GitHub, the HTML representation is unable to render, please try loading this page with nbviewer.org.</b></div><div class=\"sk-container\" hidden><div class=\"sk-item\"><div class=\"sk-estimator sk-toggleable\"><input class=\"sk-toggleable__control sk-hidden--visually\" id=\"sk-estimator-id-11\" type=\"checkbox\" checked><label for=\"sk-estimator-id-11\" class=\"sk-toggleable__label sk-toggleable__label-arrow\">MinMaxScaler</label><div class=\"sk-toggleable__content\"><pre>MinMaxScaler()</pre></div></div></div></div></div>"
      ],
      "text/plain": [
       "MinMaxScaler()"
      ]
     },
     "execution_count": 98,
     "metadata": {},
     "output_type": "execute_result"
    }
   ],
   "source": [
    "feature_scale=[feature for feature in data_test.columns]\n",
    "\n",
    "from sklearn.preprocessing import MinMaxScaler\n",
    "scaler=MinMaxScaler(copy=True,feature_range=(0,1))\n",
    "scaler.fit(data_test[feature_scale])"
   ]
  },
  {
   "cell_type": "code",
   "execution_count": 99,
   "id": "a1def1cb",
   "metadata": {},
   "outputs": [
    {
     "data": {
      "text/plain": [
       "array([[0.25614737, 0.22222222, 0.77173913, 0.06428447, 0.05555556,\n",
       "        0.25614737],\n",
       "       [0.26798366, 0.33333333, 0.77173913, 0.11246887, 0.08333333,\n",
       "        0.26798366],\n",
       "       [0.76769192, 0.11111111, 0.77173913, 0.14159958, 0.08333333,\n",
       "        0.76769192],\n",
       "       ...,\n",
       "       [0.8610486 , 0.44444444, 0.77173913, 0.15069207, 0.08611111,\n",
       "        0.8610486 ],\n",
       "       [0.23430858, 0.22222222, 0.82608696, 0.08171657, 0.08611111,\n",
       "        0.23430858],\n",
       "       [0.93248312, 0.22222222, 0.77173913, 0.05652401, 0.05555556,\n",
       "        0.93248312]])"
      ]
     },
     "execution_count": 99,
     "metadata": {},
     "output_type": "execute_result"
    }
   ],
   "source": [
    "scaler.transform(data_test[feature_scale])"
   ]
  },
  {
   "cell_type": "code",
   "execution_count": 100,
   "id": "2c6bed7a",
   "metadata": {},
   "outputs": [],
   "source": [
    "data_test =pd.DataFrame(scaler.transform(data_test[feature_scale]), columns=feature_scale)"
   ]
  },
  {
   "cell_type": "code",
   "execution_count": 101,
   "id": "463f76a5",
   "metadata": {},
   "outputs": [],
   "source": [
    "data_test.drop(['index'],axis=1,inplace=True)"
   ]
  },
  {
   "cell_type": "code",
   "execution_count": 102,
   "id": "0325b676",
   "metadata": {},
   "outputs": [],
   "source": [
    "X_t=data_test.copy()\n",
    "X_t['sqft']=np.sqrt(np.sqrt(X_t['sqft']))"
   ]
  },
  {
   "cell_type": "code",
   "execution_count": 103,
   "id": "f45e1c97",
   "metadata": {},
   "outputs": [],
   "source": [
    "y_pred=XGB.predict(X_t)"
   ]
  },
  {
   "cell_type": "code",
   "execution_count": 104,
   "id": "83dfdc57",
   "metadata": {},
   "outputs": [
    {
     "data": {
      "text/plain": [
       "array([1271262.8 , 1269065.4 ,  448379.75, ...,  591242.4 ,  956615.94,\n",
       "        395605.94], dtype=float32)"
      ]
     },
     "execution_count": 104,
     "metadata": {},
     "output_type": "execute_result"
    }
   ],
   "source": [
    "y_pred"
   ]
  },
  {
   "cell_type": "code",
   "execution_count": 107,
   "id": "39b302d9",
   "metadata": {},
   "outputs": [
    {
     "data": {
      "text/plain": [
       "0        3076\n",
       "1        3218\n",
       "2        9213\n",
       "3       10018\n",
       "4       11355\n",
       "        ...  \n",
       "3596     9421\n",
       "3597      219\n",
       "3598    10333\n",
       "3599     2814\n",
       "3600    11190\n",
       "Name: index, Length: 3601, dtype: int64"
      ]
     },
     "execution_count": 107,
     "metadata": {},
     "output_type": "execute_result"
    }
   ],
   "source": [
    "index=data_test['index']\n",
    "index"
   ]
  },
  {
   "cell_type": "code",
   "execution_count": 108,
   "id": "e67832be",
   "metadata": {},
   "outputs": [],
   "source": [
    "submission=pd.DataFrame(index,columns=['index'])"
   ]
  },
  {
   "cell_type": "code",
   "execution_count": 109,
   "id": "f93aa865",
   "metadata": {},
   "outputs": [],
   "source": [
    "submission['retail_price']=y_pred"
   ]
  },
  {
   "cell_type": "code",
   "execution_count": 110,
   "id": "77ac0bd8",
   "metadata": {},
   "outputs": [
    {
     "data": {
      "text/html": [
       "<div>\n",
       "<style scoped>\n",
       "    .dataframe tbody tr th:only-of-type {\n",
       "        vertical-align: middle;\n",
       "    }\n",
       "\n",
       "    .dataframe tbody tr th {\n",
       "        vertical-align: top;\n",
       "    }\n",
       "\n",
       "    .dataframe thead th {\n",
       "        text-align: right;\n",
       "    }\n",
       "</style>\n",
       "<table border=\"1\" class=\"dataframe\">\n",
       "  <thead>\n",
       "    <tr style=\"text-align: right;\">\n",
       "      <th></th>\n",
       "      <th>index</th>\n",
       "      <th>retail_price</th>\n",
       "    </tr>\n",
       "  </thead>\n",
       "  <tbody>\n",
       "    <tr>\n",
       "      <th>0</th>\n",
       "      <td>3076</td>\n",
       "      <td>1.271263e+06</td>\n",
       "    </tr>\n",
       "    <tr>\n",
       "      <th>1</th>\n",
       "      <td>3218</td>\n",
       "      <td>1.269065e+06</td>\n",
       "    </tr>\n",
       "    <tr>\n",
       "      <th>2</th>\n",
       "      <td>9213</td>\n",
       "      <td>4.483798e+05</td>\n",
       "    </tr>\n",
       "    <tr>\n",
       "      <th>3</th>\n",
       "      <td>10018</td>\n",
       "      <td>5.973453e+05</td>\n",
       "    </tr>\n",
       "    <tr>\n",
       "      <th>4</th>\n",
       "      <td>11355</td>\n",
       "      <td>3.455598e+05</td>\n",
       "    </tr>\n",
       "    <tr>\n",
       "      <th>...</th>\n",
       "      <td>...</td>\n",
       "      <td>...</td>\n",
       "    </tr>\n",
       "    <tr>\n",
       "      <th>3596</th>\n",
       "      <td>9421</td>\n",
       "      <td>4.463785e+05</td>\n",
       "    </tr>\n",
       "    <tr>\n",
       "      <th>3597</th>\n",
       "      <td>219</td>\n",
       "      <td>5.570286e+05</td>\n",
       "    </tr>\n",
       "    <tr>\n",
       "      <th>3598</th>\n",
       "      <td>10333</td>\n",
       "      <td>5.912424e+05</td>\n",
       "    </tr>\n",
       "    <tr>\n",
       "      <th>3599</th>\n",
       "      <td>2814</td>\n",
       "      <td>9.566159e+05</td>\n",
       "    </tr>\n",
       "    <tr>\n",
       "      <th>3600</th>\n",
       "      <td>11190</td>\n",
       "      <td>3.956059e+05</td>\n",
       "    </tr>\n",
       "  </tbody>\n",
       "</table>\n",
       "<p>3601 rows × 2 columns</p>\n",
       "</div>"
      ],
      "text/plain": [
       "      index  retail_price\n",
       "0      3076  1.271263e+06\n",
       "1      3218  1.269065e+06\n",
       "2      9213  4.483798e+05\n",
       "3     10018  5.973453e+05\n",
       "4     11355  3.455598e+05\n",
       "...     ...           ...\n",
       "3596   9421  4.463785e+05\n",
       "3597    219  5.570286e+05\n",
       "3598  10333  5.912424e+05\n",
       "3599   2814  9.566159e+05\n",
       "3600  11190  3.956059e+05\n",
       "\n",
       "[3601 rows x 2 columns]"
      ]
     },
     "execution_count": 110,
     "metadata": {},
     "output_type": "execute_result"
    }
   ],
   "source": [
    "submission"
   ]
  },
  {
   "cell_type": "code",
   "execution_count": 125,
   "id": "a8feb666",
   "metadata": {},
   "outputs": [],
   "source": [
    "celesta=submission.to_csv('celesta_submit.csv',index=None)"
   ]
  }
 ],
 "metadata": {
  "kernelspec": {
   "display_name": "Python 3 (ipykernel)",
   "language": "python",
   "name": "python3"
  },
  "language_info": {
   "codemirror_mode": {
    "name": "ipython",
    "version": 3
   },
   "file_extension": ".py",
   "mimetype": "text/x-python",
   "name": "python",
   "nbconvert_exporter": "python",
   "pygments_lexer": "ipython3",
   "version": "3.9.15"
  }
 },
 "nbformat": 4,
 "nbformat_minor": 5
}
